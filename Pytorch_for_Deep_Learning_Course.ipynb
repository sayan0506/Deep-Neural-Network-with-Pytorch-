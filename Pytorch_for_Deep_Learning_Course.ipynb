{
  "nbformat": 4,
  "nbformat_minor": 0,
  "metadata": {
    "colab": {
      "name": "Pytorch for Deep Learning Course.ipynb",
      "provenance": [],
      "collapsed_sections": [],
      "authorship_tag": "ABX9TyNb8F6IwVj597k52M64uot+",
      "include_colab_link": true
    },
    "kernelspec": {
      "name": "python3",
      "display_name": "Python 3"
    }
  },
  "cells": [
    {
      "cell_type": "markdown",
      "metadata": {
        "id": "view-in-github",
        "colab_type": "text"
      },
      "source": [
        "<a href=\"https://colab.research.google.com/github/sayan0506/Deep-Neural-Network-with-Pytorch-/blob/main/Pytorch_for_Deep_Learning_Course.ipynb\" target=\"_parent\"><img src=\"https://colab.research.google.com/assets/colab-badge.svg\" alt=\"Open In Colab\"/></a>"
      ]
    },
    {
      "cell_type": "code",
      "metadata": {
        "id": "oSV1ZXdFdIY8"
      },
      "source": [
        "import torch"
      ],
      "execution_count": 1,
      "outputs": []
    },
    {
      "cell_type": "code",
      "metadata": {
        "id": "7oQhvOs-dYd_"
      },
      "source": [
        "# we are creating a 0 dimensional tensor of type float32\n",
        "# tensors are heart of Deep lEarning\n",
        "# pytorch is a deep learning framework\n",
        "t1 = torch.tensor(4.0, dtype = torch.float32)"
      ],
      "execution_count": 2,
      "outputs": []
    },
    {
      "cell_type": "code",
      "metadata": {
        "id": "2dL6ABYhoT-4",
        "outputId": "118b1068-171f-4d0d-e1b8-bdc81be8ee64",
        "colab": {
          "base_uri": "https://localhost:8080/",
          "height": 34
        }
      },
      "source": [
        "# we can find details\n",
        "# it is the datatype of the values stored in the tensor\n",
        "t1.dtype"
      ],
      "execution_count": 3,
      "outputs": [
        {
          "output_type": "execute_result",
          "data": {
            "text/plain": [
              "torch.float32"
            ]
          },
          "metadata": {
            "tags": []
          },
          "execution_count": 3
        }
      ]
    },
    {
      "cell_type": "code",
      "metadata": {
        "id": "t9ZZ-PZmopwk",
        "outputId": "8edb9276-fdfc-4a8f-e4b4-09b33e8fb10d",
        "colab": {
          "base_uri": "https://localhost:8080/",
          "height": 34
        }
      },
      "source": [
        "# type of tensor\n",
        "t1.type"
      ],
      "execution_count": 4,
      "outputs": [
        {
          "output_type": "execute_result",
          "data": {
            "text/plain": [
              "<function Tensor.type>"
            ]
          },
          "metadata": {
            "tags": []
          },
          "execution_count": 4
        }
      ]
    },
    {
      "cell_type": "code",
      "metadata": {
        "id": "TmFD8rh1ozlM",
        "outputId": "58030376-aebf-4960-8606-f9300f37d942",
        "colab": {
          "base_uri": "https://localhost:8080/",
          "height": 34
        }
      },
      "source": [
        "# creatinfg tensor from a list\n",
        "t2 = torch.tensor([1,2,3])\n",
        "print(t2)"
      ],
      "execution_count": 5,
      "outputs": [
        {
          "output_type": "stream",
          "text": [
            "tensor([1, 2, 3])\n"
          ],
          "name": "stdout"
        }
      ]
    },
    {
      "cell_type": "code",
      "metadata": {
        "id": "LmmAb2Noo-jg",
        "outputId": "5fb61c55-c1ce-46be-8f83-92ceea11a52c",
        "colab": {
          "base_uri": "https://localhost:8080/",
          "height": 70
        }
      },
      "source": [
        "# creating tensor from matrix\n",
        "t3 = torch.tensor([[1,2],[3,4],[5,6]], dtype = torch.float32)\n",
        "print(t3)"
      ],
      "execution_count": 6,
      "outputs": [
        {
          "output_type": "stream",
          "text": [
            "tensor([[1., 2.],\n",
            "        [3., 4.],\n",
            "        [5., 6.]])\n"
          ],
          "name": "stdout"
        }
      ]
    },
    {
      "cell_type": "code",
      "metadata": {
        "id": "7JRtxGVBpCVE",
        "outputId": "efff5b40-5ca4-4385-a5b2-b080b6855133",
        "colab": {
          "base_uri": "https://localhost:8080/",
          "height": 52
        }
      },
      "source": [
        "# checking the dimension of the tensor\n",
        "# a tensor should have a regular no of shape, if we change length in the sequence of rows, then it will throw error, so should be uniform in shape\n",
        "# like no of elements in each row will be the same\n",
        "print('shape: ', t3.shape)\n",
        "print(t3.ndimension())"
      ],
      "execution_count": 7,
      "outputs": [
        {
          "output_type": "stream",
          "text": [
            "shape:  torch.Size([3, 2])\n",
            "2\n"
          ],
          "name": "stdout"
        }
      ]
    },
    {
      "cell_type": "markdown",
      "metadata": {
        "id": "UtvidaPZteCw"
      },
      "source": [
        "# Tensor operation and gradient"
      ]
    },
    {
      "cell_type": "code",
      "metadata": {
        "id": "wjTwF4FEs73G"
      },
      "source": [
        "# creating three tensors\n",
        "x = torch.tensor(3, dtype = torch.float32)\n",
        "# here we are passing the requires_grad = True, so as to ensure that, ptorch can calculate gradient of that 0 d tensor with the help of backward porpagation\n",
        "w = torch.tensor(4, dtype = torch.float32, requires_grad=True)\n",
        "b = torch.tensor(5, dtype = torch.float32, requires_grad=True)"
      ],
      "execution_count": 8,
      "outputs": []
    },
    {
      "cell_type": "code",
      "metadata": {
        "id": "-hhZZny_mVQY",
        "outputId": "5287b4ff-d42b-4a82-eca4-ad44e5b0fa57",
        "colab": {
          "base_uri": "https://localhost:8080/",
          "height": 34
        }
      },
      "source": [
        "# linear regression(univariant)\n",
        "y = w * x + b\n",
        "print(y)"
      ],
      "execution_count": 9,
      "outputs": [
        {
          "output_type": "stream",
          "text": [
            "tensor(17., grad_fn=<AddBackward0>)\n"
          ],
          "name": "stdout"
        }
      ]
    },
    {
      "cell_type": "code",
      "metadata": {
        "id": "WTpNZiAnnJ-d"
      },
      "source": [
        "# compute derivatives\n",
        "y.backward()"
      ],
      "execution_count": 10,
      "outputs": []
    },
    {
      "cell_type": "code",
      "metadata": {
        "id": "Hv2vMOruoKQy",
        "outputId": "a851a78c-cd45-45fd-8a07-a16ddb4c4388",
        "colab": {
          "base_uri": "https://localhost:8080/",
          "height": 70
        }
      },
      "source": [
        "print('dy/dx:', x.grad)\n",
        "print('dy/dw:', w.grad)\n",
        "print('dy/db:', b.grad.data)"
      ],
      "execution_count": 11,
      "outputs": [
        {
          "output_type": "stream",
          "text": [
            "dy/dx: None\n",
            "dy/dw: tensor(3.)\n",
            "dy/db: tensor(1.)\n"
          ],
          "name": "stdout"
        }
      ]
    },
    {
      "cell_type": "markdown",
      "metadata": {
        "id": "QOvtzJ5UomhG"
      },
      "source": [
        "# Interoperability with Numpy"
      ]
    },
    {
      "cell_type": "code",
      "metadata": {
        "id": "dBMBtlMiodFq",
        "outputId": "12e06d5e-ddc1-4508-a2aa-9637a8298521",
        "colab": {
          "base_uri": "https://localhost:8080/",
          "height": 34
        }
      },
      "source": [
        "# we can easily convert pytorch to numpy or vice-versa\n",
        "# torch to numpy\n",
        "print(y.detach().numpy())"
      ],
      "execution_count": 12,
      "outputs": [
        {
          "output_type": "stream",
          "text": [
            "17.0\n"
          ],
          "name": "stdout"
        }
      ]
    },
    {
      "cell_type": "code",
      "metadata": {
        "id": "U0o_WRWKpCqh",
        "outputId": "22b37745-a402-4906-a438-8978979a4947",
        "colab": {
          "base_uri": "https://localhost:8080/",
          "height": 34
        }
      },
      "source": [
        "# numpy to torch\n",
        "import numpy as np\n",
        "\n",
        "print(torch.from_numpy(np.array([1,2,3])))"
      ],
      "execution_count": 13,
      "outputs": [
        {
          "output_type": "stream",
          "text": [
            "tensor([1, 2, 3])\n"
          ],
          "name": "stdout"
        }
      ]
    },
    {
      "cell_type": "markdown",
      "metadata": {
        "id": "p-Z9C4lYqYdk"
      },
      "source": [
        "y.backward() works for any complex function, which is differentiable"
      ]
    },
    {
      "cell_type": "code",
      "metadata": {
        "id": "b7HY4WnEpYHB"
      },
      "source": [
        "# create random weights and biases tensors\n",
        "w = torch.randn(2,3, requires_grad=True)\n",
        "b = torch.randn(2, requires_grad= True)"
      ],
      "execution_count": 14,
      "outputs": []
    },
    {
      "cell_type": "code",
      "metadata": {
        "id": "ghL6fQiU3BOl",
        "outputId": "f1a7ef16-7f06-4a35-9d1f-737c57b2131c",
        "colab": {
          "base_uri": "https://localhost:8080/",
          "height": 70
        }
      },
      "source": [
        "print(w)\n",
        "print(b)"
      ],
      "execution_count": 15,
      "outputs": [
        {
          "output_type": "stream",
          "text": [
            "tensor([[ 0.7481, -1.7116, -0.1718],\n",
            "        [-1.1395, -0.3362, -1.0678]], requires_grad=True)\n",
            "tensor([-1.4717,  0.1001], requires_grad=True)\n"
          ],
          "name": "stdout"
        }
      ]
    },
    {
      "cell_type": "code",
      "metadata": {
        "id": "M6-2QaNZ3Byx"
      },
      "source": [
        "# creating the linear regression model\n",
        "# as w is multiplies with transpose thus. w.t() is the transpose of w\n",
        "# in pytorch @ represents the matrix multiplication for torch tensors\n",
        "def model(x):\n",
        "  return x @ w.t() + b\n"
      ],
      "execution_count": 16,
      "outputs": []
    },
    {
      "cell_type": "code",
      "metadata": {
        "id": "yaboiNIe33AA"
      },
      "source": [
        "# create inputs and targets tensors for the model\n",
        "inputs = np.array([[73, 67, 43],\n",
        "                   [91, 88, 64],\n",
        "                   [87, 134, 58]], dtype = np.float32)\n",
        "targets = np.array([[56, 70],\n",
        "                    [81, 101],\n",
        "                    [119, 133]], dtype = np.float32)"
      ],
      "execution_count": 17,
      "outputs": []
    },
    {
      "cell_type": "code",
      "metadata": {
        "id": "hTXnj5rhaVy-"
      },
      "source": [
        "# converting to pytorch tensors\n",
        "inputs = torch.from_numpy(inputs)\n",
        "targets = torch.from_numpy(targets)"
      ],
      "execution_count": 18,
      "outputs": []
    },
    {
      "cell_type": "code",
      "metadata": {
        "id": "Ib6OtK8MazVz",
        "outputId": "64214f26-333b-4679-c317-b57a9e182344",
        "colab": {
          "base_uri": "https://localhost:8080/",
          "height": 123
        }
      },
      "source": [
        "print(inputs)\n",
        "print(targets)"
      ],
      "execution_count": 19,
      "outputs": [
        {
          "output_type": "stream",
          "text": [
            "tensor([[ 73.,  67.,  43.],\n",
            "        [ 91.,  88.,  64.],\n",
            "        [ 87., 134.,  58.]])\n",
            "tensor([[ 56.,  70.],\n",
            "        [ 81., 101.],\n",
            "        [119., 133.]])\n"
          ],
          "name": "stdout"
        }
      ]
    },
    {
      "cell_type": "code",
      "metadata": {
        "id": "e_gdFOJ_a3Cz"
      },
      "source": [
        "# our data consist of 3 datapoints, each with 2 input features"
      ],
      "execution_count": 20,
      "outputs": []
    },
    {
      "cell_type": "code",
      "metadata": {
        "id": "wkltHBuTbCF7",
        "outputId": "c2b47212-65e3-426d-e2de-22cd9a2317fe",
        "colab": {
          "base_uri": "https://localhost:8080/",
          "height": 70
        }
      },
      "source": [
        "# for model training creating a w and b\n",
        "w = torch.randn(2,3, requires_grad=True)\n",
        "b = torch.randn(2, requires_grad= True)\n",
        "print(w)\n",
        "print(b)"
      ],
      "execution_count": 21,
      "outputs": [
        {
          "output_type": "stream",
          "text": [
            "tensor([[ 0.6106, -0.6944, -0.5947],\n",
            "        [-0.3698,  1.4410,  0.0671]], requires_grad=True)\n",
            "tensor([-0.7660,  0.1691], requires_grad=True)\n"
          ],
          "name": "stdout"
        }
      ]
    },
    {
      "cell_type": "code",
      "metadata": {
        "id": "1Ia8GrnLbvPz",
        "outputId": "9c418046-d27d-4593-c7f7-0ad1efe662fa",
        "colab": {
          "base_uri": "https://localhost:8080/",
          "height": 70
        }
      },
      "source": [
        "preds = model(inputs)\n",
        "print(inputs)"
      ],
      "execution_count": 22,
      "outputs": [
        {
          "output_type": "stream",
          "text": [
            "tensor([[ 73.,  67.,  43.],\n",
            "        [ 91.,  88.,  64.],\n",
            "        [ 87., 134.,  58.]])\n"
          ],
          "name": "stdout"
        }
      ]
    },
    {
      "cell_type": "code",
      "metadata": {
        "id": "zIsVvzP7cZRA",
        "outputId": "da4f9cbe-0176-40e0-9fea-478ee726ad8f",
        "colab": {
          "base_uri": "https://localhost:8080/",
          "height": 34
        }
      },
      "source": [
        "# defining a function for mean squared error\n",
        "def mse(t1, t2):\n",
        "  return torch.mean((t1 - t2)**2)\n",
        "print(mse(targets, preds))"
      ],
      "execution_count": 23,
      "outputs": [
        {
          "output_type": "stream",
          "text": [
            "tensor(10262.1992, grad_fn=<MeanBackward0>)\n"
          ],
          "name": "stdout"
        }
      ]
    },
    {
      "cell_type": "code",
      "metadata": {
        "id": "Sf3z3fhldX8x"
      },
      "source": [
        "# so loss is too high, thus we need to tune the parameters to reduce the loss"
      ],
      "execution_count": 24,
      "outputs": []
    },
    {
      "cell_type": "code",
      "metadata": {
        "id": "yOcVu5R_dhOg",
        "outputId": "a4a4e921-2044-4ac7-e977-b108be3011eb",
        "colab": {
          "base_uri": "https://localhost:8080/",
          "height": 87
        }
      },
      "source": [
        "loss = mse(targets, preds)\n",
        "loss.backward()\n",
        "print(w)\n",
        "print(w.grad)"
      ],
      "execution_count": 25,
      "outputs": [
        {
          "output_type": "stream",
          "text": [
            "tensor([[ 0.6106, -0.6944, -0.5947],\n",
            "        [-0.3698,  1.4410,  0.0671]], requires_grad=True)\n",
            "tensor([[-11485.5000, -14233.8438,  -7637.0854],\n",
            "        [   888.0894,   1387.2500,    583.3824]])\n"
          ],
          "name": "stdout"
        }
      ]
    },
    {
      "cell_type": "code",
      "metadata": {
        "id": "wL5geuFydzGZ",
        "outputId": "20c9af01-04cb-4fac-c5d4-b51690da065f",
        "colab": {
          "base_uri": "https://localhost:8080/",
          "height": 34
        }
      },
      "source": [
        "print(b.grad)"
      ],
      "execution_count": 26,
      "outputs": [
        {
          "output_type": "stream",
          "text": [
            "tensor([-134.6172,   10.3994])\n"
          ],
          "name": "stdout"
        }
      ]
    },
    {
      "cell_type": "code",
      "metadata": {
        "id": "bLkkjujheHuo",
        "outputId": "9e317538-04cf-467a-8d8d-faf1f0817dd0",
        "colab": {
          "base_uri": "https://localhost:8080/",
          "height": 52
        }
      },
      "source": [
        "# setting grads to zero\n",
        "\n",
        "w.grad.zero_()\n",
        "b.grad.zero_()\n",
        "print(w.grad, b.grad)"
      ],
      "execution_count": 27,
      "outputs": [
        {
          "output_type": "stream",
          "text": [
            "tensor([[0., 0., 0.],\n",
            "        [0., 0., 0.]]) tensor([0., 0.])\n"
          ],
          "name": "stdout"
        }
      ]
    },
    {
      "cell_type": "code",
      "metadata": {
        "id": "64OLPqNhfNe_"
      },
      "source": [
        "# adjusting weights and biases with Gradient descent\n",
        "# we can't subtract gradient from w, so we introduce learning rate, i.e we include fraction or rate of grads, and by which we can also say that\n",
        "# VVIMP: using learning rate we can continue to maintain the variance of the w.grad as constant, i.e maintain the grads in a limit\n",
        "with torch.no_grad():\n",
        "  w -= w.grad * 1e-5\n",
        "  b -= b.grad * 1e-5\n",
        "  w.grad.zero_()\n",
        "  b.grad.zero_()\n",
        "\n",
        "# here we are using with torch.no_grad() which ensures pytorch that, it should not do any grad calculation while subtracting"
      ],
      "execution_count": 28,
      "outputs": []
    },
    {
      "cell_type": "code",
      "metadata": {
        "id": "lGQAfGtqfZLn"
      },
      "source": [
        "# in python for instant help about a module \n",
        "?torch"
      ],
      "execution_count": 29,
      "outputs": []
    },
    {
      "cell_type": "code",
      "metadata": {
        "id": "UrPrkNA8kH71",
        "outputId": "a15543fa-4f65-4ba1-c605-a09613f180f9",
        "colab": {
          "base_uri": "https://localhost:8080/",
          "height": 34
        }
      },
      "source": [
        "# as inputs is a tensor, to find out the value stored in the tensor instead of 0 d tensor, we use tensor.item()\n",
        "inputs[0][0].item() "
      ],
      "execution_count": 30,
      "outputs": [
        {
          "output_type": "execute_result",
          "data": {
            "text/plain": [
              "73.0"
            ]
          },
          "metadata": {
            "tags": []
          },
          "execution_count": 30
        }
      ]
    },
    {
      "cell_type": "code",
      "metadata": {
        "id": "SGR-ROvcleaJ"
      },
      "source": [
        "# to reduce the loss run several epochs\n",
        "for i in range(10000):\n",
        "  preds = model(inputs)\n",
        "  loss = mse(preds,targets)\n",
        "  loss.backward()\n",
        "  with torch.no_grad():\n",
        "    w -= w.grad * 1e-05\n",
        "    b -= b.grad * 1e-05\n",
        "    w.grad.zero_()\n",
        "    b.grad.zero_()"
      ],
      "execution_count": 36,
      "outputs": []
    },
    {
      "cell_type": "code",
      "metadata": {
        "id": "4tQwIn4DjT1B",
        "outputId": "3c0a5f5f-655d-4f37-fddc-80b15d004c87",
        "colab": {
          "base_uri": "https://localhost:8080/",
          "height": 34
        }
      },
      "source": [
        "print(mse(preds, targets))"
      ],
      "execution_count": 37,
      "outputs": [
        {
          "output_type": "stream",
          "text": [
            "tensor(1.7731, grad_fn=<MeanBackward0>)\n"
          ],
          "name": "stdout"
        }
      ]
    },
    {
      "cell_type": "markdown",
      "metadata": {
        "id": "Q6Apkoftk0fK"
      },
      "source": [
        "# Using nn modules in pytorch"
      ]
    },
    {
      "cell_type": "code",
      "metadata": {
        "id": "iaAB1FmVjaPs"
      },
      "source": [
        "import torch.nn as nn "
      ],
      "execution_count": 38,
      "outputs": []
    },
    {
      "cell_type": "code",
      "metadata": {
        "id": "_QXdAGSpk-Ts"
      },
      "source": [
        "# inputs\n",
        "inputs = np.array([[73, 67, 43], [91,88,64],[87,134,58],[102,43,37],\n",
        "                   [69, 96, 70], [87,134,58], [102,43,37],[91,88,64]])\n",
        "# targets\n",
        "targets = np.array([[56,70],[81,101],[119,133],[22,37],[103,119],\n",
        "                    [119, 133],[22,37],[81,101]])"
      ],
      "execution_count": 40,
      "outputs": []
    },
    {
      "cell_type": "code",
      "metadata": {
        "id": "gLrV8-tjl3Vp"
      },
      "source": [
        "# converting to pytorch tensors\n",
        "inputs = torch.from_numpy(inputs)\n",
        "targets = torch.from_numpy(targets)\n"
      ],
      "execution_count": 43,
      "outputs": []
    },
    {
      "cell_type": "markdown",
      "metadata": {
        "id": "6n10dog4r369"
      },
      "source": [
        "# Dataset and dataloader"
      ]
    },
    {
      "cell_type": "code",
      "metadata": {
        "id": "6b1SHqMco2vP"
      },
      "source": [
        "# the dataset or Tensordataset helps to access the rows of pytorch tensor or the dataset in a more efficient way\n",
        "from torch.utils.data import TensorDataset"
      ],
      "execution_count": 44,
      "outputs": []
    },
    {
      "cell_type": "code",
      "metadata": {
        "id": "C1JLsFfmsxVW",
        "outputId": "070d8de8-bca6-4abf-c5fd-ee8f0096c869",
        "colab": {
          "base_uri": "https://localhost:8080/",
          "height": 105
        }
      },
      "source": [
        "# creating instance of the TensorDataset class\n",
        "train_ds = TensorDataset(inputs, targets)\n",
        "train_ds[0:3]"
      ],
      "execution_count": 45,
      "outputs": [
        {
          "output_type": "execute_result",
          "data": {
            "text/plain": [
              "(tensor([[ 73,  67,  43],\n",
              "         [ 91,  88,  64],\n",
              "         [ 87, 134,  58]]), tensor([[ 56,  70],\n",
              "         [ 81, 101],\n",
              "         [119, 133]]))"
            ]
          },
          "metadata": {
            "tags": []
          },
          "execution_count": 45
        }
      ]
    },
    {
      "cell_type": "code",
      "metadata": {
        "id": "zXuO0DbLtQE9",
        "outputId": "a27a8b7e-c1b3-4b1f-a990-3968e8b6bab8",
        "colab": {
          "base_uri": "https://localhost:8080/",
          "height": 34
        }
      },
      "source": [
        "train_ds[0]"
      ],
      "execution_count": 46,
      "outputs": [
        {
          "output_type": "execute_result",
          "data": {
            "text/plain": [
              "(tensor([73, 67, 43]), tensor([56, 70]))"
            ]
          },
          "metadata": {
            "tags": []
          },
          "execution_count": 46
        }
      ]
    },
    {
      "cell_type": "code",
      "metadata": {
        "id": "yi1zMNRNtUdX"
      },
      "source": [
        "# so with the help of TensorDataset the (input, target) pair is created\n",
        "# we passed inputs(x), targets(y) in the constructor of the TensorDataset class"
      ],
      "execution_count": 47,
      "outputs": []
    },
    {
      "cell_type": "code",
      "metadata": {
        "id": "xJzmbH1ttltc",
        "outputId": "fe6fac1e-5ed9-4444-dba5-0a064116df5a",
        "colab": {
          "base_uri": "https://localhost:8080/",
          "height": 70
        }
      },
      "source": [
        "# we can print row numbers\n",
        "train_ds.__getitem__([0,1])"
      ],
      "execution_count": 48,
      "outputs": [
        {
          "output_type": "execute_result",
          "data": {
            "text/plain": [
              "(tensor([[73, 67, 43],\n",
              "         [91, 88, 64]]), tensor([[ 56,  70],\n",
              "         [ 81, 101]]))"
            ]
          },
          "metadata": {
            "tags": []
          },
          "execution_count": 48
        }
      ]
    },
    {
      "cell_type": "code",
      "metadata": {
        "id": "ic1sfL8yvmPF"
      },
      "source": [
        "# by default a python list is created with that name of the object whe,ever, the TensorDataset class is instantiated\n",
        "# TensorDataset helped to create the datasets for training,\n",
        "# wheras the Dataloader helps to access the datapoints from the dataset\n",
        "# we can create batches of data and so on, even we can use transforms on the data"
      ],
      "execution_count": 51,
      "outputs": []
    },
    {
      "cell_type": "code",
      "metadata": {
        "id": "DSOltPSvwBhK"
      },
      "source": [
        "from torch.utils.data import DataLoader"
      ],
      "execution_count": 52,
      "outputs": []
    },
    {
      "cell_type": "code",
      "metadata": {
        "id": "GvoAuclqwthy"
      },
      "source": [
        "# define data loader\n",
        "batch_size = 5\n",
        "train_dl = DataLoader(train_ds, batch_size=batch_size, shuffle=True)"
      ],
      "execution_count": 53,
      "outputs": []
    },
    {
      "cell_type": "code",
      "metadata": {
        "id": "RsXWaG5hw-0v",
        "outputId": "2a1d7a6c-afe6-49c6-fd02-46d6ee66fa13",
        "colab": {
          "base_uri": "https://localhost:8080/",
          "height": 212
        }
      },
      "source": [
        "# so what dataloader object does, it creates a batch of minibtch size = 5, and it shuffles the samples while loading the data\n",
        "for i, (xb, yb) in enumerate(train_dl):\n",
        "  print(xb)\n",
        "  print(yb)\n",
        "  print(i)\n",
        "  break\n",
        "  # so what we see is, dataloader creates list of 2 minibatches, where 1st minibatch consists of 5 samples"
      ],
      "execution_count": 57,
      "outputs": [
        {
          "output_type": "stream",
          "text": [
            "tensor([[ 91,  88,  64],\n",
            "        [ 73,  67,  43],\n",
            "        [102,  43,  37],\n",
            "        [ 87, 134,  58],\n",
            "        [ 87, 134,  58]])\n",
            "tensor([[ 81, 101],\n",
            "        [ 56,  70],\n",
            "        [ 22,  37],\n",
            "        [119, 133],\n",
            "        [119, 133]])\n",
            "0\n"
          ],
          "name": "stdout"
        }
      ]
    },
    {
      "cell_type": "markdown",
      "metadata": {
        "id": "qcXupFwgzJMZ"
      },
      "source": [
        "#Defining Linear regression and Gradient descent using Pytorch default **nn** module"
      ]
    },
    {
      "cell_type": "code",
      "metadata": {
        "id": "0FeAdGnHyRtt"
      },
      "source": [
        "# define model\n",
        "# nn.Linear helps to create a linear regression model having input_features = 3, and output = 2\n",
        "# so weights and bias matetrices are made accordingly\n",
        " \n",
        "model = nn.Linear(in_features = 3, out_features=2)"
      ],
      "execution_count": 60,
      "outputs": []
    },
    {
      "cell_type": "code",
      "metadata": {
        "id": "ubaGuklUyZiI",
        "outputId": "5a499c6d-0494-4eae-e4ea-0979d5bc8098",
        "colab": {
          "base_uri": "https://localhost:8080/",
          "height": 70
        }
      },
      "source": [
        "print(model.weight)"
      ],
      "execution_count": 61,
      "outputs": [
        {
          "output_type": "stream",
          "text": [
            "Parameter containing:\n",
            "tensor([[-0.0094,  0.2576, -0.4302],\n",
            "        [-0.1923, -0.2488, -0.1865]], requires_grad=True)\n"
          ],
          "name": "stdout"
        }
      ]
    },
    {
      "cell_type": "code",
      "metadata": {
        "id": "S8XWl3FB1jJ6",
        "outputId": "8de9d78f-5cfe-44d0-b502-67897e7b9b73",
        "colab": {
          "base_uri": "https://localhost:8080/",
          "height": 52
        }
      },
      "source": [
        "print(model.bias)"
      ],
      "execution_count": 62,
      "outputs": [
        {
          "output_type": "stream",
          "text": [
            "Parameter containing:\n",
            "tensor([-0.4907, -0.1793], requires_grad=True)\n"
          ],
          "name": "stdout"
        }
      ]
    },
    {
      "cell_type": "code",
      "metadata": {
        "id": "KQbKN3_m1sGb"
      },
      "source": [
        "# we can see that, linear regression creates a neural network gaving single layer, consisting two nodes or output nodes\n",
        "# that is why shape of the weight matrix = (3,2)"
      ],
      "execution_count": 63,
      "outputs": []
    },
    {
      "cell_type": "code",
      "metadata": {
        "id": "7FBOVAkH13RQ"
      },
      "source": [
        ""
      ],
      "execution_count": null,
      "outputs": []
    }
  ]
}