{
  "nbformat": 4,
  "nbformat_minor": 0,
  "metadata": {
    "colab": {
      "name": "Untitled5.ipynb",
      "provenance": [],
      "authorship_tag": "ABX9TyOyn/Om8HSavpKl7OZkHrEH",
      "include_colab_link": true
    },
    "kernelspec": {
      "name": "python3",
      "display_name": "Python 3"
    }
  },
  "cells": [
    {
      "cell_type": "markdown",
      "metadata": {
        "id": "view-in-github",
        "colab_type": "text"
      },
      "source": [
        "<a href=\"https://colab.research.google.com/github/sayan0506/Deep-Neural-Network-with-Pytorch-/blob/main/Untitled5.ipynb\" target=\"_parent\"><img src=\"https://colab.research.google.com/assets/colab-badge.svg\" alt=\"Open In Colab\"/></a>"
      ]
    },
    {
      "cell_type": "markdown",
      "metadata": {
        "id": "4Y5NTX4Kvjax"
      },
      "source": [
        "# Image classification using CNN using Pytorch\n",
        "\n",
        "Here we will implement CNN based image classification technique to classify categories on CIFAR10 classification problem.\n",
        "\n",
        "The classifiers are:\n",
        "\n",
        "1. Airplane, 2. Automobile, 3. Bird, 4. Cat, 5. Deer, 6. Dog, 7. Frog, 8. Horse, 9. Ship, 10. Truck "
      ]
    },
    {
      "cell_type": "code",
      "metadata": {
        "id": "VSXrNeEfviE_"
      },
      "source": [
        "# importing necessary modules\n",
        "import os\n",
        "import torch\n",
        "import torchvision\n",
        "import tarfile\n",
        "from torchvision.datasets.utils import download_url\n",
        "from torch.utils.data import random_split"
      ],
      "execution_count": 4,
      "outputs": []
    },
    {
      "cell_type": "code",
      "metadata": {
        "id": "VAfIHsxIxJhy"
      },
      "source": [
        ""
      ],
      "execution_count": null,
      "outputs": []
    }
  ]
}