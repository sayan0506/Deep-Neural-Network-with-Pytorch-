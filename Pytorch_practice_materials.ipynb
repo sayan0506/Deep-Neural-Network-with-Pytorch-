{
  "nbformat": 4,
  "nbformat_minor": 0,
  "metadata": {
    "colab": {
      "name": "Pytorch practice materials.ipynb",
      "provenance": [],
      "authorship_tag": "ABX9TyOGRYYfpIUWpqoxVar27i9e",
      "include_colab_link": true
    },
    "kernelspec": {
      "name": "python3",
      "display_name": "Python 3"
    }
  },
  "cells": [
    {
      "cell_type": "markdown",
      "metadata": {
        "id": "view-in-github",
        "colab_type": "text"
      },
      "source": [
        "<a href=\"https://colab.research.google.com/github/sayan0506/Deep-Neural-Network-with-Pytorch-/blob/main/Pytorch_practice_materials.ipynb\" target=\"_parent\"><img src=\"https://colab.research.google.com/assets/colab-badge.svg\" alt=\"Open In Colab\"/></a>"
      ]
    },
    {
      "cell_type": "code",
      "metadata": {
        "id": "05TuHwCSVHy4"
      },
      "source": [
        "import torch"
      ],
      "execution_count": 2,
      "outputs": []
    },
    {
      "cell_type": "code",
      "metadata": {
        "id": "98A-LbblVPiR"
      },
      "source": [
        "a = torch.tensor([1,2,3], dtype=torch.float32)"
      ],
      "execution_count": null,
      "outputs": []
    },
    {
      "cell_type": "code",
      "metadata": {
        "id": "WGY-eXI_Vmln",
        "outputId": "19069292-7634-4515-cc31-532bee6b5ffa",
        "colab": {
          "base_uri": "https://localhost:8080/"
        }
      },
      "source": [
        "a"
      ],
      "execution_count": null,
      "outputs": [
        {
          "output_type": "execute_result",
          "data": {
            "text/plain": [
              "tensor([1., 2., 3.])"
            ]
          },
          "metadata": {
            "tags": []
          },
          "execution_count": 3
        }
      ]
    },
    {
      "cell_type": "code",
      "metadata": {
        "id": "fEvInZHiVnUV",
        "outputId": "9b3e7a1b-9ff3-4215-a666-2e0bab9c44fb",
        "colab": {
          "base_uri": "https://localhost:8080/"
        }
      },
      "source": [
        "a[0].item()"
      ],
      "execution_count": null,
      "outputs": [
        {
          "output_type": "execute_result",
          "data": {
            "text/plain": [
              "1.0"
            ]
          },
          "metadata": {
            "tags": []
          },
          "execution_count": 10
        }
      ]
    },
    {
      "cell_type": "code",
      "metadata": {
        "id": "-LjU0O3MVqdV"
      },
      "source": [
        "# let's implement the concept of partial derivative"
      ],
      "execution_count": null,
      "outputs": []
    },
    {
      "cell_type": "code",
      "metadata": {
        "id": "phO0TishWKyt",
        "outputId": "f495d146-c323-4a91-dc85-2543ca100c29",
        "colab": {
          "base_uri": "https://localhost:8080/"
        }
      },
      "source": [
        "# converting the pytorch tensor to numpy array\n",
        "a.numpy()"
      ],
      "execution_count": null,
      "outputs": [
        {
          "output_type": "execute_result",
          "data": {
            "text/plain": [
              "array([1., 2., 3.], dtype=float32)"
            ]
          },
          "metadata": {
            "tags": []
          },
          "execution_count": 13
        }
      ]
    },
    {
      "cell_type": "code",
      "metadata": {
        "id": "v07kGOqTWOQ9",
        "outputId": "0226480f-9115-4882-d652-c6e2fd2349d9",
        "colab": {
          "base_uri": "https://localhost:8080/"
        }
      },
      "source": [
        "a.ndimension()"
      ],
      "execution_count": null,
      "outputs": [
        {
          "output_type": "execute_result",
          "data": {
            "text/plain": [
              "1"
            ]
          },
          "metadata": {
            "tags": []
          },
          "execution_count": 15
        }
      ]
    },
    {
      "cell_type": "code",
      "metadata": {
        "id": "RcPJ8cNeW2U4"
      },
      "source": [
        "b = a.view(-1,1)"
      ],
      "execution_count": null,
      "outputs": []
    },
    {
      "cell_type": "code",
      "metadata": {
        "id": "Yb7QoYTDXHzq",
        "outputId": "4e0c3a05-408f-48b6-e234-cc9293fb2f5c",
        "colab": {
          "base_uri": "https://localhost:8080/"
        }
      },
      "source": [
        "b.ndimension()"
      ],
      "execution_count": null,
      "outputs": [
        {
          "output_type": "execute_result",
          "data": {
            "text/plain": [
              "2"
            ]
          },
          "metadata": {
            "tags": []
          },
          "execution_count": 20
        }
      ]
    },
    {
      "cell_type": "code",
      "metadata": {
        "id": "Fv69AKj2XV1N",
        "outputId": "5ccba41d-4a75-42fd-9093-51c9b39de906",
        "colab": {
          "base_uri": "https://localhost:8080/"
        }
      },
      "source": [
        "b.numpy()"
      ],
      "execution_count": null,
      "outputs": [
        {
          "output_type": "execute_result",
          "data": {
            "text/plain": [
              "array([[1.],\n",
              "       [2.],\n",
              "       [3.]], dtype=float32)"
            ]
          },
          "metadata": {
            "tags": []
          },
          "execution_count": 21
        }
      ]
    },
    {
      "cell_type": "code",
      "metadata": {
        "id": "6z8an7Y8XcbF",
        "outputId": "6a3f9003-14a4-4a65-bfd4-503fb7f4a8ba",
        "colab": {
          "base_uri": "https://localhost:8080/"
        }
      },
      "source": [
        "b*b"
      ],
      "execution_count": null,
      "outputs": [
        {
          "output_type": "execute_result",
          "data": {
            "text/plain": [
              "tensor([[1.],\n",
              "        [4.],\n",
              "        [9.]])"
            ]
          },
          "metadata": {
            "tags": []
          },
          "execution_count": 22
        }
      ]
    },
    {
      "cell_type": "code",
      "metadata": {
        "id": "_48D8M-YXe2d",
        "outputId": "d5ec5b42-edd4-47eb-dd1c-2c02501ba632",
        "colab": {
          "base_uri": "https://localhost:8080/"
        }
      },
      "source": [
        "torch.dot(a,a.T)"
      ],
      "execution_count": null,
      "outputs": [
        {
          "output_type": "execute_result",
          "data": {
            "text/plain": [
              "tensor(14.)"
            ]
          },
          "metadata": {
            "tags": []
          },
          "execution_count": 29
        }
      ]
    },
    {
      "cell_type": "code",
      "metadata": {
        "id": "Mizz8P5nX8s1"
      },
      "source": [
        "ls = a.tolist()"
      ],
      "execution_count": null,
      "outputs": []
    },
    {
      "cell_type": "code",
      "metadata": {
        "id": "pYxUYm23X9x2",
        "outputId": "e8b443c9-f29c-49bd-8aa2-6110c87328f6",
        "colab": {
          "base_uri": "https://localhost:8080/"
        }
      },
      "source": [
        "ls"
      ],
      "execution_count": null,
      "outputs": [
        {
          "output_type": "execute_result",
          "data": {
            "text/plain": [
              "[1.0, 2.0, 3.0]"
            ]
          },
          "metadata": {
            "tags": []
          },
          "execution_count": 25
        }
      ]
    },
    {
      "cell_type": "code",
      "metadata": {
        "id": "rik-T_dbX-3l"
      },
      "source": [
        "# using linspace in pytorch\n",
        "c = torch.linspace(-2,2,steps = 5, dtype = torch.float32)"
      ],
      "execution_count": null,
      "outputs": []
    },
    {
      "cell_type": "code",
      "metadata": {
        "id": "sPMfq4sPY4bW",
        "outputId": "3a34165b-2220-46c0-94d6-16f473fbb498",
        "colab": {
          "base_uri": "https://localhost:8080/"
        }
      },
      "source": [
        "c"
      ],
      "execution_count": null,
      "outputs": [
        {
          "output_type": "execute_result",
          "data": {
            "text/plain": [
              "tensor([-2., -1.,  0.,  1.,  2.])"
            ]
          },
          "metadata": {
            "tags": []
          },
          "execution_count": 31
        }
      ]
    },
    {
      "cell_type": "code",
      "metadata": {
        "id": "Juh5ZA4DY5Sd",
        "outputId": "b28cec1a-6a75-4969-fdae-10944f621e8d",
        "colab": {
          "base_uri": "https://localhost:8080/",
          "height": 35
        }
      },
      "source": [
        "c.type()"
      ],
      "execution_count": null,
      "outputs": [
        {
          "output_type": "execute_result",
          "data": {
            "application/vnd.google.colaboratory.intrinsic+json": {
              "type": "string"
            },
            "text/plain": [
              "'torch.FloatTensor'"
            ]
          },
          "metadata": {
            "tags": []
          },
          "execution_count": 33
        }
      ]
    },
    {
      "cell_type": "code",
      "metadata": {
        "id": "2tvX9RqYY7t8"
      },
      "source": [
        "c = c.type(torch.IntTensor)"
      ],
      "execution_count": null,
      "outputs": []
    },
    {
      "cell_type": "code",
      "metadata": {
        "id": "ZLc34_eMZHwE",
        "outputId": "2d96ca99-6094-4c7f-bd09-1a084c3bbfc8",
        "colab": {
          "base_uri": "https://localhost:8080/",
          "height": 35
        }
      },
      "source": [
        "c.type()"
      ],
      "execution_count": null,
      "outputs": [
        {
          "output_type": "execute_result",
          "data": {
            "application/vnd.google.colaboratory.intrinsic+json": {
              "type": "string"
            },
            "text/plain": [
              "'torch.IntTensor'"
            ]
          },
          "metadata": {
            "tags": []
          },
          "execution_count": 35
        }
      ]
    },
    {
      "cell_type": "code",
      "metadata": {
        "id": "hoba_apCZJi8",
        "outputId": "20638a84-f103-4fb0-d645-9fe50a41b275",
        "colab": {
          "base_uri": "https://localhost:8080/"
        }
      },
      "source": [
        "c"
      ],
      "execution_count": null,
      "outputs": [
        {
          "output_type": "execute_result",
          "data": {
            "text/plain": [
              "tensor([-2, -1,  0,  1,  2], dtype=torch.int32)"
            ]
          },
          "metadata": {
            "tags": []
          },
          "execution_count": 36
        }
      ]
    },
    {
      "cell_type": "code",
      "metadata": {
        "id": "ZKwGtFYYZLSU"
      },
      "source": [
        "x = torch.tensor(2, dtype=torch.float32, requires_grad=True)"
      ],
      "execution_count": null,
      "outputs": []
    },
    {
      "cell_type": "code",
      "metadata": {
        "id": "aYI1h8eNaP30"
      },
      "source": [
        "z = x*x + 2*x + 1"
      ],
      "execution_count": null,
      "outputs": []
    },
    {
      "cell_type": "code",
      "metadata": {
        "id": "-G5kPTzGacYb"
      },
      "source": [
        "z.backward()"
      ],
      "execution_count": null,
      "outputs": []
    },
    {
      "cell_type": "code",
      "metadata": {
        "id": "lqwrwd-Jafdb",
        "outputId": "c2b6d16b-68cb-4e92-8661-49f35cdf5831",
        "colab": {
          "base_uri": "https://localhost:8080/"
        }
      },
      "source": [
        "x.grad"
      ],
      "execution_count": null,
      "outputs": [
        {
          "output_type": "execute_result",
          "data": {
            "text/plain": [
              "tensor(7.)"
            ]
          },
          "metadata": {
            "tags": []
          },
          "execution_count": 50
        }
      ]
    },
    {
      "cell_type": "code",
      "metadata": {
        "id": "xE5Hqi-OahR8",
        "outputId": "57120d14-da00-46aa-81cd-d406cdb2ac13",
        "colab": {
          "base_uri": "https://localhost:8080/"
        }
      },
      "source": [
        "z"
      ],
      "execution_count": null,
      "outputs": [
        {
          "output_type": "execute_result",
          "data": {
            "text/plain": [
              "tensor(4., grad_fn=<MulBackward0>)"
            ]
          },
          "metadata": {
            "tags": []
          },
          "execution_count": 42
        }
      ]
    },
    {
      "cell_type": "code",
      "metadata": {
        "id": "FbCOBvCpauFk"
      },
      "source": [
        "x.grad_fn"
      ],
      "execution_count": null,
      "outputs": []
    },
    {
      "cell_type": "code",
      "metadata": {
        "id": "5Q1QyhilaxW7",
        "outputId": "cf6192a3-99d2-42d9-9542-aefa066a753f",
        "colab": {
          "base_uri": "https://localhost:8080/"
        }
      },
      "source": [
        "x"
      ],
      "execution_count": null,
      "outputs": [
        {
          "output_type": "execute_result",
          "data": {
            "text/plain": [
              "tensor(2., requires_grad=True)"
            ]
          },
          "metadata": {
            "tags": []
          },
          "execution_count": 44
        }
      ]
    },
    {
      "cell_type": "code",
      "metadata": {
        "id": "te86mL--ayiz",
        "outputId": "1bf7548c-8683-47f0-e040-d3129bb8496f",
        "colab": {
          "base_uri": "https://localhost:8080/"
        }
      },
      "source": [
        "print(x.grad_fn)"
      ],
      "execution_count": null,
      "outputs": [
        {
          "output_type": "stream",
          "text": [
            "None\n"
          ],
          "name": "stdout"
        }
      ]
    },
    {
      "cell_type": "code",
      "metadata": {
        "id": "Y_7ko2Nda1m-",
        "outputId": "29f57034-6e76-46bd-a669-ecd7d359f6c0",
        "colab": {
          "base_uri": "https://localhost:8080/"
        }
      },
      "source": [
        "x"
      ],
      "execution_count": null,
      "outputs": [
        {
          "output_type": "execute_result",
          "data": {
            "text/plain": [
              "tensor(2., requires_grad=True)"
            ]
          },
          "metadata": {
            "tags": []
          },
          "execution_count": 51
        }
      ]
    },
    {
      "cell_type": "code",
      "metadata": {
        "id": "npz7Z4VBjSwu"
      },
      "source": [
        "mean = torch.mean(x)"
      ],
      "execution_count": null,
      "outputs": []
    },
    {
      "cell_type": "code",
      "metadata": {
        "id": "W7eoYdlnja3i",
        "outputId": "b1e7bb48-ce24-4219-8686-0a3d45272dc4",
        "colab": {
          "base_uri": "https://localhost:8080/"
        }
      },
      "source": [
        "mean"
      ],
      "execution_count": null,
      "outputs": [
        {
          "output_type": "execute_result",
          "data": {
            "text/plain": [
              "tensor(2., grad_fn=<MeanBackward0>)"
            ]
          },
          "metadata": {
            "tags": []
          },
          "execution_count": 53
        }
      ]
    },
    {
      "cell_type": "code",
      "metadata": {
        "id": "JIP83xBbjcsb",
        "outputId": "8032d9a4-e9b5-4ecc-d86a-3268c2c6da20",
        "colab": {
          "base_uri": "https://localhost:8080/"
        }
      },
      "source": [
        "torch.std(x)"
      ],
      "execution_count": null,
      "outputs": [
        {
          "output_type": "execute_result",
          "data": {
            "text/plain": [
              "tensor(nan, grad_fn=<StdBackward0>)"
            ]
          },
          "metadata": {
            "tags": []
          },
          "execution_count": 54
        }
      ]
    },
    {
      "cell_type": "code",
      "metadata": {
        "id": "eIXyj1Lbjp6t",
        "outputId": "78b8d6d7-026b-4eff-8f5a-a866deca6623",
        "colab": {
          "base_uri": "https://localhost:8080/"
        }
      },
      "source": [
        "torch.sin(x)"
      ],
      "execution_count": null,
      "outputs": [
        {
          "output_type": "execute_result",
          "data": {
            "text/plain": [
              "tensor(0.9093, grad_fn=<SinBackward>)"
            ]
          },
          "metadata": {
            "tags": []
          },
          "execution_count": 55
        }
      ]
    },
    {
      "cell_type": "code",
      "metadata": {
        "id": "iQhcNQb6j2BN"
      },
      "source": [
        "n = torch.sin(x)"
      ],
      "execution_count": null,
      "outputs": []
    },
    {
      "cell_type": "code",
      "metadata": {
        "id": "aR6eRbfej6py",
        "outputId": "62229c41-6cde-4488-adf8-1809ceb5f803",
        "colab": {
          "base_uri": "https://localhost:8080/"
        }
      },
      "source": [
        "# as we passed req_grad = True in case of x, so we can't \n",
        "n.detach().numpy()"
      ],
      "execution_count": null,
      "outputs": [
        {
          "output_type": "execute_result",
          "data": {
            "text/plain": [
              "array(0.9092974, dtype=float32)"
            ]
          },
          "metadata": {
            "tags": []
          },
          "execution_count": 60
        }
      ]
    },
    {
      "cell_type": "code",
      "metadata": {
        "id": "ThA8ZdLqkFdy"
      },
      "source": [
        "import torch\n",
        "from torch.utils.data import Dataset"
      ],
      "execution_count": null,
      "outputs": []
    },
    {
      "cell_type": "code",
      "metadata": {
        "id": "HDRLl5L_6VFX"
      },
      "source": [
        "# defining class for dataset\n",
        "\n",
        "class toy_set(Dataset):\n",
        "  def __init__(self, length = 100, transform = None):\n",
        "    self.len = length\n",
        "    # x is a torch tensor containing ones, where shape passed as tuple(length, 2)\n",
        "    # y is also torch tensor shape (lenght, 1)\n",
        "    self.x = 2 * torch.ones(length, 2)\n",
        "    self.y = torch.ones(length, 1)\n",
        "    self.transform = transform\n",
        "\n",
        "  def __getitem__(self, index):\n",
        "    sample = self.x[index], self.y[index]\n",
        "    if self.transform:\n",
        "      sample = self.transform(sample)\n",
        "    return sample_data\n",
        "\n",
        "  def __len__(self):\n",
        "    return self.len"
      ],
      "execution_count": null,
      "outputs": []
    },
    {
      "cell_type": "code",
      "metadata": {
        "id": "GYo-h7SM62i9"
      },
      "source": [
        "our_dataset = toy_set()"
      ],
      "execution_count": null,
      "outputs": []
    },
    {
      "cell_type": "code",
      "metadata": {
        "id": "yuEv8YrM-HLV",
        "outputId": "be66733e-e495-4dec-f0c0-9d6a6ef8f28a",
        "colab": {
          "base_uri": "https://localhost:8080/",
          "height": 34
        }
      },
      "source": [
        "print(our_dataset)"
      ],
      "execution_count": null,
      "outputs": [
        {
          "output_type": "stream",
          "text": [
            "<__main__.toy_set object at 0x7f08c283bbe0>\n"
          ],
          "name": "stdout"
        }
      ]
    },
    {
      "cell_type": "code",
      "metadata": {
        "id": "b0OdszV_-J5z",
        "outputId": "afdb98fd-802c-4865-97df-53db3b12c36f",
        "colab": {
          "base_uri": "https://localhost:8080/",
          "height": 34
        }
      },
      "source": [
        "# as we are using double underscores in the preficx and postfix of the len method name, so when we call len(our_dataset) object\n",
        "# len overwrites the __len__() function \n",
        "print(len(our_dataset))"
      ],
      "execution_count": null,
      "outputs": [
        {
          "output_type": "stream",
          "text": [
            "100\n"
          ],
          "name": "stdout"
        }
      ]
    },
    {
      "cell_type": "markdown",
      "metadata": {
        "id": "9e_OpP2wKBdy"
      },
      "source": [
        "An abstract class representing a Dataset.\n",
        "\n",
        "All datasets that represent a map from keys to data samples should subclass it. All subclasses should overwrite __getitem__(), supporting fetching a data sample for a given key. Subclasses could also optionally overwrite __len__(), which is expected to return the size of the dataset by many Sampler implementations and the default options of DataLoader."
      ]
    },
    {
      "cell_type": "code",
      "metadata": {
        "id": "wQu48yQqCWDu"
      },
      "source": [
        "# creating a dataset class\n",
        "from torch.utils.data import Dataset\n",
        "# Dataset is the abstract class\n",
        "\n",
        "# in the toy_set class we are inheriting the torch Dataset abstrct class so as to implement it's functionalities \n",
        "class toy_set(Dataset):\n",
        "  def __init__(self, length = 100, transform = None):\n",
        "    # we are passing tuples as shape(100 elements of size 2)\n",
        "    self.x = 2 * torch.ones(length, 2)\n",
        "    self.y = torch.ones(length,1)\n",
        "    \n",
        "    # lentgh is assigned to the global varibale self.len\n",
        "    # self is the this operator which points the object of the class and helps to acces the methods and variables in the class scope\n",
        "    self.len = length\n",
        "    self.transform = None\n",
        "\n",
        "  def __getitem__(self, index):\n",
        "    sample = self.x[index], self.y[index]\n",
        "    if self.transform:\n",
        "      sample = self.transform(sample)\n",
        "    return sample\n",
        "\n",
        "  def __len__(self):\n",
        "    return self.len\n",
        "\n",
        "# note here __init__, __getitem__, __len__ are the functionalities of Dataset abstract class we implemented, if any of them is missing it would have thrown error"
      ],
      "execution_count": 15,
      "outputs": []
    },
    {
      "cell_type": "code",
      "metadata": {
        "id": "7qvdE-1RFq8_"
      },
      "source": [
        "t = toy_set()\n",
        "# t is the instance of the class"
      ],
      "execution_count": 16,
      "outputs": []
    },
    {
      "cell_type": "code",
      "metadata": {
        "id": "uP0B-cxEJASF",
        "outputId": "eac1a9c0-5808-42ab-f128-a3cf0596d190",
        "colab": {
          "base_uri": "https://localhost:8080/",
          "height": 34
        }
      },
      "source": [
        "# as we are using __len__(), we are calling len(toy_set object), thus the functionality of __len__ will overwrite the method of global len()\n",
        "# so, len(t) will return self.len i.e. using __len__ function\n",
        "# it returns the number of samples in the dataset\n",
        "len(t)"
      ],
      "execution_count": 19,
      "outputs": [
        {
          "output_type": "execute_result",
          "data": {
            "text/plain": [
              "100"
            ]
          },
          "metadata": {
            "tags": []
          },
          "execution_count": 19
        }
      ]
    },
    {
      "cell_type": "code",
      "metadata": {
        "id": "Ce15Ckm7Jhgz",
        "outputId": "38e21792-5ea5-42a0-cc3c-14da9c911b47",
        "colab": {
          "base_uri": "https://localhost:8080/",
          "height": 34
        }
      },
      "source": [
        "# Note here, the t i.e. the dataset object behaves like a tuple of two elements, which is (x, y), x and y are torch tensors of defined shapes \n",
        "t[0]"
      ],
      "execution_count": 22,
      "outputs": [
        {
          "output_type": "execute_result",
          "data": {
            "text/plain": [
              "(tensor([2., 2.]), tensor([1.]))"
            ]
          },
          "metadata": {
            "tags": []
          },
          "execution_count": 22
        }
      ]
    },
    {
      "cell_type": "code",
      "metadata": {
        "id": "pybq7Xy9K_NE",
        "outputId": "3da32da7-cd78-47ed-f16b-a9a830bd5693",
        "colab": {
          "base_uri": "https://localhost:8080/",
          "height": 194
        }
      },
      "source": [
        "for i in range(10):\n",
        "  print(t[i])"
      ],
      "execution_count": 23,
      "outputs": [
        {
          "output_type": "stream",
          "text": [
            "(tensor([2., 2.]), tensor([1.]))\n",
            "(tensor([2., 2.]), tensor([1.]))\n",
            "(tensor([2., 2.]), tensor([1.]))\n",
            "(tensor([2., 2.]), tensor([1.]))\n",
            "(tensor([2., 2.]), tensor([1.]))\n",
            "(tensor([2., 2.]), tensor([1.]))\n",
            "(tensor([2., 2.]), tensor([1.]))\n",
            "(tensor([2., 2.]), tensor([1.]))\n",
            "(tensor([2., 2.]), tensor([1.]))\n",
            "(tensor([2., 2.]), tensor([1.]))\n"
          ],
          "name": "stdout"
        }
      ]
    },
    {
      "cell_type": "markdown",
      "metadata": {
        "id": "uqZ6TkOqTyjZ"
      },
      "source": [
        "# Transforms\n",
        "\n",
        "Implementing transforms"
      ]
    },
    {
      "cell_type": "code",
      "metadata": {
        "id": "ufQTLU6VSSXJ"
      },
      "source": [
        "# creating a transform to add and multiply a value\n",
        "# note: we basically pass the object keyword, when we don't want to add \n",
        "class add_mult(object):\n",
        "  def __init__(self, addx = 1, muly = 1):\n",
        "    self.addx = addx\n",
        "    self.muly = muly\n",
        "\n",
        "  def __call__(self, sample):\n",
        "    x = sample[0]\n",
        "    y = sample[1]\n",
        "    x = x+ self.addx\n",
        "    y = y * self.muly\n",
        "    sample = x,y\n",
        "    return sample\n",
        "\n"
      ],
      "execution_count": 32,
      "outputs": []
    },
    {
      "cell_type": "code",
      "metadata": {
        "id": "L8c5SsBxVg1o",
        "outputId": "78177ded-7b19-4f49-a52a-ab8156f07cc0",
        "colab": {
          "base_uri": "https://localhost:8080/",
          "height": 52
        }
      },
      "source": [
        "# we can implement transform in two way\n",
        "# 1st one manually\n",
        "\n",
        "print(t[0])\n",
        "a_m = add_mult()\n",
        "print(a_m(t[0]))"
      ],
      "execution_count": 33,
      "outputs": [
        {
          "output_type": "stream",
          "text": [
            "(tensor([2., 2.]), tensor([1.]))\n",
            "(tensor([3., 3.]), tensor([1.]))\n"
          ],
          "name": "stdout"
        }
      ]
    },
    {
      "cell_type": "markdown",
      "metadata": {
        "id": "zUxupA8Nbct0"
      },
      "source": [
        "Please go through the below document for better understanding to know why python object is callable\n",
        "\n",
        "1. A python class is always callable\n",
        "2. A python object is callabable, iff, we use __call__() method\n",
        "\n",
        "To check whether anything is callable\n",
        "\n",
        "print(callable(object_name)) if returns True, then the python object is callable"
      ]
    },
    {
      "cell_type": "markdown",
      "metadata": {
        "id": "k1M_bWC3basO"
      },
      "source": [
        "https://www.journaldev.com/22761/python-callable-__call__#:~:text=__call__()%20example-,Python%20callable%20and%20__call__(),is%20a%20shorthand%20for%20x.&text=Note%20that%20callable()%20function,the%20object%20is%20not%20callable."
      ]
    },
    {
      "cell_type": "code",
      "metadata": {
        "id": "ZfLfdFrOXKpg",
        "outputId": "fb979b1b-e6ac-4288-9045-9e52e61c81e3",
        "colab": {
          "base_uri": "https://localhost:8080/",
          "height": 34
        }
      },
      "source": [
        "print(callable(t))"
      ],
      "execution_count": 34,
      "outputs": [
        {
          "output_type": "stream",
          "text": [
            "False\n"
          ],
          "name": "stdout"
        }
      ]
    },
    {
      "cell_type": "code",
      "metadata": {
        "id": "99zMfu4ul2ik",
        "outputId": "5b2e9436-3446-4166-a695-184c1d974ad1",
        "colab": {
          "base_uri": "https://localhost:8080/",
          "height": 34
        }
      },
      "source": [
        "# as add_mult class implements __call__ method, so a_m object becomes callable through that method, and we don't need to execute that method seperately, the object itself is callable with the functionality of __call__()\n",
        "# __call__() class\n",
        "print(callable(a_m))"
      ],
      "execution_count": 36,
      "outputs": [
        {
          "output_type": "stream",
          "text": [
            "True\n"
          ],
          "name": "stdout"
        }
      ]
    },
    {
      "cell_type": "code",
      "metadata": {
        "id": "3rjiud5Jl826",
        "outputId": "dc23fbd2-9333-48fe-b405-8959259fd308",
        "colab": {
          "base_uri": "https://localhost:8080/",
          "height": 52
        }
      },
      "source": [
        "# 2nd method is transforming through the object class\n",
        "\n",
        "a_m = add_mult()\n",
        "dataset = toy_set(transform=a_m)\n",
        "print(dataset[0])\n",
        "print(dataset.__getitem__(0))"
      ],
      "execution_count": 40,
      "outputs": [
        {
          "output_type": "stream",
          "text": [
            "(tensor([2., 2.]), tensor([1.]))\n",
            "(tensor([2., 2.]), tensor([1.]))\n"
          ],
          "name": "stdout"
        }
      ]
    },
    {
      "cell_type": "markdown",
      "metadata": {
        "id": "7D2jn0MQocf-"
      },
      "source": [
        "The most important thing is:\n",
        "\n",
        "This double underscore(at prefix and postfix of a keyword) keywords in python are some special keywords in python which serve special purposes, we can't make such words, like __getitem__ we can use in method name, but __getdata__ we can't use, as there is no uch keyword in python to serve any purpose, or if we do so, it will not "
      ]
    },
    {
      "cell_type": "code",
      "metadata": {
        "id": "I5Bc3ni7mfYR"
      },
      "source": [
        "# when we want to add multiple transform we can use Transforms Compose"
      ],
      "execution_count": null,
      "outputs": []
    }
  ]
}