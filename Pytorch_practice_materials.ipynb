{
  "nbformat": 4,
  "nbformat_minor": 0,
  "metadata": {
    "colab": {
      "name": "Pytorch practice materials.ipynb",
      "provenance": [],
      "collapsed_sections": [],
      "authorship_tag": "ABX9TyNhDJMCVUnYpTID/NgGg1t9",
      "include_colab_link": true
    },
    "kernelspec": {
      "name": "python3",
      "display_name": "Python 3"
    }
  },
  "cells": [
    {
      "cell_type": "markdown",
      "metadata": {
        "id": "view-in-github",
        "colab_type": "text"
      },
      "source": [
        "<a href=\"https://colab.research.google.com/github/sayan0506/Deep-Neural-Network-with-Pytorch-/blob/main/Pytorch_practice_materials.ipynb\" target=\"_parent\"><img src=\"https://colab.research.google.com/assets/colab-badge.svg\" alt=\"Open In Colab\"/></a>"
      ]
    },
    {
      "cell_type": "code",
      "metadata": {
        "id": "05TuHwCSVHy4"
      },
      "source": [
        "import torch"
      ],
      "execution_count": null,
      "outputs": []
    },
    {
      "cell_type": "code",
      "metadata": {
        "id": "98A-LbblVPiR"
      },
      "source": [
        "a = torch.tensor([1,2,3], dtype=torch.float32)"
      ],
      "execution_count": null,
      "outputs": []
    },
    {
      "cell_type": "code",
      "metadata": {
        "id": "WGY-eXI_Vmln",
        "outputId": "320117e8-04a5-466f-d53d-573efb8829ca",
        "colab": {
          "base_uri": "https://localhost:8080/",
          "height": 34
        }
      },
      "source": [
        "a"
      ],
      "execution_count": null,
      "outputs": [
        {
          "output_type": "execute_result",
          "data": {
            "text/plain": [
              "tensor([1., 2., 3.])"
            ]
          },
          "metadata": {
            "tags": []
          },
          "execution_count": 68
        }
      ]
    },
    {
      "cell_type": "code",
      "metadata": {
        "id": "fEvInZHiVnUV",
        "outputId": "e0a4b0e2-5e12-42f5-accc-b49bcc0e8da0",
        "colab": {
          "base_uri": "https://localhost:8080/",
          "height": 34
        }
      },
      "source": [
        "a[0].item()"
      ],
      "execution_count": null,
      "outputs": [
        {
          "output_type": "execute_result",
          "data": {
            "text/plain": [
              "1.0"
            ]
          },
          "metadata": {
            "tags": []
          },
          "execution_count": 69
        }
      ]
    },
    {
      "cell_type": "code",
      "metadata": {
        "id": "-LjU0O3MVqdV"
      },
      "source": [
        "# let's implement the concept of partial derivative"
      ],
      "execution_count": null,
      "outputs": []
    },
    {
      "cell_type": "code",
      "metadata": {
        "id": "phO0TishWKyt",
        "outputId": "7ab30ec8-90f3-4a88-c224-3aff7952c370",
        "colab": {
          "base_uri": "https://localhost:8080/",
          "height": 34
        }
      },
      "source": [
        "# converting the pytorch tensor to numpy array\n",
        "a.numpy()"
      ],
      "execution_count": null,
      "outputs": [
        {
          "output_type": "execute_result",
          "data": {
            "text/plain": [
              "array([1., 2., 3.], dtype=float32)"
            ]
          },
          "metadata": {
            "tags": []
          },
          "execution_count": 71
        }
      ]
    },
    {
      "cell_type": "code",
      "metadata": {
        "id": "v07kGOqTWOQ9",
        "outputId": "b054e9db-327f-4197-ec0a-8882cc5794e9",
        "colab": {
          "base_uri": "https://localhost:8080/",
          "height": 34
        }
      },
      "source": [
        "a.ndimension()"
      ],
      "execution_count": null,
      "outputs": [
        {
          "output_type": "execute_result",
          "data": {
            "text/plain": [
              "1"
            ]
          },
          "metadata": {
            "tags": []
          },
          "execution_count": 72
        }
      ]
    },
    {
      "cell_type": "code",
      "metadata": {
        "id": "RcPJ8cNeW2U4"
      },
      "source": [
        "b = a.view(-1,1)"
      ],
      "execution_count": null,
      "outputs": []
    },
    {
      "cell_type": "code",
      "metadata": {
        "id": "Yb7QoYTDXHzq",
        "outputId": "2c07829f-3447-4f74-90fc-4dfaec62f6b4",
        "colab": {
          "base_uri": "https://localhost:8080/",
          "height": 34
        }
      },
      "source": [
        "b.ndimension()"
      ],
      "execution_count": null,
      "outputs": [
        {
          "output_type": "execute_result",
          "data": {
            "text/plain": [
              "2"
            ]
          },
          "metadata": {
            "tags": []
          },
          "execution_count": 74
        }
      ]
    },
    {
      "cell_type": "code",
      "metadata": {
        "id": "Fv69AKj2XV1N",
        "outputId": "b3cf203e-b889-4ca4-8d8c-44d81d0294ef",
        "colab": {
          "base_uri": "https://localhost:8080/",
          "height": 70
        }
      },
      "source": [
        "b.numpy()"
      ],
      "execution_count": null,
      "outputs": [
        {
          "output_type": "execute_result",
          "data": {
            "text/plain": [
              "array([[1.],\n",
              "       [2.],\n",
              "       [3.]], dtype=float32)"
            ]
          },
          "metadata": {
            "tags": []
          },
          "execution_count": 75
        }
      ]
    },
    {
      "cell_type": "code",
      "metadata": {
        "id": "6z8an7Y8XcbF",
        "outputId": "f43f917d-09ee-47ba-c511-95d7da1cab3a",
        "colab": {
          "base_uri": "https://localhost:8080/",
          "height": 70
        }
      },
      "source": [
        "b*b"
      ],
      "execution_count": null,
      "outputs": [
        {
          "output_type": "execute_result",
          "data": {
            "text/plain": [
              "tensor([[1.],\n",
              "        [4.],\n",
              "        [9.]])"
            ]
          },
          "metadata": {
            "tags": []
          },
          "execution_count": 76
        }
      ]
    },
    {
      "cell_type": "code",
      "metadata": {
        "id": "_48D8M-YXe2d",
        "outputId": "9dd0fea9-686f-472b-d8b8-21146956ed6b",
        "colab": {
          "base_uri": "https://localhost:8080/",
          "height": 34
        }
      },
      "source": [
        "torch.dot(a,a.T)"
      ],
      "execution_count": null,
      "outputs": [
        {
          "output_type": "execute_result",
          "data": {
            "text/plain": [
              "tensor(14.)"
            ]
          },
          "metadata": {
            "tags": []
          },
          "execution_count": 77
        }
      ]
    },
    {
      "cell_type": "code",
      "metadata": {
        "id": "Mizz8P5nX8s1"
      },
      "source": [
        "ls = a.tolist()"
      ],
      "execution_count": null,
      "outputs": []
    },
    {
      "cell_type": "code",
      "metadata": {
        "id": "pYxUYm23X9x2",
        "outputId": "36adc6a8-c0e0-4362-8f52-617d148cba34",
        "colab": {
          "base_uri": "https://localhost:8080/",
          "height": 34
        }
      },
      "source": [
        "ls"
      ],
      "execution_count": null,
      "outputs": [
        {
          "output_type": "execute_result",
          "data": {
            "text/plain": [
              "[1.0, 2.0, 3.0]"
            ]
          },
          "metadata": {
            "tags": []
          },
          "execution_count": 79
        }
      ]
    },
    {
      "cell_type": "code",
      "metadata": {
        "id": "rik-T_dbX-3l"
      },
      "source": [
        "# using linspace in pytorch\n",
        "c = torch.linspace(-2,2,steps = 5, dtype = torch.float32)"
      ],
      "execution_count": null,
      "outputs": []
    },
    {
      "cell_type": "code",
      "metadata": {
        "id": "sPMfq4sPY4bW",
        "outputId": "66e2d318-02e0-4a48-b1a9-f9406c2719cc",
        "colab": {
          "base_uri": "https://localhost:8080/",
          "height": 34
        }
      },
      "source": [
        "c"
      ],
      "execution_count": null,
      "outputs": [
        {
          "output_type": "execute_result",
          "data": {
            "text/plain": [
              "tensor([-2., -1.,  0.,  1.,  2.])"
            ]
          },
          "metadata": {
            "tags": []
          },
          "execution_count": 81
        }
      ]
    },
    {
      "cell_type": "code",
      "metadata": {
        "id": "Juh5ZA4DY5Sd",
        "outputId": "6fbda56d-d5f0-4d41-f556-7b507814e382",
        "colab": {
          "base_uri": "https://localhost:8080/",
          "height": 35
        }
      },
      "source": [
        "c.type()"
      ],
      "execution_count": null,
      "outputs": [
        {
          "output_type": "execute_result",
          "data": {
            "application/vnd.google.colaboratory.intrinsic+json": {
              "type": "string"
            },
            "text/plain": [
              "'torch.FloatTensor'"
            ]
          },
          "metadata": {
            "tags": []
          },
          "execution_count": 82
        }
      ]
    },
    {
      "cell_type": "code",
      "metadata": {
        "id": "2tvX9RqYY7t8"
      },
      "source": [
        "c = c.type(torch.IntTensor)"
      ],
      "execution_count": null,
      "outputs": []
    },
    {
      "cell_type": "code",
      "metadata": {
        "id": "ZLc34_eMZHwE",
        "outputId": "47bf0fe7-8fd8-4f25-c339-3c697d10e4a4",
        "colab": {
          "base_uri": "https://localhost:8080/",
          "height": 35
        }
      },
      "source": [
        "c.type()"
      ],
      "execution_count": null,
      "outputs": [
        {
          "output_type": "execute_result",
          "data": {
            "application/vnd.google.colaboratory.intrinsic+json": {
              "type": "string"
            },
            "text/plain": [
              "'torch.IntTensor'"
            ]
          },
          "metadata": {
            "tags": []
          },
          "execution_count": 84
        }
      ]
    },
    {
      "cell_type": "code",
      "metadata": {
        "id": "hoba_apCZJi8",
        "outputId": "b38baba9-54d9-4c0b-82a3-aac131038875",
        "colab": {
          "base_uri": "https://localhost:8080/",
          "height": 34
        }
      },
      "source": [
        "c"
      ],
      "execution_count": null,
      "outputs": [
        {
          "output_type": "execute_result",
          "data": {
            "text/plain": [
              "tensor([-2, -1,  0,  1,  2], dtype=torch.int32)"
            ]
          },
          "metadata": {
            "tags": []
          },
          "execution_count": 85
        }
      ]
    },
    {
      "cell_type": "code",
      "metadata": {
        "id": "ZKwGtFYYZLSU"
      },
      "source": [
        "x = torch.tensor(2, dtype=torch.float32, requires_grad=True)"
      ],
      "execution_count": null,
      "outputs": []
    },
    {
      "cell_type": "code",
      "metadata": {
        "id": "aYI1h8eNaP30"
      },
      "source": [
        "z = x*x + 2*x + 1"
      ],
      "execution_count": null,
      "outputs": []
    },
    {
      "cell_type": "code",
      "metadata": {
        "id": "-G5kPTzGacYb"
      },
      "source": [
        "z.backward()"
      ],
      "execution_count": null,
      "outputs": []
    },
    {
      "cell_type": "code",
      "metadata": {
        "id": "lqwrwd-Jafdb",
        "outputId": "94193603-d00b-4008-911d-21aa7c485e30",
        "colab": {
          "base_uri": "https://localhost:8080/",
          "height": 34
        }
      },
      "source": [
        "x.grad"
      ],
      "execution_count": null,
      "outputs": [
        {
          "output_type": "execute_result",
          "data": {
            "text/plain": [
              "tensor(6.)"
            ]
          },
          "metadata": {
            "tags": []
          },
          "execution_count": 89
        }
      ]
    },
    {
      "cell_type": "code",
      "metadata": {
        "id": "xE5Hqi-OahR8",
        "outputId": "1429b8a8-3c9b-4fd4-df84-6da76e8c7d53",
        "colab": {
          "base_uri": "https://localhost:8080/",
          "height": 34
        }
      },
      "source": [
        "z"
      ],
      "execution_count": null,
      "outputs": [
        {
          "output_type": "execute_result",
          "data": {
            "text/plain": [
              "tensor(9., grad_fn=<AddBackward0>)"
            ]
          },
          "metadata": {
            "tags": []
          },
          "execution_count": 90
        }
      ]
    },
    {
      "cell_type": "code",
      "metadata": {
        "id": "FbCOBvCpauFk"
      },
      "source": [
        "x.grad_fn"
      ],
      "execution_count": null,
      "outputs": []
    },
    {
      "cell_type": "code",
      "metadata": {
        "id": "5Q1QyhilaxW7",
        "outputId": "73ec58c4-5651-4434-8019-490dee6c0b78",
        "colab": {
          "base_uri": "https://localhost:8080/",
          "height": 34
        }
      },
      "source": [
        "x"
      ],
      "execution_count": null,
      "outputs": [
        {
          "output_type": "execute_result",
          "data": {
            "text/plain": [
              "tensor(2., requires_grad=True)"
            ]
          },
          "metadata": {
            "tags": []
          },
          "execution_count": 92
        }
      ]
    },
    {
      "cell_type": "code",
      "metadata": {
        "id": "te86mL--ayiz",
        "outputId": "8582b296-8f5f-4447-d4a2-6509494ac7d6",
        "colab": {
          "base_uri": "https://localhost:8080/",
          "height": 34
        }
      },
      "source": [
        "print(x.grad_fn)"
      ],
      "execution_count": null,
      "outputs": [
        {
          "output_type": "stream",
          "text": [
            "None\n"
          ],
          "name": "stdout"
        }
      ]
    },
    {
      "cell_type": "code",
      "metadata": {
        "id": "Y_7ko2Nda1m-",
        "outputId": "d07de944-1d53-4a2d-df5c-2154ce4c840e",
        "colab": {
          "base_uri": "https://localhost:8080/",
          "height": 34
        }
      },
      "source": [
        "x"
      ],
      "execution_count": null,
      "outputs": [
        {
          "output_type": "execute_result",
          "data": {
            "text/plain": [
              "tensor(2., requires_grad=True)"
            ]
          },
          "metadata": {
            "tags": []
          },
          "execution_count": 94
        }
      ]
    },
    {
      "cell_type": "code",
      "metadata": {
        "id": "npz7Z4VBjSwu"
      },
      "source": [
        "mean = torch.mean(x)"
      ],
      "execution_count": null,
      "outputs": []
    },
    {
      "cell_type": "code",
      "metadata": {
        "id": "W7eoYdlnja3i",
        "outputId": "4992f1f8-44be-469e-96d5-62ab3798927a",
        "colab": {
          "base_uri": "https://localhost:8080/",
          "height": 34
        }
      },
      "source": [
        "mean"
      ],
      "execution_count": null,
      "outputs": [
        {
          "output_type": "execute_result",
          "data": {
            "text/plain": [
              "tensor(2., grad_fn=<MeanBackward0>)"
            ]
          },
          "metadata": {
            "tags": []
          },
          "execution_count": 96
        }
      ]
    },
    {
      "cell_type": "code",
      "metadata": {
        "id": "JIP83xBbjcsb",
        "outputId": "d98f6bd8-f7f0-464e-95f1-d9cab2e46661",
        "colab": {
          "base_uri": "https://localhost:8080/",
          "height": 34
        }
      },
      "source": [
        "torch.std(x)"
      ],
      "execution_count": null,
      "outputs": [
        {
          "output_type": "execute_result",
          "data": {
            "text/plain": [
              "tensor(nan, grad_fn=<StdBackward0>)"
            ]
          },
          "metadata": {
            "tags": []
          },
          "execution_count": 97
        }
      ]
    },
    {
      "cell_type": "code",
      "metadata": {
        "id": "eIXyj1Lbjp6t",
        "outputId": "429ca11b-6e59-4eec-b3b0-680ab90010e2",
        "colab": {
          "base_uri": "https://localhost:8080/",
          "height": 34
        }
      },
      "source": [
        "torch.sin(x)"
      ],
      "execution_count": null,
      "outputs": [
        {
          "output_type": "execute_result",
          "data": {
            "text/plain": [
              "tensor(0.9093, grad_fn=<SinBackward>)"
            ]
          },
          "metadata": {
            "tags": []
          },
          "execution_count": 98
        }
      ]
    },
    {
      "cell_type": "code",
      "metadata": {
        "id": "iQhcNQb6j2BN"
      },
      "source": [
        "n = torch.sin(x)"
      ],
      "execution_count": null,
      "outputs": []
    },
    {
      "cell_type": "code",
      "metadata": {
        "id": "aR6eRbfej6py",
        "outputId": "cffd9b45-ef2e-422b-a724-c9a734cdad95",
        "colab": {
          "base_uri": "https://localhost:8080/",
          "height": 34
        }
      },
      "source": [
        "# as we passed req_grad = True in case of x, so we can't \n",
        "n.detach().numpy()"
      ],
      "execution_count": null,
      "outputs": [
        {
          "output_type": "execute_result",
          "data": {
            "text/plain": [
              "array(0.9092974, dtype=float32)"
            ]
          },
          "metadata": {
            "tags": []
          },
          "execution_count": 100
        }
      ]
    },
    {
      "cell_type": "code",
      "metadata": {
        "id": "ThA8ZdLqkFdy"
      },
      "source": [
        "import torch\n",
        "from torch.utils.data import Dataset"
      ],
      "execution_count": null,
      "outputs": []
    },
    {
      "cell_type": "code",
      "metadata": {
        "id": "HDRLl5L_6VFX"
      },
      "source": [
        "# defining class for dataset\n",
        "\n",
        "class toy_set(Dataset):\n",
        "  def __init__(self, length = 100, transform = None):\n",
        "    self.len = length\n",
        "    # x is a torch tensor containing ones, where shape passed as tuple(length, 2)\n",
        "    # y is also torch tensor shape (lenght, 1)\n",
        "    self.x = 2 * torch.ones(length, 2)\n",
        "    self.y = torch.ones(length, 1)\n",
        "    self.transform = transform\n",
        "\n",
        "  def __getitem__(self, index):\n",
        "    sample = self.x[index], self.y[index]\n",
        "    if self.transform:\n",
        "      sample = self.transform(sample)\n",
        "    return sample_data\n",
        "\n",
        "  def __len__(self):\n",
        "    return self.len"
      ],
      "execution_count": null,
      "outputs": []
    },
    {
      "cell_type": "code",
      "metadata": {
        "id": "GYo-h7SM62i9"
      },
      "source": [
        "our_dataset = toy_set()"
      ],
      "execution_count": null,
      "outputs": []
    },
    {
      "cell_type": "code",
      "metadata": {
        "id": "yuEv8YrM-HLV",
        "outputId": "6ccb0858-26ea-42c2-cd00-ad37007db994",
        "colab": {
          "base_uri": "https://localhost:8080/",
          "height": 34
        }
      },
      "source": [
        "print(our_dataset)"
      ],
      "execution_count": null,
      "outputs": [
        {
          "output_type": "stream",
          "text": [
            "<__main__.toy_set object at 0x7f1c96c29400>\n"
          ],
          "name": "stdout"
        }
      ]
    },
    {
      "cell_type": "code",
      "metadata": {
        "id": "b0OdszV_-J5z",
        "outputId": "3d461f48-91fb-4761-be08-025cfac07203",
        "colab": {
          "base_uri": "https://localhost:8080/",
          "height": 34
        }
      },
      "source": [
        "# as we are using double underscores in the preficx and postfix of the len method name, so when we call len(our_dataset) object\n",
        "# len overwrites the __len__() function \n",
        "print(len(our_dataset))"
      ],
      "execution_count": null,
      "outputs": [
        {
          "output_type": "stream",
          "text": [
            "100\n"
          ],
          "name": "stdout"
        }
      ]
    },
    {
      "cell_type": "markdown",
      "metadata": {
        "id": "9e_OpP2wKBdy"
      },
      "source": [
        "An abstract class representing a Dataset.\n",
        "\n",
        "All datasets that represent a map from keys to data samples should subclass it. All subclasses should overwrite __getitem__(), supporting fetching a data sample for a given key. Subclasses could also optionally overwrite __len__(), which is expected to return the size of the dataset by many Sampler implementations and the default options of DataLoader."
      ]
    },
    {
      "cell_type": "code",
      "metadata": {
        "id": "wQu48yQqCWDu"
      },
      "source": [
        "# creating a dataset class\n",
        "from torch.utils.data import Dataset\n",
        "# Dataset is the abstract class\n",
        "\n",
        "# in the toy_set class we are inheriting the torch Dataset abstrct class so as to implement it's functionalities \n",
        "class toy_set(Dataset):\n",
        "  def __init__(self, length = 100, transform = None):\n",
        "    # we are passing tuples as shape(100 elements of size 2)\n",
        "    self.x = 2 * torch.ones(length, 2)\n",
        "    self.y = torch.ones(length,1)\n",
        "    \n",
        "    # lentgh is assigned to the global varibale self.len\n",
        "    # self is the this operator which points the object of the class and helps to acces the methods and variables in the class scope\n",
        "    self.len = length\n",
        "    self.transform = transform\n",
        "\n",
        "  def __getitem__(self, index):\n",
        "    sample = self.x[index], self.y[index]\n",
        "    if self.transform:\n",
        "      print('true')\n",
        "      sample = self.transform(sample)\n",
        "    return sample\n",
        "\n",
        "  def __len__(self):\n",
        "    return self.len\n",
        "\n",
        "# note here __init__, __getitem__, __len__ are the functionalities of Dataset abstract class we implemented, if any of them is missing it would have thrown error"
      ],
      "execution_count": null,
      "outputs": []
    },
    {
      "cell_type": "code",
      "metadata": {
        "id": "7qvdE-1RFq8_"
      },
      "source": [
        "t = toy_set()\n",
        "# t is the instance of the class"
      ],
      "execution_count": null,
      "outputs": []
    },
    {
      "cell_type": "code",
      "metadata": {
        "id": "uP0B-cxEJASF",
        "outputId": "194dbab0-bffd-42a4-bbaf-fdf1ec8e89b4",
        "colab": {
          "base_uri": "https://localhost:8080/",
          "height": 34
        }
      },
      "source": [
        "# as we are using __len__(), we are calling len(toy_set object), thus the functionality of __len__ will overwrite the method of global len()\n",
        "# so, len(t) will return self.len i.e. using __len__ function\n",
        "# it returns the number of samples in the dataset\n",
        "len(t)"
      ],
      "execution_count": null,
      "outputs": [
        {
          "output_type": "execute_result",
          "data": {
            "text/plain": [
              "100"
            ]
          },
          "metadata": {
            "tags": []
          },
          "execution_count": 127
        }
      ]
    },
    {
      "cell_type": "code",
      "metadata": {
        "id": "Ce15Ckm7Jhgz",
        "outputId": "ba287eae-6edb-4041-e07e-059e88c98e65",
        "colab": {
          "base_uri": "https://localhost:8080/",
          "height": 34
        }
      },
      "source": [
        "# Note here, the t i.e. the dataset object behaves like a tuple of two elements, which is (x, y), x and y are torch tensors of defined shapes \n",
        "t[0]"
      ],
      "execution_count": null,
      "outputs": [
        {
          "output_type": "execute_result",
          "data": {
            "text/plain": [
              "(tensor([2., 2.]), tensor([1.]))"
            ]
          },
          "metadata": {
            "tags": []
          },
          "execution_count": 128
        }
      ]
    },
    {
      "cell_type": "code",
      "metadata": {
        "id": "pybq7Xy9K_NE",
        "outputId": "5a72cdf5-6306-478b-8561-f8d89b83a7dc",
        "colab": {
          "base_uri": "https://localhost:8080/",
          "height": 194
        }
      },
      "source": [
        "for i in range(10):\n",
        "  print(t[i])"
      ],
      "execution_count": null,
      "outputs": [
        {
          "output_type": "stream",
          "text": [
            "(tensor([2., 2.]), tensor([1.]))\n",
            "(tensor([2., 2.]), tensor([1.]))\n",
            "(tensor([2., 2.]), tensor([1.]))\n",
            "(tensor([2., 2.]), tensor([1.]))\n",
            "(tensor([2., 2.]), tensor([1.]))\n",
            "(tensor([2., 2.]), tensor([1.]))\n",
            "(tensor([2., 2.]), tensor([1.]))\n",
            "(tensor([2., 2.]), tensor([1.]))\n",
            "(tensor([2., 2.]), tensor([1.]))\n",
            "(tensor([2., 2.]), tensor([1.]))\n"
          ],
          "name": "stdout"
        }
      ]
    },
    {
      "cell_type": "markdown",
      "metadata": {
        "id": "uqZ6TkOqTyjZ"
      },
      "source": [
        "# Transforms\n",
        "\n",
        "Implementing transforms"
      ]
    },
    {
      "cell_type": "code",
      "metadata": {
        "id": "ufQTLU6VSSXJ"
      },
      "source": [
        "# creating a transform to add and multiply a value\n",
        "# note: we basically pass the object keyword, when we don't want to add \n",
        "class add_mult(object):\n",
        "  def __init__(self, addx = 1, muly = 1):\n",
        "    self.addx = addx\n",
        "    self.muly = muly\n",
        "\n",
        "  def __call__(self, sample):\n",
        "    x = sample[0]\n",
        "    y = sample[1]\n",
        "    x = x+ self.addx\n",
        "    y = y * self.muly\n",
        "    sample = x,y\n",
        "    return sample\n",
        "\n"
      ],
      "execution_count": null,
      "outputs": []
    },
    {
      "cell_type": "code",
      "metadata": {
        "id": "L8c5SsBxVg1o",
        "outputId": "51b8410e-3082-4794-b58e-1b59f0cf8d79",
        "colab": {
          "base_uri": "https://localhost:8080/",
          "height": 52
        }
      },
      "source": [
        "# we can implement transform in two way\n",
        "# 1st one manually\n",
        "\n",
        "print(t[0])\n",
        "a_m = add_mult()\n",
        "print(a_m(t[0]))"
      ],
      "execution_count": null,
      "outputs": [
        {
          "output_type": "stream",
          "text": [
            "(tensor([2., 2.]), tensor([1.]))\n",
            "(tensor([3., 3.]), tensor([1.]))\n"
          ],
          "name": "stdout"
        }
      ]
    },
    {
      "cell_type": "markdown",
      "metadata": {
        "id": "zUxupA8Nbct0"
      },
      "source": [
        "Please go through the below document for better understanding to know why python object is callable\n",
        "\n",
        "1. A python class is always callable\n",
        "2. A python object is callabable, iff, we use __call__() method\n",
        "\n",
        "To check whether anything is callable\n",
        "\n",
        "print(callable(object_name)) if returns True, then the python object is callable"
      ]
    },
    {
      "cell_type": "markdown",
      "metadata": {
        "id": "k1M_bWC3basO"
      },
      "source": [
        "https://www.journaldev.com/22761/python-callable-__call__#:~:text=__call__()%20example-,Python%20callable%20and%20__call__(),is%20a%20shorthand%20for%20x.&text=Note%20that%20callable()%20function,the%20object%20is%20not%20callable."
      ]
    },
    {
      "cell_type": "code",
      "metadata": {
        "id": "ZfLfdFrOXKpg",
        "outputId": "30fec294-4bef-46cb-8ff6-92a009f649dd",
        "colab": {
          "base_uri": "https://localhost:8080/",
          "height": 34
        }
      },
      "source": [
        "print(callable(t))"
      ],
      "execution_count": null,
      "outputs": [
        {
          "output_type": "stream",
          "text": [
            "False\n"
          ],
          "name": "stdout"
        }
      ]
    },
    {
      "cell_type": "code",
      "metadata": {
        "id": "99zMfu4ul2ik",
        "outputId": "3d6e3b4c-4489-45b8-bce1-de6d09da5ae4",
        "colab": {
          "base_uri": "https://localhost:8080/",
          "height": 34
        }
      },
      "source": [
        "# as add_mult class implements __call__ method, so a_m object becomes callable through that method, and we don't need to execute that method seperately, the object itself is callable with the functionality of __call__()\n",
        "# __call__() class\n",
        "print(callable(a_m))"
      ],
      "execution_count": null,
      "outputs": [
        {
          "output_type": "stream",
          "text": [
            "True\n"
          ],
          "name": "stdout"
        }
      ]
    },
    {
      "cell_type": "code",
      "metadata": {
        "id": "3rjiud5Jl826",
        "outputId": "ae2bae0f-4cb5-44bd-bc21-4adb158ded16",
        "colab": {
          "base_uri": "https://localhost:8080/",
          "height": 52
        }
      },
      "source": [
        "# 2nd method is transforming through the object class\n",
        "\n",
        "a_m = add_mult()\n",
        "dataset = toy_set(transform=a_m)\n",
        "print(dataset[0])\n",
        "print(dataset.__getitem__(0))"
      ],
      "execution_count": null,
      "outputs": [
        {
          "output_type": "stream",
          "text": [
            "(tensor([2., 2.]), tensor([1.]))\n",
            "(tensor([2., 2.]), tensor([1.]))\n"
          ],
          "name": "stdout"
        }
      ]
    },
    {
      "cell_type": "markdown",
      "metadata": {
        "id": "7D2jn0MQocf-"
      },
      "source": [
        "The most important thing is:\n",
        "\n",
        "This double underscore(at prefix and postfix of a keyword) keywords in python are some special keywords in python which serve special purposes, we can't make such words, like __getitem__ we can use in method name, but __getdata__ we can't use, as there is no uch keyword in python to serve any purpose, or if we do so, it will not "
      ]
    },
    {
      "cell_type": "markdown",
      "metadata": {
        "id": "bbT4QI85wsob"
      },
      "source": [
        "# Transforms Compose\n",
        "\n",
        "If we want to implement multiple transforms on data, we can use transform compose"
      ]
    },
    {
      "cell_type": "code",
      "metadata": {
        "id": "I5Bc3ni7mfYR"
      },
      "source": [
        "# when we want to add multiple transform we can use Transforms Compose\n",
        "from torchvision import transforms"
      ],
      "execution_count": null,
      "outputs": []
    },
    {
      "cell_type": "code",
      "metadata": {
        "id": "e0AfmoDHxO4I"
      },
      "source": [
        "# let use define another transform\n",
        "\n",
        "class mult(object):\n",
        "  def __init__(self, addx = 1, muly = 2):\n",
        "    self.addx = addx\n",
        "    self.muly = muly\n",
        "\n",
        "  def __call__(self, sample):\n",
        "    x = sample[0]\n",
        "    y = sample[1]\n",
        "    x = x * self.addx\n",
        "    y = y * self.muly\n",
        "    sample = x,y\n",
        "    return sample\n"
      ],
      "execution_count": null,
      "outputs": []
    },
    {
      "cell_type": "code",
      "metadata": {
        "id": "lNFFBQSxxrDA"
      },
      "source": [
        "data_transform = transforms.Compose([add_mult(), mult()])"
      ],
      "execution_count": null,
      "outputs": []
    },
    {
      "cell_type": "code",
      "metadata": {
        "id": "JHbTYsZ4x6am",
        "outputId": "45223b95-f51c-4200-94fd-6b517b6988ad",
        "colab": {
          "base_uri": "https://localhost:8080/",
          "height": 34
        }
      },
      "source": [
        "print(data_transform(t[0]))"
      ],
      "execution_count": null,
      "outputs": [
        {
          "output_type": "stream",
          "text": [
            "(tensor([3., 3.]), tensor([2.]))\n"
          ],
          "name": "stdout"
        }
      ]
    },
    {
      "cell_type": "code",
      "metadata": {
        "id": "qSLiYyymyDEO"
      },
      "source": [
        "# here it first does the add_mult, then does the mult operation"
      ],
      "execution_count": null,
      "outputs": []
    },
    {
      "cell_type": "code",
      "metadata": {
        "id": "qQsLMuUMyjzl"
      },
      "source": [
        "# we can also pass the transform object inside the toyset object"
      ],
      "execution_count": null,
      "outputs": []
    },
    {
      "cell_type": "code",
      "metadata": {
        "id": "CaW_v-mIyv00"
      },
      "source": [
        "dataset = toy_set(transform = a_m)"
      ],
      "execution_count": null,
      "outputs": []
    },
    {
      "cell_type": "code",
      "metadata": {
        "id": "3QDu1j8dy1Os",
        "outputId": "516df28c-bfff-42a2-aa90-98a41b64cb56",
        "colab": {
          "base_uri": "https://localhost:8080/",
          "height": 52
        }
      },
      "source": [
        "dataset.__getitem__(0)"
      ],
      "execution_count": null,
      "outputs": [
        {
          "output_type": "stream",
          "text": [
            "true\n"
          ],
          "name": "stdout"
        },
        {
          "output_type": "execute_result",
          "data": {
            "text/plain": [
              "(tensor([3., 3.]), tensor([1.]))"
            ]
          },
          "metadata": {
            "tags": []
          },
          "execution_count": 142
        }
      ]
    },
    {
      "cell_type": "code",
      "metadata": {
        "id": "_EpVcJ_7y4rQ",
        "outputId": "e4655bdf-108b-4657-864c-3082d34c6a6e",
        "colab": {
          "base_uri": "https://localhost:8080/",
          "height": 52
        }
      },
      "source": [
        "dataset[0]"
      ],
      "execution_count": null,
      "outputs": [
        {
          "output_type": "stream",
          "text": [
            "true\n"
          ],
          "name": "stdout"
        },
        {
          "output_type": "execute_result",
          "data": {
            "text/plain": [
              "(tensor([3., 3.]), tensor([1.]))"
            ]
          },
          "metadata": {
            "tags": []
          },
          "execution_count": 143
        }
      ]
    },
    {
      "cell_type": "markdown",
      "metadata": {
        "id": "JcazvBgMe-re"
      },
      "source": [
        "# Dataset Class for images"
      ]
    },
    {
      "cell_type": "code",
      "metadata": {
        "id": "ftT4ovXdzPes"
      },
      "source": [
        "from PIL import Image\n",
        "import pandas as pd\n",
        "import os\n",
        "from matplotlib import pyplot as plt\n",
        "from torch.utils.data import Dataset, DataLoader "
      ],
      "execution_count": null,
      "outputs": []
    },
    {
      "cell_type": "code",
      "metadata": {
        "id": "6tu5W6FxfcCK"
      },
      "source": [
        "# here we will use Zeelando's Fashion MNIST dataset\n",
        "import torchvision.datasets as dsets\n",
        "from torchvision import transforms"
      ],
      "execution_count": null,
      "outputs": []
    },
    {
      "cell_type": "code",
      "metadata": {
        "id": "4gjf9qRng0Nb"
      },
      "source": [
        "fmnist = dsets.FashionMNIST(root = '/data_new', train = True, download = True, transform = transforms.ToTensor())"
      ],
      "execution_count": null,
      "outputs": []
    },
    {
      "cell_type": "code",
      "metadata": {
        "id": "Pb-UcHxmhCk3",
        "outputId": "c9994eb0-045d-4d08-887b-af6374951e4e",
        "colab": {
          "base_uri": "https://localhost:8080/",
          "height": 123
        }
      },
      "source": [
        "fmnist"
      ],
      "execution_count": null,
      "outputs": [
        {
          "output_type": "execute_result",
          "data": {
            "text/plain": [
              "Dataset FashionMNIST\n",
              "    Number of datapoints: 60000\n",
              "    Root location: /data_new\n",
              "    Split: Train\n",
              "    StandardTransform\n",
              "Transform: ToTensor()"
            ]
          },
          "metadata": {
            "tags": []
          },
          "execution_count": 11
        }
      ]
    },
    {
      "cell_type": "code",
      "metadata": {
        "id": "0_Mt8G7KhRCd"
      },
      "source": [
        "# image visualization function\n",
        "# sample[0] consists of the image stored in the form of a n dimensional tensor\n",
        "# sample[1] consists of image label\n",
        "# as plt.imshow() deals with numpy array, so while polotting 1st converting to numpy array and reshaping\n",
        "# the ndarray with the shape tuple passed as function argument\n",
        "\n",
        "def show_img(sample, shape = (28,28)):\n",
        "  plt.imshow(sample.numpy().reshape(shape))\n",
        "  plt.title('y = '+sample[1])"
      ],
      "execution_count": null,
      "outputs": []
    },
    {
      "cell_type": "code",
      "metadata": {
        "id": "1YVN-RvCiinS"
      },
      "source": [
        "# loading the datafile into a dataframe\n",
        "\n",
        "dataframe = pd.read_csv((file_name))\n",
        "# the dataframe consists of 2 columns for each datapoints or image\n",
        "# 1. Category of image\n",
        "# 2. Image name"
      ],
      "execution_count": null,
      "outputs": []
    },
    {
      "cell_type": "code",
      "metadata": {
        "id": "ceOnyghZoXKi"
      },
      "source": [
        "# using plt.imread we can read the image\n",
        "plt.imread(image_path)\n",
        "# apart from that using Image correponds to PIL library we can do the same\n",
        "# Image.open()"
      ],
      "execution_count": null,
      "outputs": []
    },
    {
      "cell_type": "code",
      "metadata": {
        "id": "PNPQxavSpGiU"
      },
      "source": [
        "# create an own dataset\n",
        "\n",
        "from torch.utils.data import Dataset\n",
        "\n",
        "class img_Dataset(Dataset):\n",
        "  def __init__(self, img_path, csv_path, transform=None):\n",
        "    self.path = csv_path\n",
        "    self.ipath = img_path\n",
        "    self.imgdata = pd.read_csv(self.path)\n",
        "    self.len = self.imgdata.shape[0]\n",
        "    self.transform = transform\n",
        "\n",
        "  def __len__(self):\n",
        "    return self.len\n",
        "\n",
        "  def __getitem__(self, idx):\n",
        "    img_name = os.path.join(self.ipath, self.imgdata.iloc[idx, 0])\n",
        "    img = Image.open(img_name)\n",
        "    y = self.imgdata.iloc[idx, 1]\n",
        "    if self.transform:\n",
        "      img = self.transform(img)\n",
        "\n",
        "    return img, y\n",
        "\n",
        "# create dataset objects accordingly\n"
      ],
      "execution_count": null,
      "outputs": []
    },
    {
      "cell_type": "code",
      "metadata": {
        "id": "DudJc94zz0RK"
      },
      "source": [
        "comp_obj = transforms.Compose([transforms.RandomHorizontalFlip(p = 1), transforms.ToTensor()])"
      ],
      "execution_count": null,
      "outputs": []
    },
    {
      "cell_type": "code",
      "metadata": {
        "id": "_0D_QeNj08eD"
      },
      "source": [
        "# transforms.totensor() converts the image to a pytorch tensor\n",
        "# in the dataset object we don't store all the images, we just store the info of dataset through a csv file\n",
        "# then we acces each sample of images using the __getitem__ function"
      ],
      "execution_count": null,
      "outputs": []
    },
    {
      "cell_type": "code",
      "metadata": {
        "id": "8ilrivXr2zC-"
      },
      "source": [
        "# like keras in pytorch the torchvision also have some datasets\n",
        "import torchvision.datasets as dsets\n",
        "\n",
        "dataset_mnist  =dsets.FashionMNIST(root = '/data', train = True, download = True, transform = transforms.ToTensor())"
      ],
      "execution_count": null,
      "outputs": []
    },
    {
      "cell_type": "markdown",
      "metadata": {
        "id": "fJhkT88vQpi6"
      },
      "source": [
        "# implementing linear regression using pytorch\n",
        "y = w*x + b"
      ]
    },
    {
      "cell_type": "code",
      "metadata": {
        "id": "QBAYqy183R5s",
        "outputId": "30c1a701-bf7e-49da-d7df-a3a3d1d80f28",
        "colab": {
          "base_uri": "https://localhost:8080/",
          "height": 70
        }
      },
      "source": [
        "import torch\n",
        "\n",
        "# weight parameter or slope parameter of the linear regression\n",
        "w = torch.tensor(2.0, requires_grad = True)\n",
        "# bias parameter or intercept parameter\n",
        "b = torch.tensor(-1.0, requires_grad = True)\n",
        "\n",
        "# now we will define a forward propagation function\n",
        "def forward(x):\n",
        "  # yhat here is the predicted value of y\n",
        "  yhat = w*x + b\n",
        "  return yhat\n",
        "\n",
        "# we declared x as vertical tensor or column vector\n",
        "x = torch.tensor([[1.0],[2.0]])\n",
        "print('Forward prop: ',forward(x))\n",
        "print(x.shape)\n"
      ],
      "execution_count": null,
      "outputs": [
        {
          "output_type": "stream",
          "text": [
            "Forward prop:  tensor([[1.],\n",
            "        [3.]], grad_fn=<AddBackward0>)\n",
            "torch.Size([2, 1])\n"
          ],
          "name": "stdout"
        }
      ]
    },
    {
      "cell_type": "markdown",
      "metadata": {
        "id": "Fr0__eKtqirU"
      },
      "source": [
        "# Linear Class\n",
        "\n",
        "The linear class corresponds to torch.nn (nn = Neural Network)\n",
        "\n",
        "Using the linear class we can implement Linear Regression, we can also implement more complex functions "
      ]
    },
    {
      "cell_type": "code",
      "metadata": {
        "id": "d1LAc827pWIU"
      },
      "source": [
        "from torch.nn import Linear\n"
      ],
      "execution_count": null,
      "outputs": []
    },
    {
      "cell_type": "code",
      "metadata": {
        "id": "DZHgkAuarevw"
      },
      "source": [
        "torch.manual_seed(1)\n",
        "# torch.manual_seed(), helps whenever torch parameters are initialized, they will be initialized with the same values\n",
        "lr = Linear(in_features=1, out_features=1, bias = True)\n"
      ],
      "execution_count": null,
      "outputs": []
    },
    {
      "cell_type": "code",
      "metadata": {
        "id": "N9zN_J7AroNh",
        "outputId": "48865b9a-da59-4c93-ec81-4ae596d23253",
        "colab": {
          "base_uri": "https://localhost:8080/",
          "height": 70
        }
      },
      "source": [
        "print(list(lr.parameters()))"
      ],
      "execution_count": null,
      "outputs": [
        {
          "output_type": "stream",
          "text": [
            "[Parameter containing:\n",
            "tensor([[0.5153]], requires_grad=True), Parameter containing:\n",
            "tensor([-0.4414], requires_grad=True)]\n"
          ],
          "name": "stdout"
        }
      ]
    },
    {
      "cell_type": "code",
      "metadata": {
        "id": "LQYNl64esG1X",
        "outputId": "c84aac55-0647-4e3c-81ac-49239fa2e413",
        "colab": {
          "base_uri": "https://localhost:8080/",
          "height": 70
        }
      },
      "source": [
        "# we can more precisely find the parameters\n",
        "print(lr.weight, lr.bias)"
      ],
      "execution_count": null,
      "outputs": [
        {
          "output_type": "stream",
          "text": [
            "Parameter containing:\n",
            "tensor([[0.5153]], requires_grad=True) Parameter containing:\n",
            "tensor([-0.4414], requires_grad=True)\n"
          ],
          "name": "stdout"
        }
      ]
    },
    {
      "cell_type": "code",
      "metadata": {
        "id": "8iyp6irxsYfP"
      },
      "source": [
        "# so we get the forward prop function as yhat = 0.5153 * x + (-0.4414)\n",
        "\n",
        "x = torch.tensor([[1.0],[2.0],[3.0]], requires_grad=True)\n",
        "yhat = lr(x)"
      ],
      "execution_count": null,
      "outputs": []
    },
    {
      "cell_type": "code",
      "metadata": {
        "id": "ewicq6okswYR",
        "outputId": "a3e2ab94-fc50-4530-d810-02d462b6d7fc",
        "colab": {
          "base_uri": "https://localhost:8080/",
          "height": 70
        }
      },
      "source": [
        "print(yhat)"
      ],
      "execution_count": null,
      "outputs": [
        {
          "output_type": "stream",
          "text": [
            "tensor([[0.0739],\n",
            "        [0.5891],\n",
            "        [1.1044]], grad_fn=<AddmmBackward>)\n"
          ],
          "name": "stdout"
        }
      ]
    },
    {
      "cell_type": "markdown",
      "metadata": {
        "id": "roQYWaWrwabx"
      },
      "source": [
        "So, the concept is, when we create instance of Linear Class\n",
        "The lr dictionary object is created here\n",
        "Items of the dictionaries are two\n",
        "1. Weight(matrix)\n",
        "2. Bias matrix\n",
        "\n",
        "1. lr.state_dict().values return the two matrix corresponding to the weight and bias\n",
        "2. lr.state_dict().keys return the keys which are weight and bias"
      ]
    },
    {
      "cell_type": "code",
      "metadata": {
        "id": "y3dUJTeMs0QP",
        "outputId": "71a983f8-e7de-4d31-e0ce-346e1e6d3719",
        "colab": {
          "base_uri": "https://localhost:8080/",
          "height": 87
        }
      },
      "source": [
        "print(lr.state_dict())\n",
        "print(lr.state_dict().keys())\n",
        "print(lr.state_dict().values())\n",
        "print(lr.state_dict().items())"
      ],
      "execution_count": null,
      "outputs": [
        {
          "output_type": "stream",
          "text": [
            "OrderedDict([('weight', tensor([[0.5153]])), ('bias', tensor([-0.4414]))])\n",
            "odict_keys(['weight', 'bias'])\n",
            "odict_values([tensor([[0.5153]]), tensor([-0.4414])])\n",
            "odict_items([('weight', tensor([[0.5153]])), ('bias', tensor([-0.4414]))])\n"
          ],
          "name": "stdout"
        }
      ]
    },
    {
      "cell_type": "markdown",
      "metadata": {
        "id": "UMYHir4CxA4V"
      },
      "source": [
        "# Custom Linear Module"
      ]
    },
    {
      "cell_type": "code",
      "metadata": {
        "id": "YpKBVh9rtGGH"
      },
      "source": [
        "from torch import nn"
      ],
      "execution_count": null,
      "outputs": []
    },
    {
      "cell_type": "markdown",
      "metadata": {
        "id": "YUXrToySMV5j"
      },
      "source": [
        "1. we create a custom module for implementing the linear regression module\n",
        "2. the LR module is inherited from nn.Module parent class, which can be helpful in building more complex module\n",
        "3. As we do here super(LR, self).__init__(), her we call object of super class "
      ]
    },
    {
      "cell_type": "code",
      "metadata": {
        "id": "uz64g71I7gfE"
      },
      "source": [
        "class LR(nn.Module):\n",
        "  def __init__(self, input_size, output_size):\n",
        "    super(LR, self).__init__()\n",
        "    self.linear = nn.Linear(input_size, output_size)\n",
        "  def forward(self, x):\n",
        "    out = self.linear(x)\n",
        "    print('b')\n",
        "    return out\n",
        "  def bward(self, x):\n",
        "    print('c')\n",
        "    out1 = self.linear(x) * 2\n",
        "    return out1"
      ],
      "execution_count": null,
      "outputs": []
    },
    {
      "cell_type": "code",
      "metadata": {
        "id": "UQL2mczNLWM2",
        "outputId": "ef5254fe-b961-434a-d0a3-489d24dbc2e2",
        "colab": {
          "base_uri": "https://localhost:8080/",
          "height": 52
        }
      },
      "source": [
        "lr = LR(1,1)\n",
        "x = torch.tensor([2.0])\n",
        "print(lr.bward(x))"
      ],
      "execution_count": null,
      "outputs": [
        {
          "output_type": "stream",
          "text": [
            "c\n",
            "tensor([-2.6975], grad_fn=<MulBackward0>)\n"
          ],
          "name": "stdout"
        }
      ]
    },
    {
      "cell_type": "code",
      "metadata": {
        "id": "NxrInGzrLZ53"
      },
      "source": [
        "# here we are creating a callable  \n",
        "class animal(object):\n",
        "  def __init__(self):\n",
        "    print('Entered')\n",
        "\n",
        "  def mt(self):\n",
        "    print('parent')\n",
        "\n",
        "class human(animal):\n",
        "  def __init__(self):\n",
        "    print('out')\n",
        "    #super(human, self).__init__()\n",
        "  def __call__(self):\n",
        "    print('new')\n",
        "    return 0\n"
      ],
      "execution_count": null,
      "outputs": []
    },
    {
      "cell_type": "code",
      "metadata": {
        "id": "eYM1nnKDN4N7",
        "outputId": "d6089b8f-19c9-440e-cf38-fc69dc95483c",
        "colab": {
          "base_uri": "https://localhost:8080/",
          "height": 70
        }
      },
      "source": [
        "h = human()\n",
        "print(h())"
      ],
      "execution_count": null,
      "outputs": [
        {
          "output_type": "stream",
          "text": [
            "out\n",
            "new\n",
            "0\n"
          ],
          "name": "stdout"
        }
      ]
    },
    {
      "cell_type": "code",
      "metadata": {
        "id": "ALW5Ki7BN86P"
      },
      "source": [
        "# inheriting the parent class from LR child class\n",
        "class LR(nn.Module):\n",
        "  def __init__(self, input_size, output_size):\n",
        "    self.linear = nn.Linear(input_size, output_size)\n",
        "  def forward(self, x):\n",
        "    out = self.linear(x)\n",
        "    return out\n"
      ],
      "execution_count": null,
      "outputs": []
    },
    {
      "cell_type": "code",
      "metadata": {
        "id": "G5ZPK4deeXEL"
      },
      "source": [
        "import torch"
      ],
      "execution_count": null,
      "outputs": []
    },
    {
      "cell_type": "code",
      "metadata": {
        "id": "yrLRVkMGeYgH",
        "outputId": "db4c6ed6-369c-41d6-a9b4-44a995865d2a",
        "colab": {
          "base_uri": "https://localhost:8080/",
          "height": 34
        }
      },
      "source": [
        "x = torch.arange(-3, 3, 0.1).view(-1,1)\n",
        "print(x.shape)"
      ],
      "execution_count": null,
      "outputs": [
        {
          "output_type": "stream",
          "text": [
            "torch.Size([60, 1])\n"
          ],
          "name": "stdout"
        }
      ]
    },
    {
      "cell_type": "code",
      "metadata": {
        "id": "aySPCPdvel9q"
      },
      "source": [
        "# torch.arange() creates a 0 dimensional array,\n",
        "# we pass start value, end value, then pass the difference, based on that the torch tensor is created\n",
        "# tensor.view(-1, 1) \n",
        "w = torch.tensor(2.0, requires_grad=True)\n",
        "\n",
        "f = 2*w "
      ],
      "execution_count": null,
      "outputs": []
    },
    {
      "cell_type": "code",
      "metadata": {
        "id": "R4Yw9X1UjGZY"
      },
      "source": [
        "# forward propagation function\n",
        "w = torch.tensor(0, requires_grad=True, dtype = torch.float32)\n",
        "b = torch.tensor(0, requires_grad=True, dtype = torch.float32)\n",
        "def forward(x):\n",
        "  f = w * x + b\n",
        "  return f"
      ],
      "execution_count": null,
      "outputs": []
    },
    {
      "cell_type": "code",
      "metadata": {
        "id": "MJ9t_myDnLAs"
      },
      "source": [
        "# calculating mean square error\n",
        "def mse(yhat, y):\n",
        "  return torch.mean((yhat - y)**2)\n",
        "\n"
      ],
      "execution_count": null,
      "outputs": []
    },
    {
      "cell_type": "code",
      "metadata": {
        "id": "rVLfyM9rk-bl"
      },
      "source": [
        "# lets create a function for linear regression\n",
        "LOSS = []\n",
        "\n",
        "def train_model(iter):\n",
        "  for epoch in range(iter):\n",
        "    yhat = forward(x)\n",
        "\n",
        "    loss = mse(yhat, y)\n",
        "\n",
        "    LOSS.append(loss.item())\n",
        "\n",
        "    loss.backward()\n",
        "    lr = 0.01\n",
        "    w.data = w.data - lr * w.grad.data\n",
        "    b.data = b.data - lr * b.grad.data\n",
        "\n",
        "    w.grad.data.zero_()\n",
        "    b.grad.data.zero_()"
      ],
      "execution_count": null,
      "outputs": []
    },
    {
      "cell_type": "code",
      "metadata": {
        "id": "4aGTNHN6o0e-"
      },
      "source": [
        "x = torch.arange(-3, 3, 0.1).view(-1, 1)\n",
        "y = 3 * x + 1"
      ],
      "execution_count": null,
      "outputs": []
    },
    {
      "cell_type": "code",
      "metadata": {
        "id": "mUDwVWDIpMFy"
      },
      "source": [
        "train_model(1000)"
      ],
      "execution_count": null,
      "outputs": []
    },
    {
      "cell_type": "code",
      "metadata": {
        "id": "K8QzuVWJqW6S",
        "outputId": "12d9a900-d73f-48d9-d287-b6ebd0146971",
        "colab": {
          "base_uri": "https://localhost:8080/",
          "height": 34
        }
      },
      "source": [
        "print(w, b)"
      ],
      "execution_count": null,
      "outputs": [
        {
          "output_type": "stream",
          "text": [
            "tensor(3.0000, requires_grad=True) tensor(1.0000, requires_grad=True)\n"
          ],
          "name": "stdout"
        }
      ]
    },
    {
      "cell_type": "code",
      "metadata": {
        "id": "zpVO3yeWqtqb"
      },
      "source": [
        "# finally we obtain a value of w which is close to actual desired value of w\n",
        "# note here, w.grad.zero_()\n",
        "# w.grad.data.zero_() it helps to fill the w.grad.data tensors with zeros, \n",
        "# so that w.grad.data can store d(loss)/dw\n",
        "# in this way we did the training\n",
        "loss.backward() calculates the backward derivation\n",
        "w.grad.data calculates dloss/dw at that particular value of x, w, b\n"
      ],
      "execution_count": null,
      "outputs": []
    },
    {
      "cell_type": "code",
      "metadata": {
        "id": "Uyd4kGhIut-H",
        "outputId": "8e001d57-3195-4de4-8f84-5630b3d8aa23",
        "colab": {
          "base_uri": "https://localhost:8080/",
          "height": 282
        }
      },
      "source": [
        "from matplotlib import pyplot as plt\n",
        "epoch = range(1000)\n",
        "plt.plot(epoch, LOSS)"
      ],
      "execution_count": null,
      "outputs": [
        {
          "output_type": "execute_result",
          "data": {
            "text/plain": [
              "[<matplotlib.lines.Line2D at 0x7f063bb991d0>]"
            ]
          },
          "metadata": {
            "tags": []
          },
          "execution_count": 58
        },
        {
          "output_type": "display_data",
          "data": {
            "image/png": "[encoded data removed]",
            "text/plain": [
              "<Figure size 432x288 with 1 Axes>"
            ]
          },
          "metadata": {
            "tags": [],
            "needs_background": "light"
          }
        }
      ]
    },
    {
      "cell_type": "code",
      "metadata": {
        "id": "21ikg0IPvLTT",
        "outputId": "d5f1594b-5c70-43ff-b513-ed19dfb60665",
        "colab": {
          "base_uri": "https://localhost:8080/",
          "height": 167
        }
      },
      "source": [
        "print(LOSS.size)"
      ],
      "execution_count": null,
      "outputs": [
        {
          "output_type": "error",
          "ename": "AttributeError",
          "evalue": "ignored",
          "traceback": [
            "\u001b[0;31m---------------------------------------------------------------------------\u001b[0m",
            "\u001b[0;31mAttributeError\u001b[0m                            Traceback (most recent call last)",
            "\u001b[0;32m<ipython-input-57-9ce5d65e7c07>\u001b[0m in \u001b[0;36m<module>\u001b[0;34m()\u001b[0m\n\u001b[0;32m----> 1\u001b[0;31m \u001b[0mprint\u001b[0m\u001b[0;34m(\u001b[0m\u001b[0mLOSS\u001b[0m\u001b[0;34m.\u001b[0m\u001b[0msize\u001b[0m\u001b[0;34m)\u001b[0m\u001b[0;34m\u001b[0m\u001b[0;34m\u001b[0m\u001b[0m\n\u001b[0m",
            "\u001b[0;31mAttributeError\u001b[0m: 'list' object has no attribute 'size'"
          ]
        }
      ]
    },
    {
      "cell_type": "code",
      "metadata": {
        "id": "U_RHFDZlvSDq"
      },
      "source": [
        ""
      ],
      "execution_count": null,
      "outputs": []
    }
  ]
}