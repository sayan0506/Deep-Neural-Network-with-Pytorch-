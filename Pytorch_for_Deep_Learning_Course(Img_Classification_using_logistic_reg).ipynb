{
  "nbformat": 4,
  "nbformat_minor": 0,
  "metadata": {
    "colab": {
      "name": "Pytorch for Deep Learning Course(Img_Classification_using_logistic_reg).ipynb",
      "provenance": [],
      "collapsed_sections": [],
      "authorship_tag": "ABX9TyOTH7xPL6LCcPNuQVJSxQp9",
      "include_colab_link": true
    },
    "kernelspec": {
      "name": "python3",
      "display_name": "Python 3"
    },
    "widgets": {
      "application/vnd.jupyter.widget-state+json": {
        "4b386f499a4e43888fcbb57f978a4027": {
          "model_module": "@jupyter-widgets/controls",
          "model_name": "HBoxModel",
          "state": {
            "_view_name": "HBoxView",
            "_dom_classes": [],
            "_model_name": "HBoxModel",
            "_view_module": "@jupyter-widgets/controls",
            "_model_module_version": "1.5.0",
            "_view_count": null,
            "_view_module_version": "1.5.0",
            "box_style": "",
            "layout": "IPY_MODEL_704b0acbcb4c4ffd8d0df4dcc54bf684",
            "_model_module": "@jupyter-widgets/controls",
            "children": [
              "IPY_MODEL_5b7afcbb95c94b59b7d9606eb8d24fa7",
              "IPY_MODEL_899d534014904b82a9d70b179ce6d172"
            ]
          }
        },
        "704b0acbcb4c4ffd8d0df4dcc54bf684": {
          "model_module": "@jupyter-widgets/base",
          "model_name": "LayoutModel",
          "state": {
            "_view_name": "LayoutView",
            "grid_template_rows": null,
            "right": null,
            "justify_content": null,
            "_view_module": "@jupyter-widgets/base",
            "overflow": null,
            "_model_module_version": "1.2.0",
            "_view_count": null,
            "flex_flow": null,
            "width": null,
            "min_width": null,
            "border": null,
            "align_items": null,
            "bottom": null,
            "_model_module": "@jupyter-widgets/base",
            "top": null,
            "grid_column": null,
            "overflow_y": null,
            "overflow_x": null,
            "grid_auto_flow": null,
            "grid_area": null,
            "grid_template_columns": null,
            "flex": null,
            "_model_name": "LayoutModel",
            "justify_items": null,
            "grid_row": null,
            "max_height": null,
            "align_content": null,
            "visibility": null,
            "align_self": null,
            "height": null,
            "min_height": null,
            "padding": null,
            "grid_auto_rows": null,
            "grid_gap": null,
            "max_width": null,
            "order": null,
            "_view_module_version": "1.2.0",
            "grid_template_areas": null,
            "object_position": null,
            "object_fit": null,
            "grid_auto_columns": null,
            "margin": null,
            "display": null,
            "left": null
          }
        },
        "5b7afcbb95c94b59b7d9606eb8d24fa7": {
          "model_module": "@jupyter-widgets/controls",
          "model_name": "FloatProgressModel",
          "state": {
            "_view_name": "ProgressView",
            "style": "IPY_MODEL_c25456fc379e444cbc9e64dd24353931",
            "_dom_classes": [],
            "description": "",
            "_model_name": "FloatProgressModel",
            "bar_style": "success",
            "max": 1,
            "_view_module": "@jupyter-widgets/controls",
            "_model_module_version": "1.5.0",
            "value": 1,
            "_view_count": null,
            "_view_module_version": "1.5.0",
            "orientation": "horizontal",
            "min": 0,
            "description_tooltip": null,
            "_model_module": "@jupyter-widgets/controls",
            "layout": "IPY_MODEL_117dbe21b6a94a66a61a798625e28df6"
          }
        },
        "899d534014904b82a9d70b179ce6d172": {
          "model_module": "@jupyter-widgets/controls",
          "model_name": "HTMLModel",
          "state": {
            "_view_name": "HTMLView",
            "style": "IPY_MODEL_dd1d662613e64db0a305bcfac6931c97",
            "_dom_classes": [],
            "description": "",
            "_model_name": "HTMLModel",
            "placeholder": "​",
            "_view_module": "@jupyter-widgets/controls",
            "_model_module_version": "1.5.0",
            "value": " 9920512/? [00:02&lt;00:00, 3329205.58it/s]",
            "_view_count": null,
            "_view_module_version": "1.5.0",
            "description_tooltip": null,
            "_model_module": "@jupyter-widgets/controls",
            "layout": "IPY_MODEL_1527970f2a4243a3a0171f5ce34a664c"
          }
        },
        "c25456fc379e444cbc9e64dd24353931": {
          "model_module": "@jupyter-widgets/controls",
          "model_name": "ProgressStyleModel",
          "state": {
            "_view_name": "StyleView",
            "_model_name": "ProgressStyleModel",
            "description_width": "initial",
            "_view_module": "@jupyter-widgets/base",
            "_model_module_version": "1.5.0",
            "_view_count": null,
            "_view_module_version": "1.2.0",
            "bar_color": null,
            "_model_module": "@jupyter-widgets/controls"
          }
        },
        "117dbe21b6a94a66a61a798625e28df6": {
          "model_module": "@jupyter-widgets/base",
          "model_name": "LayoutModel",
          "state": {
            "_view_name": "LayoutView",
            "grid_template_rows": null,
            "right": null,
            "justify_content": null,
            "_view_module": "@jupyter-widgets/base",
            "overflow": null,
            "_model_module_version": "1.2.0",
            "_view_count": null,
            "flex_flow": null,
            "width": null,
            "min_width": null,
            "border": null,
            "align_items": null,
            "bottom": null,
            "_model_module": "@jupyter-widgets/base",
            "top": null,
            "grid_column": null,
            "overflow_y": null,
            "overflow_x": null,
            "grid_auto_flow": null,
            "grid_area": null,
            "grid_template_columns": null,
            "flex": null,
            "_model_name": "LayoutModel",
            "justify_items": null,
            "grid_row": null,
            "max_height": null,
            "align_content": null,
            "visibility": null,
            "align_self": null,
            "height": null,
            "min_height": null,
            "padding": null,
            "grid_auto_rows": null,
            "grid_gap": null,
            "max_width": null,
            "order": null,
            "_view_module_version": "1.2.0",
            "grid_template_areas": null,
            "object_position": null,
            "object_fit": null,
            "grid_auto_columns": null,
            "margin": null,
            "display": null,
            "left": null
          }
        },
        "dd1d662613e64db0a305bcfac6931c97": {
          "model_module": "@jupyter-widgets/controls",
          "model_name": "DescriptionStyleModel",
          "state": {
            "_view_name": "StyleView",
            "_model_name": "DescriptionStyleModel",
            "description_width": "",
            "_view_module": "@jupyter-widgets/base",
            "_model_module_version": "1.5.0",
            "_view_count": null,
            "_view_module_version": "1.2.0",
            "_model_module": "@jupyter-widgets/controls"
          }
        },
        "1527970f2a4243a3a0171f5ce34a664c": {
          "model_module": "@jupyter-widgets/base",
          "model_name": "LayoutModel",
          "state": {
            "_view_name": "LayoutView",
            "grid_template_rows": null,
            "right": null,
            "justify_content": null,
            "_view_module": "@jupyter-widgets/base",
            "overflow": null,
            "_model_module_version": "1.2.0",
            "_view_count": null,
            "flex_flow": null,
            "width": null,
            "min_width": null,
            "border": null,
            "align_items": null,
            "bottom": null,
            "_model_module": "@jupyter-widgets/base",
            "top": null,
            "grid_column": null,
            "overflow_y": null,
            "overflow_x": null,
            "grid_auto_flow": null,
            "grid_area": null,
            "grid_template_columns": null,
            "flex": null,
            "_model_name": "LayoutModel",
            "justify_items": null,
            "grid_row": null,
            "max_height": null,
            "align_content": null,
            "visibility": null,
            "align_self": null,
            "height": null,
            "min_height": null,
            "padding": null,
            "grid_auto_rows": null,
            "grid_gap": null,
            "max_width": null,
            "order": null,
            "_view_module_version": "1.2.0",
            "grid_template_areas": null,
            "object_position": null,
            "object_fit": null,
            "grid_auto_columns": null,
            "margin": null,
            "display": null,
            "left": null
          }
        },
        "a76eb995cb8b4f66bae19d36cf946a30": {
          "model_module": "@jupyter-widgets/controls",
          "model_name": "HBoxModel",
          "state": {
            "_view_name": "HBoxView",
            "_dom_classes": [],
            "_model_name": "HBoxModel",
            "_view_module": "@jupyter-widgets/controls",
            "_model_module_version": "1.5.0",
            "_view_count": null,
            "_view_module_version": "1.5.0",
            "box_style": "",
            "layout": "IPY_MODEL_ebd3e546f3f947878914fa61659e389b",
            "_model_module": "@jupyter-widgets/controls",
            "children": [
              "IPY_MODEL_f126a3745e334ad4b89110ee06fb5d69",
              "IPY_MODEL_a92a639558f447a5a3db695963184b61"
            ]
          }
        },
        "ebd3e546f3f947878914fa61659e389b": {
          "model_module": "@jupyter-widgets/base",
          "model_name": "LayoutModel",
          "state": {
            "_view_name": "LayoutView",
            "grid_template_rows": null,
            "right": null,
            "justify_content": null,
            "_view_module": "@jupyter-widgets/base",
            "overflow": null,
            "_model_module_version": "1.2.0",
            "_view_count": null,
            "flex_flow": null,
            "width": null,
            "min_width": null,
            "border": null,
            "align_items": null,
            "bottom": null,
            "_model_module": "@jupyter-widgets/base",
            "top": null,
            "grid_column": null,
            "overflow_y": null,
            "overflow_x": null,
            "grid_auto_flow": null,
            "grid_area": null,
            "grid_template_columns": null,
            "flex": null,
            "_model_name": "LayoutModel",
            "justify_items": null,
            "grid_row": null,
            "max_height": null,
            "align_content": null,
            "visibility": null,
            "align_self": null,
            "height": null,
            "min_height": null,
            "padding": null,
            "grid_auto_rows": null,
            "grid_gap": null,
            "max_width": null,
            "order": null,
            "_view_module_version": "1.2.0",
            "grid_template_areas": null,
            "object_position": null,
            "object_fit": null,
            "grid_auto_columns": null,
            "margin": null,
            "display": null,
            "left": null
          }
        },
        "f126a3745e334ad4b89110ee06fb5d69": {
          "model_module": "@jupyter-widgets/controls",
          "model_name": "FloatProgressModel",
          "state": {
            "_view_name": "ProgressView",
            "style": "IPY_MODEL_b67a377019df462b9638764c885f102e",
            "_dom_classes": [],
            "description": "",
            "_model_name": "FloatProgressModel",
            "bar_style": "success",
            "max": 1,
            "_view_module": "@jupyter-widgets/controls",
            "_model_module_version": "1.5.0",
            "value": 1,
            "_view_count": null,
            "_view_module_version": "1.5.0",
            "orientation": "horizontal",
            "min": 0,
            "description_tooltip": null,
            "_model_module": "@jupyter-widgets/controls",
            "layout": "IPY_MODEL_4224495280e3469cae6976d3433ff1ad"
          }
        },
        "a92a639558f447a5a3db695963184b61": {
          "model_module": "@jupyter-widgets/controls",
          "model_name": "HTMLModel",
          "state": {
            "_view_name": "HTMLView",
            "style": "IPY_MODEL_9bcc1cd4fb5b469788da4eeec248554d",
            "_dom_classes": [],
            "description": "",
            "_model_name": "HTMLModel",
            "placeholder": "​",
            "_view_module": "@jupyter-widgets/controls",
            "_model_module_version": "1.5.0",
            "value": " 32768/? [00:00&lt;00:00, 216719.84it/s]",
            "_view_count": null,
            "_view_module_version": "1.5.0",
            "description_tooltip": null,
            "_model_module": "@jupyter-widgets/controls",
            "layout": "IPY_MODEL_25ebcc607bf64079a827382386b450ee"
          }
        },
        "b67a377019df462b9638764c885f102e": {
          "model_module": "@jupyter-widgets/controls",
          "model_name": "ProgressStyleModel",
          "state": {
            "_view_name": "StyleView",
            "_model_name": "ProgressStyleModel",
            "description_width": "initial",
            "_view_module": "@jupyter-widgets/base",
            "_model_module_version": "1.5.0",
            "_view_count": null,
            "_view_module_version": "1.2.0",
            "bar_color": null,
            "_model_module": "@jupyter-widgets/controls"
          }
        },
        "4224495280e3469cae6976d3433ff1ad": {
          "model_module": "@jupyter-widgets/base",
          "model_name": "LayoutModel",
          "state": {
            "_view_name": "LayoutView",
            "grid_template_rows": null,
            "right": null,
            "justify_content": null,
            "_view_module": "@jupyter-widgets/base",
            "overflow": null,
            "_model_module_version": "1.2.0",
            "_view_count": null,
            "flex_flow": null,
            "width": null,
            "min_width": null,
            "border": null,
            "align_items": null,
            "bottom": null,
            "_model_module": "@jupyter-widgets/base",
            "top": null,
            "grid_column": null,
            "overflow_y": null,
            "overflow_x": null,
            "grid_auto_flow": null,
            "grid_area": null,
            "grid_template_columns": null,
            "flex": null,
            "_model_name": "LayoutModel",
            "justify_items": null,
            "grid_row": null,
            "max_height": null,
            "align_content": null,
            "visibility": null,
            "align_self": null,
            "height": null,
            "min_height": null,
            "padding": null,
            "grid_auto_rows": null,
            "grid_gap": null,
            "max_width": null,
            "order": null,
            "_view_module_version": "1.2.0",
            "grid_template_areas": null,
            "object_position": null,
            "object_fit": null,
            "grid_auto_columns": null,
            "margin": null,
            "display": null,
            "left": null
          }
        },
        "9bcc1cd4fb5b469788da4eeec248554d": {
          "model_module": "@jupyter-widgets/controls",
          "model_name": "DescriptionStyleModel",
          "state": {
            "_view_name": "StyleView",
            "_model_name": "DescriptionStyleModel",
            "description_width": "",
            "_view_module": "@jupyter-widgets/base",
            "_model_module_version": "1.5.0",
            "_view_count": null,
            "_view_module_version": "1.2.0",
            "_model_module": "@jupyter-widgets/controls"
          }
        },
        "25ebcc607bf64079a827382386b450ee": {
          "model_module": "@jupyter-widgets/base",
          "model_name": "LayoutModel",
          "state": {
            "_view_name": "LayoutView",
            "grid_template_rows": null,
            "right": null,
            "justify_content": null,
            "_view_module": "@jupyter-widgets/base",
            "overflow": null,
            "_model_module_version": "1.2.0",
            "_view_count": null,
            "flex_flow": null,
            "width": null,
            "min_width": null,
            "border": null,
            "align_items": null,
            "bottom": null,
            "_model_module": "@jupyter-widgets/base",
            "top": null,
            "grid_column": null,
            "overflow_y": null,
            "overflow_x": null,
            "grid_auto_flow": null,
            "grid_area": null,
            "grid_template_columns": null,
            "flex": null,
            "_model_name": "LayoutModel",
            "justify_items": null,
            "grid_row": null,
            "max_height": null,
            "align_content": null,
            "visibility": null,
            "align_self": null,
            "height": null,
            "min_height": null,
            "padding": null,
            "grid_auto_rows": null,
            "grid_gap": null,
            "max_width": null,
            "order": null,
            "_view_module_version": "1.2.0",
            "grid_template_areas": null,
            "object_position": null,
            "object_fit": null,
            "grid_auto_columns": null,
            "margin": null,
            "display": null,
            "left": null
          }
        },
        "baa58c981f7b404a97b67ff0fbdd3cc6": {
          "model_module": "@jupyter-widgets/controls",
          "model_name": "HBoxModel",
          "state": {
            "_view_name": "HBoxView",
            "_dom_classes": [],
            "_model_name": "HBoxModel",
            "_view_module": "@jupyter-widgets/controls",
            "_model_module_version": "1.5.0",
            "_view_count": null,
            "_view_module_version": "1.5.0",
            "box_style": "",
            "layout": "IPY_MODEL_8607db91591a4e6889ac887d28aea4f5",
            "_model_module": "@jupyter-widgets/controls",
            "children": [
              "IPY_MODEL_92e1d7896c824d43bf1f63e7168a5b92",
              "IPY_MODEL_1437e61d34f74e3face088e7e9a163b8"
            ]
          }
        },
        "8607db91591a4e6889ac887d28aea4f5": {
          "model_module": "@jupyter-widgets/base",
          "model_name": "LayoutModel",
          "state": {
            "_view_name": "LayoutView",
            "grid_template_rows": null,
            "right": null,
            "justify_content": null,
            "_view_module": "@jupyter-widgets/base",
            "overflow": null,
            "_model_module_version": "1.2.0",
            "_view_count": null,
            "flex_flow": null,
            "width": null,
            "min_width": null,
            "border": null,
            "align_items": null,
            "bottom": null,
            "_model_module": "@jupyter-widgets/base",
            "top": null,
            "grid_column": null,
            "overflow_y": null,
            "overflow_x": null,
            "grid_auto_flow": null,
            "grid_area": null,
            "grid_template_columns": null,
            "flex": null,
            "_model_name": "LayoutModel",
            "justify_items": null,
            "grid_row": null,
            "max_height": null,
            "align_content": null,
            "visibility": null,
            "align_self": null,
            "height": null,
            "min_height": null,
            "padding": null,
            "grid_auto_rows": null,
            "grid_gap": null,
            "max_width": null,
            "order": null,
            "_view_module_version": "1.2.0",
            "grid_template_areas": null,
            "object_position": null,
            "object_fit": null,
            "grid_auto_columns": null,
            "margin": null,
            "display": null,
            "left": null
          }
        },
        "92e1d7896c824d43bf1f63e7168a5b92": {
          "model_module": "@jupyter-widgets/controls",
          "model_name": "FloatProgressModel",
          "state": {
            "_view_name": "ProgressView",
            "style": "IPY_MODEL_8b096bbc7c6b443c8f93d0a021a1908a",
            "_dom_classes": [],
            "description": "",
            "_model_name": "FloatProgressModel",
            "bar_style": "success",
            "max": 1,
            "_view_module": "@jupyter-widgets/controls",
            "_model_module_version": "1.5.0",
            "value": 1,
            "_view_count": null,
            "_view_module_version": "1.5.0",
            "orientation": "horizontal",
            "min": 0,
            "description_tooltip": null,
            "_model_module": "@jupyter-widgets/controls",
            "layout": "IPY_MODEL_bd9c02021bcc42bb9fcda27c769ab968"
          }
        },
        "1437e61d34f74e3face088e7e9a163b8": {
          "model_module": "@jupyter-widgets/controls",
          "model_name": "HTMLModel",
          "state": {
            "_view_name": "HTMLView",
            "style": "IPY_MODEL_1de5ac8bc91c4244a06dd92963bd6e8c",
            "_dom_classes": [],
            "description": "",
            "_model_name": "HTMLModel",
            "placeholder": "​",
            "_view_module": "@jupyter-widgets/controls",
            "_model_module_version": "1.5.0",
            "value": " 1654784/? [00:01&lt;00:00, 1150582.74it/s]",
            "_view_count": null,
            "_view_module_version": "1.5.0",
            "description_tooltip": null,
            "_model_module": "@jupyter-widgets/controls",
            "layout": "IPY_MODEL_cb76234b43ec4274a5aa4364c148e9aa"
          }
        },
        "8b096bbc7c6b443c8f93d0a021a1908a": {
          "model_module": "@jupyter-widgets/controls",
          "model_name": "ProgressStyleModel",
          "state": {
            "_view_name": "StyleView",
            "_model_name": "ProgressStyleModel",
            "description_width": "initial",
            "_view_module": "@jupyter-widgets/base",
            "_model_module_version": "1.5.0",
            "_view_count": null,
            "_view_module_version": "1.2.0",
            "bar_color": null,
            "_model_module": "@jupyter-widgets/controls"
          }
        },
        "bd9c02021bcc42bb9fcda27c769ab968": {
          "model_module": "@jupyter-widgets/base",
          "model_name": "LayoutModel",
          "state": {
            "_view_name": "LayoutView",
            "grid_template_rows": null,
            "right": null,
            "justify_content": null,
            "_view_module": "@jupyter-widgets/base",
            "overflow": null,
            "_model_module_version": "1.2.0",
            "_view_count": null,
            "flex_flow": null,
            "width": null,
            "min_width": null,
            "border": null,
            "align_items": null,
            "bottom": null,
            "_model_module": "@jupyter-widgets/base",
            "top": null,
            "grid_column": null,
            "overflow_y": null,
            "overflow_x": null,
            "grid_auto_flow": null,
            "grid_area": null,
            "grid_template_columns": null,
            "flex": null,
            "_model_name": "LayoutModel",
            "justify_items": null,
            "grid_row": null,
            "max_height": null,
            "align_content": null,
            "visibility": null,
            "align_self": null,
            "height": null,
            "min_height": null,
            "padding": null,
            "grid_auto_rows": null,
            "grid_gap": null,
            "max_width": null,
            "order": null,
            "_view_module_version": "1.2.0",
            "grid_template_areas": null,
            "object_position": null,
            "object_fit": null,
            "grid_auto_columns": null,
            "margin": null,
            "display": null,
            "left": null
          }
        },
        "1de5ac8bc91c4244a06dd92963bd6e8c": {
          "model_module": "@jupyter-widgets/controls",
          "model_name": "DescriptionStyleModel",
          "state": {
            "_view_name": "StyleView",
            "_model_name": "DescriptionStyleModel",
            "description_width": "",
            "_view_module": "@jupyter-widgets/base",
            "_model_module_version": "1.5.0",
            "_view_count": null,
            "_view_module_version": "1.2.0",
            "_model_module": "@jupyter-widgets/controls"
          }
        },
        "cb76234b43ec4274a5aa4364c148e9aa": {
          "model_module": "@jupyter-widgets/base",
          "model_name": "LayoutModel",
          "state": {
            "_view_name": "LayoutView",
            "grid_template_rows": null,
            "right": null,
            "justify_content": null,
            "_view_module": "@jupyter-widgets/base",
            "overflow": null,
            "_model_module_version": "1.2.0",
            "_view_count": null,
            "flex_flow": null,
            "width": null,
            "min_width": null,
            "border": null,
            "align_items": null,
            "bottom": null,
            "_model_module": "@jupyter-widgets/base",
            "top": null,
            "grid_column": null,
            "overflow_y": null,
            "overflow_x": null,
            "grid_auto_flow": null,
            "grid_area": null,
            "grid_template_columns": null,
            "flex": null,
            "_model_name": "LayoutModel",
            "justify_items": null,
            "grid_row": null,
            "max_height": null,
            "align_content": null,
            "visibility": null,
            "align_self": null,
            "height": null,
            "min_height": null,
            "padding": null,
            "grid_auto_rows": null,
            "grid_gap": null,
            "max_width": null,
            "order": null,
            "_view_module_version": "1.2.0",
            "grid_template_areas": null,
            "object_position": null,
            "object_fit": null,
            "grid_auto_columns": null,
            "margin": null,
            "display": null,
            "left": null
          }
        },
        "f397f3d85367408094d972967b9ca977": {
          "model_module": "@jupyter-widgets/controls",
          "model_name": "HBoxModel",
          "state": {
            "_view_name": "HBoxView",
            "_dom_classes": [],
            "_model_name": "HBoxModel",
            "_view_module": "@jupyter-widgets/controls",
            "_model_module_version": "1.5.0",
            "_view_count": null,
            "_view_module_version": "1.5.0",
            "box_style": "",
            "layout": "IPY_MODEL_5b4f16ff362146f080631840af3e3c9a",
            "_model_module": "@jupyter-widgets/controls",
            "children": [
              "IPY_MODEL_49e041f7f7d14c77a9d9d29b8706543f",
              "IPY_MODEL_815169f10a94401da0392a76d28e7f7a"
            ]
          }
        },
        "5b4f16ff362146f080631840af3e3c9a": {
          "model_module": "@jupyter-widgets/base",
          "model_name": "LayoutModel",
          "state": {
            "_view_name": "LayoutView",
            "grid_template_rows": null,
            "right": null,
            "justify_content": null,
            "_view_module": "@jupyter-widgets/base",
            "overflow": null,
            "_model_module_version": "1.2.0",
            "_view_count": null,
            "flex_flow": null,
            "width": null,
            "min_width": null,
            "border": null,
            "align_items": null,
            "bottom": null,
            "_model_module": "@jupyter-widgets/base",
            "top": null,
            "grid_column": null,
            "overflow_y": null,
            "overflow_x": null,
            "grid_auto_flow": null,
            "grid_area": null,
            "grid_template_columns": null,
            "flex": null,
            "_model_name": "LayoutModel",
            "justify_items": null,
            "grid_row": null,
            "max_height": null,
            "align_content": null,
            "visibility": null,
            "align_self": null,
            "height": null,
            "min_height": null,
            "padding": null,
            "grid_auto_rows": null,
            "grid_gap": null,
            "max_width": null,
            "order": null,
            "_view_module_version": "1.2.0",
            "grid_template_areas": null,
            "object_position": null,
            "object_fit": null,
            "grid_auto_columns": null,
            "margin": null,
            "display": null,
            "left": null
          }
        },
        "49e041f7f7d14c77a9d9d29b8706543f": {
          "model_module": "@jupyter-widgets/controls",
          "model_name": "FloatProgressModel",
          "state": {
            "_view_name": "ProgressView",
            "style": "IPY_MODEL_352ddc15b87a4c42806868b7e9838619",
            "_dom_classes": [],
            "description": "",
            "_model_name": "FloatProgressModel",
            "bar_style": "success",
            "max": 1,
            "_view_module": "@jupyter-widgets/controls",
            "_model_module_version": "1.5.0",
            "value": 1,
            "_view_count": null,
            "_view_module_version": "1.5.0",
            "orientation": "horizontal",
            "min": 0,
            "description_tooltip": null,
            "_model_module": "@jupyter-widgets/controls",
            "layout": "IPY_MODEL_8524242732734bb6b1bbc9efba76df58"
          }
        },
        "815169f10a94401da0392a76d28e7f7a": {
          "model_module": "@jupyter-widgets/controls",
          "model_name": "HTMLModel",
          "state": {
            "_view_name": "HTMLView",
            "style": "IPY_MODEL_7d9440d4b9bd479f92ca372b41175d38",
            "_dom_classes": [],
            "description": "",
            "_model_name": "HTMLModel",
            "placeholder": "​",
            "_view_module": "@jupyter-widgets/controls",
            "_model_module_version": "1.5.0",
            "value": " 8192/? [00:00&lt;00:00, 16305.12it/s]",
            "_view_count": null,
            "_view_module_version": "1.5.0",
            "description_tooltip": null,
            "_model_module": "@jupyter-widgets/controls",
            "layout": "IPY_MODEL_433bba1b15c64999859f1c2fe6fc279b"
          }
        },
        "352ddc15b87a4c42806868b7e9838619": {
          "model_module": "@jupyter-widgets/controls",
          "model_name": "ProgressStyleModel",
          "state": {
            "_view_name": "StyleView",
            "_model_name": "ProgressStyleModel",
            "description_width": "initial",
            "_view_module": "@jupyter-widgets/base",
            "_model_module_version": "1.5.0",
            "_view_count": null,
            "_view_module_version": "1.2.0",
            "bar_color": null,
            "_model_module": "@jupyter-widgets/controls"
          }
        },
        "8524242732734bb6b1bbc9efba76df58": {
          "model_module": "@jupyter-widgets/base",
          "model_name": "LayoutModel",
          "state": {
            "_view_name": "LayoutView",
            "grid_template_rows": null,
            "right": null,
            "justify_content": null,
            "_view_module": "@jupyter-widgets/base",
            "overflow": null,
            "_model_module_version": "1.2.0",
            "_view_count": null,
            "flex_flow": null,
            "width": null,
            "min_width": null,
            "border": null,
            "align_items": null,
            "bottom": null,
            "_model_module": "@jupyter-widgets/base",
            "top": null,
            "grid_column": null,
            "overflow_y": null,
            "overflow_x": null,
            "grid_auto_flow": null,
            "grid_area": null,
            "grid_template_columns": null,
            "flex": null,
            "_model_name": "LayoutModel",
            "justify_items": null,
            "grid_row": null,
            "max_height": null,
            "align_content": null,
            "visibility": null,
            "align_self": null,
            "height": null,
            "min_height": null,
            "padding": null,
            "grid_auto_rows": null,
            "grid_gap": null,
            "max_width": null,
            "order": null,
            "_view_module_version": "1.2.0",
            "grid_template_areas": null,
            "object_position": null,
            "object_fit": null,
            "grid_auto_columns": null,
            "margin": null,
            "display": null,
            "left": null
          }
        },
        "7d9440d4b9bd479f92ca372b41175d38": {
          "model_module": "@jupyter-widgets/controls",
          "model_name": "DescriptionStyleModel",
          "state": {
            "_view_name": "StyleView",
            "_model_name": "DescriptionStyleModel",
            "description_width": "",
            "_view_module": "@jupyter-widgets/base",
            "_model_module_version": "1.5.0",
            "_view_count": null,
            "_view_module_version": "1.2.0",
            "_model_module": "@jupyter-widgets/controls"
          }
        },
        "433bba1b15c64999859f1c2fe6fc279b": {
          "model_module": "@jupyter-widgets/base",
          "model_name": "LayoutModel",
          "state": {
            "_view_name": "LayoutView",
            "grid_template_rows": null,
            "right": null,
            "justify_content": null,
            "_view_module": "@jupyter-widgets/base",
            "overflow": null,
            "_model_module_version": "1.2.0",
            "_view_count": null,
            "flex_flow": null,
            "width": null,
            "min_width": null,
            "border": null,
            "align_items": null,
            "bottom": null,
            "_model_module": "@jupyter-widgets/base",
            "top": null,
            "grid_column": null,
            "overflow_y": null,
            "overflow_x": null,
            "grid_auto_flow": null,
            "grid_area": null,
            "grid_template_columns": null,
            "flex": null,
            "_model_name": "LayoutModel",
            "justify_items": null,
            "grid_row": null,
            "max_height": null,
            "align_content": null,
            "visibility": null,
            "align_self": null,
            "height": null,
            "min_height": null,
            "padding": null,
            "grid_auto_rows": null,
            "grid_gap": null,
            "max_width": null,
            "order": null,
            "_view_module_version": "1.2.0",
            "grid_template_areas": null,
            "object_position": null,
            "object_fit": null,
            "grid_auto_columns": null,
            "margin": null,
            "display": null,
            "left": null
          }
        }
      }
    }
  },
  "cells": [
    {
      "cell_type": "markdown",
      "metadata": {
        "id": "view-in-github",
        "colab_type": "text"
      },
      "source": [
        "<a href=\"https://colab.research.google.com/github/sayan0506/Deep-Neural-Network-with-Pytorch-/blob/main/Pytorch_for_Deep_Learning_Course(Img_Classification_using_logistic_reg).ipynb\" target=\"_parent\"><img src=\"https://colab.research.google.com/assets/colab-badge.svg\" alt=\"Open In Colab\"/></a>"
      ]
    },
    {
      "cell_type": "markdown",
      "metadata": {
        "id": "_uxN8tizAC-w"
      },
      "source": [
        "# Image Classification using pytorch\n",
        "In this module we will use logistic regression for image classifcation using MNIST dataset for classifying digits"
      ]
    },
    {
      "cell_type": "code",
      "metadata": {
        "id": "e33Xw8ND_3z7"
      },
      "source": [
        "import torch\n",
        "# torchvision is the module that contains some utilities to work with image data in pytorch\n",
        "import torchvision\n",
        "# torchvision has standard dataset MNIST \n",
        "from torchvision.datasets import MNIST "
      ],
      "execution_count": 1,
      "outputs": []
    },
    {
      "cell_type": "code",
      "metadata": {
        "id": "P-BSw8KgAZuO",
        "outputId": "97fa54c3-ecbc-4d11-f33c-9b7fe399fa9a",
        "colab": {
          "base_uri": "https://localhost:8080/",
          "height": 395,
          "referenced_widgets": [
            "4b386f499a4e43888fcbb57f978a4027",
            "704b0acbcb4c4ffd8d0df4dcc54bf684",
            "5b7afcbb95c94b59b7d9606eb8d24fa7",
            "899d534014904b82a9d70b179ce6d172",
            "c25456fc379e444cbc9e64dd24353931",
            "117dbe21b6a94a66a61a798625e28df6",
            "dd1d662613e64db0a305bcfac6931c97",
            "1527970f2a4243a3a0171f5ce34a664c",
            "a76eb995cb8b4f66bae19d36cf946a30",
            "ebd3e546f3f947878914fa61659e389b",
            "f126a3745e334ad4b89110ee06fb5d69",
            "a92a639558f447a5a3db695963184b61",
            "b67a377019df462b9638764c885f102e",
            "4224495280e3469cae6976d3433ff1ad",
            "9bcc1cd4fb5b469788da4eeec248554d",
            "25ebcc607bf64079a827382386b450ee",
            "baa58c981f7b404a97b67ff0fbdd3cc6",
            "8607db91591a4e6889ac887d28aea4f5",
            "92e1d7896c824d43bf1f63e7168a5b92",
            "1437e61d34f74e3face088e7e9a163b8",
            "8b096bbc7c6b443c8f93d0a021a1908a",
            "bd9c02021bcc42bb9fcda27c769ab968",
            "1de5ac8bc91c4244a06dd92963bd6e8c",
            "cb76234b43ec4274a5aa4364c148e9aa",
            "f397f3d85367408094d972967b9ca977",
            "5b4f16ff362146f080631840af3e3c9a",
            "49e041f7f7d14c77a9d9d29b8706543f",
            "815169f10a94401da0392a76d28e7f7a",
            "352ddc15b87a4c42806868b7e9838619",
            "8524242732734bb6b1bbc9efba76df58",
            "7d9440d4b9bd479f92ca372b41175d38",
            "433bba1b15c64999859f1c2fe6fc279b"
          ]
        }
      },
      "source": [
        "# this is classsification problem\n",
        "# as we are trying to classify what category of data the input falls into\n",
        "data = MNIST(root = '/content/data', download = True)\n",
        "# when we pass download = True it tells to the class thta, if the data is not present in the root folder passed\n",
        "# then, download it else don't download\n",
        "# from folder we can see train_data downloaded as train gz file, similarly train, test img an labels are downloaded  "
      ],
      "execution_count": 2,
      "outputs": [
        {
          "output_type": "stream",
          "text": [
            "Downloading http://yann.lecun.com/exdb/mnist/train-images-idx3-ubyte.gz to /content/data/MNIST/raw/train-images-idx3-ubyte.gz\n"
          ],
          "name": "stdout"
        },
        {
          "output_type": "display_data",
          "data": {
            "application/vnd.jupyter.widget-view+json": {
              "model_id": "4b386f499a4e43888fcbb57f978a4027",
              "version_minor": 0,
              "version_major": 2
            },
            "text/plain": [
              "HBox(children=(FloatProgress(value=1.0, bar_style='info', max=1.0), HTML(value='')))"
            ]
          },
          "metadata": {
            "tags": []
          }
        },
        {
          "output_type": "stream",
          "text": [
            "Extracting /content/data/MNIST/raw/train-images-idx3-ubyte.gz to /content/data/MNIST/raw\n",
            "Downloading http://yann.lecun.com/exdb/mnist/train-labels-idx1-ubyte.gz to /content/data/MNIST/raw/train-labels-idx1-ubyte.gz\n"
          ],
          "name": "stdout"
        },
        {
          "output_type": "display_data",
          "data": {
            "application/vnd.jupyter.widget-view+json": {
              "model_id": "a76eb995cb8b4f66bae19d36cf946a30",
              "version_minor": 0,
              "version_major": 2
            },
            "text/plain": [
              "HBox(children=(FloatProgress(value=1.0, bar_style='info', max=1.0), HTML(value='')))"
            ]
          },
          "metadata": {
            "tags": []
          }
        },
        {
          "output_type": "stream",
          "text": [
            "Extracting /content/data/MNIST/raw/train-labels-idx1-ubyte.gz to /content/data/MNIST/raw\n",
            "Downloading http://yann.lecun.com/exdb/mnist/t10k-images-idx3-ubyte.gz to /content/data/MNIST/raw/t10k-images-idx3-ubyte.gz\n",
            "\n"
          ],
          "name": "stdout"
        },
        {
          "output_type": "display_data",
          "data": {
            "application/vnd.jupyter.widget-view+json": {
              "model_id": "baa58c981f7b404a97b67ff0fbdd3cc6",
              "version_minor": 0,
              "version_major": 2
            },
            "text/plain": [
              "HBox(children=(FloatProgress(value=1.0, bar_style='info', max=1.0), HTML(value='')))"
            ]
          },
          "metadata": {
            "tags": []
          }
        },
        {
          "output_type": "stream",
          "text": [
            "Extracting /content/data/MNIST/raw/t10k-images-idx3-ubyte.gz to /content/data/MNIST/raw\n",
            "Downloading http://yann.lecun.com/exdb/mnist/t10k-labels-idx1-ubyte.gz to /content/data/MNIST/raw/t10k-labels-idx1-ubyte.gz\n"
          ],
          "name": "stdout"
        },
        {
          "output_type": "display_data",
          "data": {
            "application/vnd.jupyter.widget-view+json": {
              "model_id": "f397f3d85367408094d972967b9ca977",
              "version_minor": 0,
              "version_major": 2
            },
            "text/plain": [
              "HBox(children=(FloatProgress(value=1.0, bar_style='info', max=1.0), HTML(value='')))"
            ]
          },
          "metadata": {
            "tags": []
          }
        },
        {
          "output_type": "stream",
          "text": [
            "Extracting /content/data/MNIST/raw/t10k-labels-idx1-ubyte.gz to /content/data/MNIST/raw\n",
            "Processing...\n",
            "Done!\n"
          ],
          "name": "stdout"
        },
        {
          "output_type": "stream",
          "text": [
            "/usr/local/lib/python3.6/dist-packages/torchvision/datasets/mnist.py:469: UserWarning: The given NumPy array is not writeable, and PyTorch does not support non-writeable tensors. This means you can write to the underlying (supposedly non-writeable) NumPy array using the tensor. You may want to copy the array to protect its data or make it writeable before converting it to a tensor. This type of warning will be suppressed for the rest of this program. (Triggered internally at  /pytorch/torch/csrc/utils/tensor_numpy.cpp:141.)\n",
            "  return torch.from_numpy(parsed.astype(m[2], copy=False)).view(*s)\n"
          ],
          "name": "stderr"
        }
      ]
    },
    {
      "cell_type": "code",
      "metadata": {
        "id": "B3OFCkNmGmrD",
        "outputId": "61e90767-8d65-445b-b820-8cf38b266faf",
        "colab": {
          "base_uri": "https://localhost:8080/",
          "height": 34
        }
      },
      "source": [
        "len(data)"
      ],
      "execution_count": 3,
      "outputs": [
        {
          "output_type": "execute_result",
          "data": {
            "text/plain": [
              "60000"
            ]
          },
          "metadata": {
            "tags": []
          },
          "execution_count": 3
        }
      ]
    },
    {
      "cell_type": "code",
      "metadata": {
        "id": "bspznKoOHSCo"
      },
      "source": [
        "# let's download test images\n",
        "test_dataset = MNIST(root = '/content/data', download = True, train=False)"
      ],
      "execution_count": 4,
      "outputs": []
    },
    {
      "cell_type": "code",
      "metadata": {
        "id": "jt6ovqWTHnOO",
        "outputId": "dcebd84e-de7f-45a0-cb04-1a85964d7597",
        "colab": {
          "base_uri": "https://localhost:8080/",
          "height": 34
        }
      },
      "source": [
        "# let us look sample images fom train set\n",
        "data[0]\n",
        "# each element of data contains the PIL.image.image(PIL = Python Imaging Library)\n",
        "# and the label of the image\n",
        "# each image of the shape (28, 28)"
      ],
      "execution_count": 5,
      "outputs": [
        {
          "output_type": "execute_result",
          "data": {
            "text/plain": [
              "(<PIL.Image.Image image mode=L size=28x28 at 0x7FF6A6ED70B8>, 5)"
            ]
          },
          "metadata": {
            "tags": []
          },
          "execution_count": 5
        }
      ]
    },
    {
      "cell_type": "code",
      "metadata": {
        "id": "F1mmruFLH5QP"
      },
      "source": [
        "import matplotlib.pyplot as plt"
      ],
      "execution_count": 6,
      "outputs": []
    },
    {
      "cell_type": "code",
      "metadata": {
        "id": "3fzGDRz2JL5u",
        "outputId": "f8715cfb-7c89-428b-c3c0-ca46247a41b6",
        "colab": {
          "base_uri": "https://localhost:8080/",
          "height": 335
        }
      },
      "source": [
        "# now visualize the images and labels from dataset\n",
        "image, label = data[0]\n",
        "plt.imshow(image, cmap = 'gray')\n",
        "print(label)"
      ],
      "execution_count": 7,
      "outputs": [
        {
          "output_type": "stream",
          "text": [
            "\n",
            "5\n"
          ],
          "name": "stdout"
        },
        {
          "output_type": "display_data",
          "data": {
            "image/png": "[encoded data removed]",
            "text/plain": [
              "<Figure size 432x288 with 1 Axes>"
            ]
          },
          "metadata": {
            "tags": [],
            "needs_background": "light"
          }
        },
        {
          "output_type": "stream",
          "text": [
            "\n",
            "\n"
          ],
          "name": "stdout"
        }
      ]
    },
    {
      "cell_type": "code",
      "metadata": {
        "id": "Ngm02-s3Mh2I"
      },
      "source": [
        "# we need to convert images with tensors, so that pytorch can work with those\n",
        "import torchvision.transforms as transform"
      ],
      "execution_count": 8,
      "outputs": []
    },
    {
      "cell_type": "code",
      "metadata": {
        "id": "k95XxssrxBAT"
      },
      "source": [
        "# so while loading images we will aply the transform\n",
        "from torchvision.datasets import MNIST"
      ],
      "execution_count": 65,
      "outputs": []
    },
    {
      "cell_type": "code",
      "metadata": {
        "id": "k7KyPeijxdxK"
      },
      "source": [
        "# loading the datasets with transform\n",
        "dataset = MNIST(root = '/content/data/MNIST_T',train = True, transform = transform.ToTensor(), download = True)"
      ],
      "execution_count": 66,
      "outputs": []
    },
    {
      "cell_type": "code",
      "metadata": {
        "id": "CsoSmYCMyyFD",
        "outputId": "d39bf834-473a-45a9-b4ed-6e2fc740cb74",
        "colab": {
          "base_uri": "https://localhost:8080/",
          "height": 52
        }
      },
      "source": [
        "print(type(dataset[0][1]))\n",
        "print(type(dataset[0][0]))"
      ],
      "execution_count": 67,
      "outputs": [
        {
          "output_type": "stream",
          "text": [
            "<class 'int'>\n",
            "<class 'torch.Tensor'>\n"
          ],
          "name": "stdout"
        }
      ]
    },
    {
      "cell_type": "code",
      "metadata": {
        "id": "q0Z-1F1jy52w",
        "outputId": "9a742857-5e11-4d19-e8e5-1cb4960efed6",
        "colab": {
          "base_uri": "https://localhost:8080/",
          "height": 34
        }
      },
      "source": [
        "# so whenever the MNIST is instantiated. dataset consists of list of 60,000 images, and \n",
        "# each element consists of image tensor, and int i.e image label\n",
        "img_tensor, label = dataset[0]\n",
        "print(img_tensor.shape)\n",
        "# here 1st dimension is the channel size, nh = 28, nw = 28 \n"
      ],
      "execution_count": 12,
      "outputs": [
        {
          "output_type": "stream",
          "text": [
            "torch.Size([1, 28, 28])\n"
          ],
          "name": "stdout"
        }
      ]
    },
    {
      "cell_type": "code",
      "metadata": {
        "id": "BGD5wv1SzlZ5",
        "outputId": "7c4298a2-a247-4096-f818-e8d017c00bf2",
        "colab": {
          "base_uri": "https://localhost:8080/",
          "height": 300
        }
      },
      "source": [
        "# let's look an image sample\n",
        "plt.imshow(img_tensor.reshape(28,28))"
      ],
      "execution_count": 13,
      "outputs": [
        {
          "output_type": "execute_result",
          "data": {
            "text/plain": [
              "<matplotlib.image.AxesImage at 0x7ff6a6516e48>"
            ]
          },
          "metadata": {
            "tags": []
          },
          "execution_count": 13
        },
        {
          "output_type": "display_data",
          "data": {
            "image/png": "[encoded data removed]",
            "text/plain": [
              "<Figure size 432x288 with 1 Axes>"
            ]
          },
          "metadata": {
            "tags": [],
            "needs_background": "light"
          }
        },
        {
          "output_type": "stream",
          "text": [
            "\n"
          ],
          "name": "stdout"
        }
      ]
    },
    {
      "cell_type": "markdown",
      "metadata": {
        "id": "64CoTG8w1P2F"
      },
      "source": [
        "# Training and Validation set"
      ]
    },
    {
      "cell_type": "code",
      "metadata": {
        "id": "919asYS30YGy"
      },
      "source": [
        "# let us split the dataset into train and validation set\n",
        "import numpy as np\n",
        "\n",
        "# split indics takes length of dataset and validation percentage attribute\n",
        "def split_indices(n, val_pct):\n",
        "\n",
        "  # determind size of validation set\n",
        "  n_val = int(val_pct * n)\n",
        "  # create random permutation between 0 to n-1\n",
        "  indxs = np.random.permutation(n)\n",
        "  # now split indices\n",
        "  # pichk 1st n_val for validation set\n",
        "  return indxs[n_val:], indxs[:n_val]"
      ],
      "execution_count": 84,
      "outputs": []
    },
    {
      "cell_type": "code",
      "metadata": {
        "id": "qMeDBnfZjKNe",
        "outputId": "95fe451c-9f56-4482-e9f8-86363a198237",
        "colab": {
          "base_uri": "https://localhost:8080/",
          "height": 52
        }
      },
      "source": [
        "# we finally get indices corresponds to train and validation splits\n",
        "split_indices(len(dataset), 0.10)"
      ],
      "execution_count": 85,
      "outputs": [
        {
          "output_type": "execute_result",
          "data": {
            "text/plain": [
              "(array([ 6017, 58179, 33261, ..., 19334, 24681, 19675]),\n",
              " array([52100,  8702, 25976, ..., 21090,  9872, 28787]))"
            ]
          },
          "metadata": {
            "tags": []
          },
          "execution_count": 85
        }
      ]
    },
    {
      "cell_type": "code",
      "metadata": {
        "id": "Rnom4o5MjSBz"
      },
      "source": [
        "train_indices, validation_indices = split_indices(len(dataset), val_pct = 0.2)"
      ],
      "execution_count": 86,
      "outputs": []
    },
    {
      "cell_type": "code",
      "metadata": {
        "id": "2eVZHHK6jxWc",
        "outputId": "90c55d96-b79a-4de4-e791-0325acc56647",
        "colab": {
          "base_uri": "https://localhost:8080/",
          "height": 34
        }
      },
      "source": [
        "# size of train and validation set\n",
        "print(len(train_indices), len(validation_indices))"
      ],
      "execution_count": 87,
      "outputs": [
        {
          "output_type": "stream",
          "text": [
            "48000 12000\n"
          ],
          "name": "stdout"
        }
      ]
    },
    {
      "cell_type": "code",
      "metadata": {
        "id": "4tB1gJfukToj"
      },
      "source": [
        "from torch.utils.data.sampler import SubsetRandomSampler\n",
        "from torch.utils.data.dataloader import DataLoader"
      ],
      "execution_count": 88,
      "outputs": []
    },
    {
      "cell_type": "code",
      "metadata": {
        "id": "a4UNrNl7tR2D"
      },
      "source": [
        "batch_size = 100\n",
        "\n",
        "# Samples elements randomly from a given list of indices, without replacement\n",
        "# subsequent random sapler ensures that, sampling wil be done based on indices passed in the train_samples \n",
        "# training sampler and dataloader\n",
        "train_sampler = SubsetRandomSampler(train_indices)\n",
        "train_dl = DataLoader(dataset, batch_size= batch_size, sampler = train_sampler)\n",
        "\n",
        "# validation sampler and dataloader\n",
        "validation_sampler = SubsetRandomSampler(validation_indices)\n",
        "validation_dl = DataLoader(dataset, batch_size= batch_size, sampler = train_sampler)"
      ],
      "execution_count": 89,
      "outputs": []
    },
    {
      "cell_type": "code",
      "metadata": {
        "id": "6rPbKRACur1_",
        "outputId": "8ab8cfbf-a33f-4083-d75f-cdec23365bd6",
        "colab": {
          "base_uri": "https://localhost:8080/",
          "height": 52
        }
      },
      "source": [
        "# so. the train_dl consist of 480 mini batches of data\n",
        "print(len(train_dl))\n",
        "print(len(validation_dl))"
      ],
      "execution_count": 90,
      "outputs": [
        {
          "output_type": "stream",
          "text": [
            "480\n",
            "480\n"
          ],
          "name": "stdout"
        }
      ]
    },
    {
      "cell_type": "code",
      "metadata": {
        "id": "c7e8HQ29uunu"
      },
      "source": [
        "# the above described procedure can simply donw by single line of code random_Split\n",
        "from torch.utils.data import random_split"
      ],
      "execution_count": 91,
      "outputs": []
    },
    {
      "cell_type": "code",
      "metadata": {
        "id": "DUrzdtsRx1i9"
      },
      "source": [
        "validation_pct = 0.2\n",
        "batch_size = 128\n",
        "# in random_split we pass the dataset, then pass the train and validation set lengths as a list of two elements \n",
        "train_ds, validation_ds = random_split(dataset, [int(len(dataset)*(1-validation_pct)), int(len(dataset)*validation_pct)])"
      ],
      "execution_count": 92,
      "outputs": []
    },
    {
      "cell_type": "code",
      "metadata": {
        "id": "09JQNS0sybJl"
      },
      "source": [
        "from torch.utils.data.dataloader import DataLoader\n",
        "\n",
        "# now we create dataloaders using the dataset\n",
        "train_dl = DataLoader(train_ds, shuffle = True, batch_size= batch_size)\n",
        "validation_dl = DataLoader(validation_ds, shuffle = True, batch_size= batch_size)\n"
      ],
      "execution_count": 94,
      "outputs": []
    },
    {
      "cell_type": "code",
      "metadata": {
        "id": "0ioxv-nOVIfx",
        "outputId": "6af20f14-6431-4a8a-cc9a-373c6be8f502",
        "colab": {
          "base_uri": "https://localhost:8080/",
          "height": 34
        }
      },
      "source": [
        "len(train_dl)"
      ],
      "execution_count": 95,
      "outputs": [
        {
          "output_type": "execute_result",
          "data": {
            "text/plain": [
              "375"
            ]
          },
          "metadata": {
            "tags": []
          },
          "execution_count": 95
        }
      ]
    },
    {
      "cell_type": "markdown",
      "metadata": {
        "id": "BpIXPP0_1-2j"
      },
      "source": [
        "# Building the Model"
      ]
    },
    {
      "cell_type": "code",
      "metadata": {
        "id": "hfpANLuR08fG"
      },
      "source": [
        "# we are building the logistic regression\n",
        "from torch import nn\n",
        "\n",
        "input_size = 28 * 28\n",
        "num_classes = 10\n",
        "\n",
        "# model\n",
        "model = nn.Linear(input_size, num_classes)"
      ],
      "execution_count": 96,
      "outputs": []
    },
    {
      "cell_type": "code",
      "metadata": {
        "id": "VngqYxi431eV",
        "outputId": "688daf0d-42cb-4683-8f42-560b4c1db4a1",
        "colab": {
          "base_uri": "https://localhost:8080/",
          "height": 34
        }
      },
      "source": [
        "model.weight.shape"
      ],
      "execution_count": 97,
      "outputs": [
        {
          "output_type": "execute_result",
          "data": {
            "text/plain": [
              "torch.Size([10, 784])"
            ]
          },
          "metadata": {
            "tags": []
          },
          "execution_count": 97
        }
      ]
    },
    {
      "cell_type": "code",
      "metadata": {
        "id": "STG64n9Y35au",
        "outputId": "9d140756-74ce-41f4-a358-565473b4c1db",
        "colab": {
          "base_uri": "https://localhost:8080/",
          "height": 34
        }
      },
      "source": [
        "model.bias.shape"
      ],
      "execution_count": 98,
      "outputs": [
        {
          "output_type": "execute_result",
          "data": {
            "text/plain": [
              "torch.Size([10])"
            ]
          },
          "metadata": {
            "tags": []
          },
          "execution_count": 98
        }
      ]
    },
    {
      "cell_type": "code",
      "metadata": {
        "id": "V_7HWqYl4Q2L",
        "outputId": "fb9a845c-510a-4a46-d2fe-f5a032cecd61",
        "colab": {
          "base_uri": "https://localhost:8080/",
          "height": 494
        }
      },
      "source": [
        "# let use predict labels using the untrained images\n",
        "for images, labels in train_dl:\n",
        "  print(labels)\n",
        "  print(model(images))\n",
        "\n",
        "# so size mismatch, so we need to reshape images before passing into the model"
      ],
      "execution_count": 99,
      "outputs": [
        {
          "output_type": "stream",
          "text": [
            "tensor([8, 4, 9, 6, 9, 0, 5, 0, 6, 4, 1, 5, 8, 2, 0, 6, 1, 9, 6, 6, 9, 5, 3, 3,\n",
            "        4, 9, 3, 0, 5, 2, 3, 1, 4, 2, 1, 8, 5, 7, 5, 1, 0, 6, 5, 0, 4, 3, 5, 0,\n",
            "        0, 7, 4, 7, 1, 8, 4, 0, 3, 2, 4, 7, 3, 5, 6, 3, 2, 3, 9, 0, 9, 1, 0, 2,\n",
            "        5, 4, 9, 6, 5, 1, 5, 7, 9, 8, 4, 9, 3, 3, 1, 5, 6, 5, 0, 3, 8, 5, 3, 2,\n",
            "        9, 6, 3, 2, 5, 1, 6, 7, 3, 0, 7, 9, 8, 1, 5, 7, 3, 1, 6, 5, 5, 2, 0, 1,\n",
            "        7, 6, 6, 0, 1, 7, 5, 2])\n"
          ],
          "name": "stdout"
        },
        {
          "output_type": "error",
          "ename": "RuntimeError",
          "evalue": "ignored",
          "traceback": [
            "\u001b[0;31m---------------------------------------------------------------------------\u001b[0m",
            "\u001b[0;31mRuntimeError\u001b[0m                              Traceback (most recent call last)",
            "\u001b[0;32m<ipython-input-99-2b335db0af79>\u001b[0m in \u001b[0;36m<module>\u001b[0;34m()\u001b[0m\n\u001b[1;32m      2\u001b[0m \u001b[0;32mfor\u001b[0m \u001b[0mimages\u001b[0m\u001b[0;34m,\u001b[0m \u001b[0mlabels\u001b[0m \u001b[0;32min\u001b[0m \u001b[0mtrain_dl\u001b[0m\u001b[0;34m:\u001b[0m\u001b[0;34m\u001b[0m\u001b[0;34m\u001b[0m\u001b[0m\n\u001b[1;32m      3\u001b[0m   \u001b[0mprint\u001b[0m\u001b[0;34m(\u001b[0m\u001b[0mlabels\u001b[0m\u001b[0;34m)\u001b[0m\u001b[0;34m\u001b[0m\u001b[0;34m\u001b[0m\u001b[0m\n\u001b[0;32m----> 4\u001b[0;31m   \u001b[0mprint\u001b[0m\u001b[0;34m(\u001b[0m\u001b[0mmodel\u001b[0m\u001b[0;34m(\u001b[0m\u001b[0mimages\u001b[0m\u001b[0;34m)\u001b[0m\u001b[0;34m)\u001b[0m\u001b[0;34m\u001b[0m\u001b[0;34m\u001b[0m\u001b[0m\n\u001b[0m\u001b[1;32m      5\u001b[0m \u001b[0;34m\u001b[0m\u001b[0m\n\u001b[1;32m      6\u001b[0m \u001b[0;31m# so size mismatch, so we need to reshape images before passing into the model\u001b[0m\u001b[0;34m\u001b[0m\u001b[0;34m\u001b[0m\u001b[0;34m\u001b[0m\u001b[0m\n",
            "\u001b[0;32m/usr/local/lib/python3.6/dist-packages/torch/nn/modules/module.py\u001b[0m in \u001b[0;36m_call_impl\u001b[0;34m(self, *input, **kwargs)\u001b[0m\n\u001b[1;32m    720\u001b[0m             \u001b[0mresult\u001b[0m \u001b[0;34m=\u001b[0m \u001b[0mself\u001b[0m\u001b[0;34m.\u001b[0m\u001b[0m_slow_forward\u001b[0m\u001b[0;34m(\u001b[0m\u001b[0;34m*\u001b[0m\u001b[0minput\u001b[0m\u001b[0;34m,\u001b[0m \u001b[0;34m**\u001b[0m\u001b[0mkwargs\u001b[0m\u001b[0;34m)\u001b[0m\u001b[0;34m\u001b[0m\u001b[0;34m\u001b[0m\u001b[0m\n\u001b[1;32m    721\u001b[0m         \u001b[0;32melse\u001b[0m\u001b[0;34m:\u001b[0m\u001b[0;34m\u001b[0m\u001b[0;34m\u001b[0m\u001b[0m\n\u001b[0;32m--> 722\u001b[0;31m             \u001b[0mresult\u001b[0m \u001b[0;34m=\u001b[0m \u001b[0mself\u001b[0m\u001b[0;34m.\u001b[0m\u001b[0mforward\u001b[0m\u001b[0;34m(\u001b[0m\u001b[0;34m*\u001b[0m\u001b[0minput\u001b[0m\u001b[0;34m,\u001b[0m \u001b[0;34m**\u001b[0m\u001b[0mkwargs\u001b[0m\u001b[0;34m)\u001b[0m\u001b[0;34m\u001b[0m\u001b[0;34m\u001b[0m\u001b[0m\n\u001b[0m\u001b[1;32m    723\u001b[0m         for hook in itertools.chain(\n\u001b[1;32m    724\u001b[0m                 \u001b[0m_global_forward_hooks\u001b[0m\u001b[0;34m.\u001b[0m\u001b[0mvalues\u001b[0m\u001b[0;34m(\u001b[0m\u001b[0;34m)\u001b[0m\u001b[0;34m,\u001b[0m\u001b[0;34m\u001b[0m\u001b[0;34m\u001b[0m\u001b[0m\n",
            "\u001b[0;32m/usr/local/lib/python3.6/dist-packages/torch/nn/modules/linear.py\u001b[0m in \u001b[0;36mforward\u001b[0;34m(self, input)\u001b[0m\n\u001b[1;32m     89\u001b[0m \u001b[0;34m\u001b[0m\u001b[0m\n\u001b[1;32m     90\u001b[0m     \u001b[0;32mdef\u001b[0m \u001b[0mforward\u001b[0m\u001b[0;34m(\u001b[0m\u001b[0mself\u001b[0m\u001b[0;34m,\u001b[0m \u001b[0minput\u001b[0m\u001b[0;34m:\u001b[0m \u001b[0mTensor\u001b[0m\u001b[0;34m)\u001b[0m \u001b[0;34m->\u001b[0m \u001b[0mTensor\u001b[0m\u001b[0;34m:\u001b[0m\u001b[0;34m\u001b[0m\u001b[0;34m\u001b[0m\u001b[0m\n\u001b[0;32m---> 91\u001b[0;31m         \u001b[0;32mreturn\u001b[0m \u001b[0mF\u001b[0m\u001b[0;34m.\u001b[0m\u001b[0mlinear\u001b[0m\u001b[0;34m(\u001b[0m\u001b[0minput\u001b[0m\u001b[0;34m,\u001b[0m \u001b[0mself\u001b[0m\u001b[0;34m.\u001b[0m\u001b[0mweight\u001b[0m\u001b[0;34m,\u001b[0m \u001b[0mself\u001b[0m\u001b[0;34m.\u001b[0m\u001b[0mbias\u001b[0m\u001b[0;34m)\u001b[0m\u001b[0;34m\u001b[0m\u001b[0;34m\u001b[0m\u001b[0m\n\u001b[0m\u001b[1;32m     92\u001b[0m \u001b[0;34m\u001b[0m\u001b[0m\n\u001b[1;32m     93\u001b[0m     \u001b[0;32mdef\u001b[0m \u001b[0mextra_repr\u001b[0m\u001b[0;34m(\u001b[0m\u001b[0mself\u001b[0m\u001b[0;34m)\u001b[0m \u001b[0;34m->\u001b[0m \u001b[0mstr\u001b[0m\u001b[0;34m:\u001b[0m\u001b[0;34m\u001b[0m\u001b[0;34m\u001b[0m\u001b[0m\n",
            "\u001b[0;32m/usr/local/lib/python3.6/dist-packages/torch/nn/functional.py\u001b[0m in \u001b[0;36mlinear\u001b[0;34m(input, weight, bias)\u001b[0m\n\u001b[1;32m   1674\u001b[0m         \u001b[0mret\u001b[0m \u001b[0;34m=\u001b[0m \u001b[0mtorch\u001b[0m\u001b[0;34m.\u001b[0m\u001b[0maddmm\u001b[0m\u001b[0;34m(\u001b[0m\u001b[0mbias\u001b[0m\u001b[0;34m,\u001b[0m \u001b[0minput\u001b[0m\u001b[0;34m,\u001b[0m \u001b[0mweight\u001b[0m\u001b[0;34m.\u001b[0m\u001b[0mt\u001b[0m\u001b[0;34m(\u001b[0m\u001b[0;34m)\u001b[0m\u001b[0;34m)\u001b[0m\u001b[0;34m\u001b[0m\u001b[0;34m\u001b[0m\u001b[0m\n\u001b[1;32m   1675\u001b[0m     \u001b[0;32melse\u001b[0m\u001b[0;34m:\u001b[0m\u001b[0;34m\u001b[0m\u001b[0;34m\u001b[0m\u001b[0m\n\u001b[0;32m-> 1676\u001b[0;31m         \u001b[0moutput\u001b[0m \u001b[0;34m=\u001b[0m \u001b[0minput\u001b[0m\u001b[0;34m.\u001b[0m\u001b[0mmatmul\u001b[0m\u001b[0;34m(\u001b[0m\u001b[0mweight\u001b[0m\u001b[0;34m.\u001b[0m\u001b[0mt\u001b[0m\u001b[0;34m(\u001b[0m\u001b[0;34m)\u001b[0m\u001b[0;34m)\u001b[0m\u001b[0;34m\u001b[0m\u001b[0;34m\u001b[0m\u001b[0m\n\u001b[0m\u001b[1;32m   1677\u001b[0m         \u001b[0;32mif\u001b[0m \u001b[0mbias\u001b[0m \u001b[0;32mis\u001b[0m \u001b[0;32mnot\u001b[0m \u001b[0;32mNone\u001b[0m\u001b[0;34m:\u001b[0m\u001b[0;34m\u001b[0m\u001b[0;34m\u001b[0m\u001b[0m\n\u001b[1;32m   1678\u001b[0m             \u001b[0moutput\u001b[0m \u001b[0;34m+=\u001b[0m \u001b[0mbias\u001b[0m\u001b[0;34m\u001b[0m\u001b[0;34m\u001b[0m\u001b[0m\n",
            "\u001b[0;31mRuntimeError\u001b[0m: size mismatch, m1: [3584 x 28], m2: [784 x 10] at /pytorch/aten/src/TH/generic/THTensorMath.cpp:41"
          ]
        }
      ]
    },
    {
      "cell_type": "code",
      "metadata": {
        "id": "l1BtEjVl4mRD"
      },
      "source": [
        "# creating a custom model class\n",
        "?nn.Module"
      ],
      "execution_count": 100,
      "outputs": []
    },
    {
      "cell_type": "code",
      "metadata": {
        "id": "Ism0Wd4X5JVP",
        "outputId": "ebc74ada-01d8-4cbc-d05d-ba1236701c25",
        "colab": {
          "base_uri": "https://localhost:8080/",
          "height": 34
        }
      },
      "source": [
        "class mult(object):\n",
        "  def ___init__(self):\n",
        "    self.n = 2\n",
        "    print(self.n)\n",
        "    \n",
        "\n",
        "  def forward(self,n):\n",
        "    #print(self.n)\n",
        "    return n ** 2\n",
        "\n",
        "\n",
        "  def __call__(self,n):\n",
        "    c = self.forward(n)\n",
        "    return c\n",
        "\n",
        "m = mult()\n",
        "print(m(2))\n",
        "# this is the way the fowrward function becomes a callable one"
      ],
      "execution_count": 101,
      "outputs": [
        {
          "output_type": "stream",
          "text": [
            "4\n"
          ],
          "name": "stdout"
        }
      ]
    },
    {
      "cell_type": "code",
      "metadata": {
        "id": "clZHIFPq6K-6"
      },
      "source": [
        "# create custom model for implementing the linear regression\n",
        "class MNIST(nn.Module):\n",
        "  def __init__(self):\n",
        "    super().__init__()\n",
        "    self.linear = nn.Linear(input_size, num_classes)\n",
        "  def forward(self, xb):\n",
        "    xb = xb.reshape(-1, 784)\n",
        "    preds = self.linear(xb)\n",
        "    return preds\n",
        "\n",
        "# we have done super.__init__()\n",
        "# as inside constructor of the super class nn.Module the forward class waas made to be callable\n",
        "# as MNISt inherits from nn.Module, thus MNIST object beomes callable with the functionality of forward class"
      ],
      "execution_count": 102,
      "outputs": []
    },
    {
      "cell_type": "code",
      "metadata": {
        "id": "V0h48CDGCt_Y",
        "outputId": "a49d4e0b-25ac-4b01-95f4-7b40e1c6ba19",
        "colab": {
          "base_uri": "https://localhost:8080/",
          "height": 52
        }
      },
      "source": [
        "class mult(object):\n",
        "  def ___init__(self):\n",
        "    sn = forward(2)\n",
        "    print(sn)\n",
        "\n",
        "  def forward(self, n):\n",
        "    self.n = n\n",
        "    print('digit',self.n)\n",
        "    return self.n\n",
        "m = mult()\n",
        "print('called:',m.forward(2))"
      ],
      "execution_count": 103,
      "outputs": [
        {
          "output_type": "stream",
          "text": [
            "digit 2\n",
            "called: 2\n"
          ],
          "name": "stdout"
        }
      ]
    },
    {
      "cell_type": "code",
      "metadata": {
        "id": "JaS-gUGNFVb6"
      },
      "source": [
        "# let us create an object of the custom logistic regression model\n",
        "model = MNIST()\n",
        "for images, labels in train_dl:\n",
        "  outputs = model(images)\n",
        "  break"
      ],
      "execution_count": 104,
      "outputs": []
    },
    {
      "cell_type": "code",
      "metadata": {
        "id": "PVQlJE2LSucf",
        "outputId": "d2bd6e5c-5e7d-42f5-8d72-c9ac2460e632",
        "colab": {
          "base_uri": "https://localhost:8080/",
          "height": 158
        }
      },
      "source": [
        "print(outputs)"
      ],
      "execution_count": 105,
      "outputs": [
        {
          "output_type": "stream",
          "text": [
            "tensor([[ 0.1828, -0.1713,  0.1949,  ...,  0.0699, -0.0189,  0.0969],\n",
            "        [-0.2073, -0.1231,  0.3746,  ..., -0.0708, -0.0240,  0.0619],\n",
            "        [ 0.1279, -0.0381, -0.0290,  ...,  0.0846, -0.0032,  0.0749],\n",
            "        ...,\n",
            "        [ 0.3032,  0.2500, -0.0994,  ...,  0.0212, -0.0891,  0.0094],\n",
            "        [-0.0119,  0.0334,  0.0312,  ...,  0.2194, -0.2466, -0.1131],\n",
            "        [ 0.0385,  0.2139, -0.1818,  ..., -0.0009, -0.1299, -0.0137]],\n",
            "       grad_fn=<AddmmBackward>)\n"
          ],
          "name": "stdout"
        }
      ]
    },
    {
      "cell_type": "code",
      "metadata": {
        "id": "r9jrfG_dTbPH",
        "outputId": "aa8b8fd1-4212-4eac-9970-ca4de539c092",
        "colab": {
          "base_uri": "https://localhost:8080/",
          "height": 34
        }
      },
      "source": [
        "# itreturns outputs for the 1st batch\n",
        "len(outputs)\n",
        "# we see the outputs are different number, if we want the predictions of all ten outputs are added to 1"
      ],
      "execution_count": 106,
      "outputs": [
        {
          "output_type": "execute_result",
          "data": {
            "text/plain": [
              "128"
            ]
          },
          "metadata": {
            "tags": []
          },
          "execution_count": 106
        }
      ]
    },
    {
      "cell_type": "code",
      "metadata": {
        "id": "okeL3-80TpAT"
      },
      "source": [
        "# if we want outputs are predicted sum = 1, which means these 10 events together make copmplete prediction\n",
        "#then ew need to use the default softmax function\n",
        "import torch.nn.functional as F"
      ],
      "execution_count": 107,
      "outputs": []
    },
    {
      "cell_type": "code",
      "metadata": {
        "id": "eqNspLoK0V_6"
      },
      "source": [
        "# apply softmax to output layer\n",
        "# dim = 1, specifies the axis along which the softmax will be computed( axis = 1 for row-wise)\n",
        "probs = F.softmax(outputs, dim = 1)"
      ],
      "execution_count": 108,
      "outputs": []
    },
    {
      "cell_type": "code",
      "metadata": {
        "id": "0m57PvaO1FSo",
        "outputId": "564f99ef-b565-4c11-9ef6-0fdf26076290",
        "colab": {
          "base_uri": "https://localhost:8080/",
          "height": 34
        }
      },
      "source": [
        "len(probs)"
      ],
      "execution_count": 109,
      "outputs": [
        {
          "output_type": "execute_result",
          "data": {
            "text/plain": [
              "128"
            ]
          },
          "metadata": {
            "tags": []
          },
          "execution_count": 109
        }
      ]
    },
    {
      "cell_type": "code",
      "metadata": {
        "id": "OhmzsJ5n1Hdw",
        "outputId": "c25eaf5d-9560-4589-d3cb-375fd66c522c",
        "colab": {
          "base_uri": "https://localhost:8080/",
          "height": 34
        }
      },
      "source": [
        "# to access the value of the predicted element\n",
        "print(probs[0][0].item())"
      ],
      "execution_count": 110,
      "outputs": [
        {
          "output_type": "stream",
          "text": [
            "0.11600590497255325\n"
          ],
          "name": "stdout"
        }
      ]
    },
    {
      "cell_type": "code",
      "metadata": {
        "id": "dI8g-LWk1MDE",
        "outputId": "052a50c3-1f2b-4dc6-ed3c-38d31e71b953",
        "colab": {
          "base_uri": "https://localhost:8080/",
          "height": 34
        }
      },
      "source": [
        "# let's check sum of all the probabilities\n",
        "print(torch.sum(probs[0]))"
      ],
      "execution_count": 111,
      "outputs": [
        {
          "output_type": "stream",
          "text": [
            "tensor(1., grad_fn=<SumBackward0>)\n"
          ],
          "name": "stdout"
        }
      ]
    },
    {
      "cell_type": "code",
      "metadata": {
        "id": "9kE3Km1B1aH_",
        "outputId": "f371c203-6c45-4d92-b703-6d2acc35156c",
        "colab": {
          "base_uri": "https://localhost:8080/",
          "height": 70
        }
      },
      "source": [
        "# let's take the index of max probability for each row\n",
        "max_prob, preds = torch.max(probs, dim = 1)\n",
        "print(max_prob[0].item(), preds[0].item())\n",
        "print(probs[0])\n",
        "# we can say max_prob defines the recognized digit for that particular image"
      ],
      "execution_count": 112,
      "outputs": [
        {
          "output_type": "stream",
          "text": [
            "0.117410808801651 2\n",
            "tensor([0.1160, 0.0814, 0.1174, 0.0824, 0.1105, 0.0752, 0.1122, 0.1036, 0.0948,\n",
            "        0.1065], grad_fn=<SelectBackward>)\n"
          ],
          "name": "stdout"
        }
      ]
    },
    {
      "cell_type": "code",
      "metadata": {
        "id": "fhnfOsDS5GxB",
        "outputId": "6c75eea3-c1ae-4e99-e683-f6fc72287642",
        "colab": {
          "base_uri": "https://localhost:8080/",
          "height": 34
        }
      },
      "source": [
        "print(len(labels),len(preds))"
      ],
      "execution_count": 113,
      "outputs": [
        {
          "output_type": "stream",
          "text": [
            "128 128\n"
          ],
          "name": "stdout"
        }
      ]
    },
    {
      "cell_type": "markdown",
      "metadata": {
        "id": "XY6NP7Bg4uPr"
      },
      "source": [
        "# Cross_entropy for Loss calculation"
      ]
    },
    {
      "cell_type": "markdown",
      "metadata": {
        "id": "rLdQymO1WzDS"
      },
      "source": [
        "A commonly used loss function for classification problems is the cross entropy, which has the following formula:\n",
        "\n",
        "**loss = -(sum(y * log(yhat)) for all datapoints in the minisbatches**\n",
        "yhat = [1st prob,..., 10th prob](we also call it logits scores)\n",
        "\n",
        "y = [1st label, ....., 10th prob](all equal =, correct label = 1)\n",
        "ex: if any digit is 5, then\n",
        "y = [0,0,0,0,1,0,0,0,0,0]\n",
        "(we pass a single label as integer,\n",
        "\n",
        "**Thus, this one hot encoding of labels are done by the cross_entropy function** "
      ]
    },
    {
      "cell_type": "code",
      "metadata": {
        "id": "pWG1a4q62Qio"
      },
      "source": [
        "# for this kind of categorical data, where all the predictions add upto 1, then\n",
        "loss_fn = F.cross_entropy"
      ],
      "execution_count": 114,
      "outputs": []
    },
    {
      "cell_type": "code",
      "metadata": {
        "id": "3R7dLgbI5Nad"
      },
      "source": [
        "loss = loss_fn(probs, labels)"
      ],
      "execution_count": 115,
      "outputs": []
    },
    {
      "cell_type": "code",
      "metadata": {
        "id": "UdSnIWKK5uce",
        "outputId": "23ef38b8-25c1-41de-df00-78c11ff89f23",
        "colab": {
          "base_uri": "https://localhost:8080/",
          "height": 34
        }
      },
      "source": [
        "print(loss)"
      ],
      "execution_count": 116,
      "outputs": [
        {
          "output_type": "stream",
          "text": [
            "tensor(2.3075, grad_fn=<NllLossBackward>)\n"
          ],
          "name": "stdout"
        }
      ]
    },
    {
      "cell_type": "code",
      "metadata": {
        "id": "eW4b8LQC57e6",
        "outputId": "fccd3989-6a43-4996-97a8-a432fc5e3cc5",
        "colab": {
          "base_uri": "https://localhost:8080/",
          "height": 123
        }
      },
      "source": [
        "labels"
      ],
      "execution_count": 117,
      "outputs": [
        {
          "output_type": "execute_result",
          "data": {
            "text/plain": [
              "tensor([3, 5, 1, 1, 5, 3, 2, 0, 5, 0, 1, 3, 2, 5, 8, 2, 2, 3, 1, 6, 2, 9, 1, 7,\n",
              "        7, 8, 9, 8, 8, 6, 4, 7, 8, 0, 2, 1, 5, 0, 7, 9, 5, 4, 4, 1, 5, 4, 3, 3,\n",
              "        0, 4, 9, 8, 9, 0, 8, 7, 3, 4, 3, 8, 0, 8, 4, 2, 3, 2, 1, 5, 1, 8, 2, 5,\n",
              "        6, 5, 7, 5, 3, 0, 9, 5, 9, 4, 6, 0, 6, 9, 0, 5, 0, 2, 5, 4, 7, 3, 8, 2,\n",
              "        8, 7, 5, 1, 0, 7, 6, 0, 1, 1, 6, 1, 5, 0, 5, 9, 4, 8, 3, 1, 0, 8, 8, 5,\n",
              "        1, 2, 6, 1, 5, 7, 6, 7])"
            ]
          },
          "metadata": {
            "tags": []
          },
          "execution_count": 117
        }
      ]
    },
    {
      "cell_type": "code",
      "metadata": {
        "id": "q8yRYvlO5-iq",
        "outputId": "8233288f-873d-45fb-dcfa-651fb88a3c9f",
        "colab": {
          "base_uri": "https://localhost:8080/",
          "height": 34
        }
      },
      "source": [
        "len(labels)"
      ],
      "execution_count": 118,
      "outputs": [
        {
          "output_type": "execute_result",
          "data": {
            "text/plain": [
              "128"
            ]
          },
          "metadata": {
            "tags": []
          },
          "execution_count": 118
        }
      ]
    },
    {
      "cell_type": "code",
      "metadata": {
        "id": "jvfaP-QpTqA7",
        "outputId": "9a645d69-7c5f-4a46-d0c7-f96476b713da",
        "colab": {
          "base_uri": "https://localhost:8080/",
          "height": 158
        }
      },
      "source": [
        "print(probs)"
      ],
      "execution_count": 122,
      "outputs": [
        {
          "output_type": "stream",
          "text": [
            "tensor([[0.1160, 0.0814, 0.1174,  ..., 0.1036, 0.0948, 0.1065],\n",
            "        [0.0779, 0.0848, 0.1395,  ..., 0.0893, 0.0936, 0.1020],\n",
            "        [0.1140, 0.0966, 0.0974,  ..., 0.1092, 0.1000, 0.1081],\n",
            "        ...,\n",
            "        [0.1308, 0.1240, 0.0875,  ..., 0.0987, 0.0884, 0.0975],\n",
            "        [0.0945, 0.0988, 0.0986,  ..., 0.1190, 0.0747, 0.0854],\n",
            "        [0.1080, 0.1287, 0.0867,  ..., 0.1039, 0.0913, 0.1025]],\n",
            "       grad_fn=<SoftmaxBackward>)\n"
          ],
          "name": "stdout"
        }
      ]
    },
    {
      "cell_type": "markdown",
      "metadata": {
        "id": "icNjkKH9Zxsn"
      },
      "source": [
        "# Evaluation Metric and Loss function"
      ]
    },
    {
      "cell_type": "code",
      "metadata": {
        "id": "kujP_wuBVhiu"
      },
      "source": [
        "# torch.sum(pr == labels).item() returns the sum of results of correct predictions(1 for correct, 0 for incorrect)\n",
        "def accuracy(probs, labels):\n",
        "  _, pr = torch.max(probs, dim = 1)\n",
        "  return torch.tensor(torch.sum(pr == labels).item()/len(pr))"
      ],
      "execution_count": 163,
      "outputs": []
    },
    {
      "cell_type": "code",
      "metadata": {
        "id": "CNrAFICUa6YH",
        "outputId": "b1b7cb13-0805-4b77-e2e9-e223eadd1427",
        "colab": {
          "base_uri": "https://localhost:8080/",
          "height": 34
        }
      },
      "source": [
        "accuracy(probs, labels)"
      ],
      "execution_count": 164,
      "outputs": [
        {
          "output_type": "execute_result",
          "data": {
            "text/plain": [
              "tensor(0.0469)"
            ]
          },
          "metadata": {
            "tags": []
          },
          "execution_count": 164
        }
      ]
    },
    {
      "cell_type": "markdown",
      "metadata": {
        "id": "LuZIUX2lcn_j"
      },
      "source": [
        "# Training the Model"
      ]
    },
    {
      "cell_type": "code",
      "metadata": {
        "id": "po0Zb0zJa9iQ"
      },
      "source": [
        "class MnistModel(nn.Module):\n",
        "  def __init__(self):\n",
        "    super().__init__()\n",
        "    self.linear = nn.Linear(input_size, num_classes)\n",
        "\n",
        "  def forward(self, xb):\n",
        "    xb = xb.reshape(-1, 784)\n",
        "    out = self.linear(xb)\n",
        "    return out\n",
        "  \n",
        "  def training_step(self, batch):\n",
        "    images, label = batch\n",
        "    out = self(images)                     # Generate predictions\n",
        "    loss = F.cross_entropy(out, label)    # Calculate loss\n",
        "    return loss\n",
        "\n",
        "  def validation_step(self, batch):\n",
        "    images, labels = batch\n",
        "    out = self(images)\n",
        "    loss = F.cross_entropy(out, labels)\n",
        "    acc = accuracy(out, labels)                # Calculate accuracy\n",
        "    return {'val_loss': loss, 'val_acc':acc}\n",
        "\n",
        "  def validation_epoch_end(self, outputs):\n",
        "    batch_losses = [x['val_loss'] for x in outputs]\n",
        "    # Concatenates sequence of tensors along a new dimension.\n",
        "    epoch_loss = torch.stack(batch_losses).mean()       # Combine losses\n",
        "    batch_accs = [x['val_acc'] for x in outputs]\n",
        "    epoch_acc = torch.stack(batch_accs).mean()          # Combine accuracies\n",
        "    return {'val_loss': epoch_loss.item(), 'val_acc': epoch_acc.item()}\n",
        "\n",
        "  def epoch_end(self, epoch, result):\n",
        "    print('Epoch [{}], val_loss: {:.4f}, val_acc: {:.4f}'.format(epoch, result['val_loss'], result['val_acc']))\n",
        "\n",
        "model = MnistModel()"
      ],
      "execution_count": 182,
      "outputs": []
    },
    {
      "cell_type": "code",
      "metadata": {
        "id": "Qv7dIqlxi3_i"
      },
      "source": [
        "import torch\n",
        "\n",
        "def evaluate(model, val_loader):\n",
        "    outputs = [model.validation_step(batch) for batch in val_loader]\n",
        "    return model.validation_epoch_end(outputs)\n",
        "\n",
        "# let us build the fit function for training the model\n",
        "def fit(epochs, lr, model, train_dl, validation_dl, opt_func = torch.optim.SGD):\n",
        "  history = []\n",
        "  optimizer = opt_func(model.parameters(), lr)\n",
        "  for epoch in range(epochs):\n",
        "    # training phase\n",
        "    for batch in train_dl:\n",
        "      loss = model.training_step(batch)\n",
        "      loss.backward()\n",
        "      optimizer.step()\n",
        "      optimizer.zero_grad()\n",
        "    # validation phase\n",
        "    result = evaluate(model, validation_dl)\n",
        "    model.epoch_end(epoch, result)\n",
        "    history.append(result)\n",
        "  return history\n"
      ],
      "execution_count": 183,
      "outputs": []
    },
    {
      "cell_type": "code",
      "metadata": {
        "id": "7X8OCysxmE4C",
        "outputId": "861859a3-d954-40c0-ca19-8729628ef613",
        "colab": {
          "base_uri": "https://localhost:8080/",
          "height": 372
        }
      },
      "source": [
        "history = fit(20, 0.001, model, train_dl, validation_dl)"
      ],
      "execution_count": 184,
      "outputs": [
        {
          "output_type": "stream",
          "text": [
            "Epoch [0], val_loss: 1.9522, val_acc: 0.6309\n",
            "Epoch [1], val_loss: 1.6869, val_acc: 0.7450\n",
            "Epoch [2], val_loss: 1.4869, val_acc: 0.7826\n",
            "Epoch [3], val_loss: 1.3341, val_acc: 0.7999\n",
            "Epoch [4], val_loss: 1.2161, val_acc: 0.8103\n",
            "Epoch [5], val_loss: 1.1227, val_acc: 0.8175\n",
            "Epoch [6], val_loss: 1.0479, val_acc: 0.8238\n",
            "Epoch [7], val_loss: 0.9872, val_acc: 0.8281\n",
            "Epoch [8], val_loss: 0.9358, val_acc: 0.8324\n",
            "Epoch [9], val_loss: 0.8927, val_acc: 0.8352\n",
            "Epoch [10], val_loss: 0.8561, val_acc: 0.8391\n",
            "Epoch [11], val_loss: 0.8241, val_acc: 0.8411\n",
            "Epoch [12], val_loss: 0.7960, val_acc: 0.8434\n",
            "Epoch [13], val_loss: 0.7711, val_acc: 0.8453\n",
            "Epoch [14], val_loss: 0.7492, val_acc: 0.8472\n",
            "Epoch [15], val_loss: 0.7294, val_acc: 0.8493\n",
            "Epoch [16], val_loss: 0.7115, val_acc: 0.8511\n",
            "Epoch [17], val_loss: 0.6956, val_acc: 0.8528\n",
            "Epoch [18], val_loss: 0.6811, val_acc: 0.8548\n",
            "Epoch [19], val_loss: 0.6675, val_acc: 0.8565\n"
          ],
          "name": "stdout"
        }
      ]
    },
    {
      "cell_type": "code",
      "metadata": {
        "id": "m4WtDwe4mTQ-",
        "outputId": "718a07c7-be54-4990-cc47-870903420f09",
        "colab": {
          "base_uri": "https://localhost:8080/",
          "height": 34
        }
      },
      "source": [
        "result0 = evaluate(model, validation_dl)\n",
        "result0"
      ],
      "execution_count": 185,
      "outputs": [
        {
          "output_type": "execute_result",
          "data": {
            "text/plain": [
              "{'val_acc': 0.8564661145210266, 'val_loss': 0.6672582626342773}"
            ]
          },
          "metadata": {
            "tags": []
          },
          "execution_count": 185
        }
      ]
    },
    {
      "cell_type": "code",
      "metadata": {
        "id": "OWJtyZF5xlPt",
        "outputId": "6c5b5391-fa14-439e-88d8-3a0bec057f0a",
        "colab": {
          "base_uri": "https://localhost:8080/",
          "height": 105
        }
      },
      "source": [
        "history1 = fit(5, 0.001, model, train_dl, validation_dl)"
      ],
      "execution_count": 176,
      "outputs": [
        {
          "output_type": "stream",
          "text": [
            "Epoch [0], val_loss: 2.3374, val_acc: 0.0757\n",
            "Epoch [1], val_loss: 2.3378, val_acc: 0.0769\n",
            "Epoch [2], val_loss: 2.3355, val_acc: 0.0770\n",
            "Epoch [3], val_loss: 2.3343, val_acc: 0.0772\n",
            "Epoch [4], val_loss: 2.3353, val_acc: 0.0767\n"
          ],
          "name": "stdout"
        }
      ]
    },
    {
      "cell_type": "code",
      "metadata": {
        "id": "LGJdEOFDwJnF"
      },
      "source": [
        "history = [result0]"
      ],
      "execution_count": 173,
      "outputs": []
    },
    {
      "cell_type": "code",
      "metadata": {
        "id": "Crqdtcc6xtME",
        "outputId": "10764326-5d71-46a5-d35c-a17dfe7efb8b",
        "colab": {
          "base_uri": "https://localhost:8080/",
          "height": 105
        }
      },
      "source": [
        "\n",
        "history2 = fit(5, 0.001, model, train_dl, validation_dl)"
      ],
      "execution_count": 177,
      "outputs": [
        {
          "output_type": "stream",
          "text": [
            "Epoch [0], val_loss: 2.3344, val_acc: 0.0770\n",
            "Epoch [1], val_loss: 2.3347, val_acc: 0.0778\n",
            "Epoch [2], val_loss: 2.3357, val_acc: 0.0779\n",
            "Epoch [3], val_loss: 2.3348, val_acc: 0.0777\n",
            "Epoch [4], val_loss: 2.3356, val_acc: 0.0777\n"
          ],
          "name": "stdout"
        }
      ]
    },
    {
      "cell_type": "code",
      "metadata": {
        "id": "WB1EKqidx6hf",
        "outputId": "30bdfb48-53ce-4ce9-b094-75e6a45c7f2a",
        "colab": {
          "base_uri": "https://localhost:8080/",
          "height": 105
        }
      },
      "source": [
        "history3 = fit(5, 0.001, model, train_dl, validation_dl)"
      ],
      "execution_count": 179,
      "outputs": [
        {
          "output_type": "stream",
          "text": [
            "Epoch [0], val_loss: 2.3352, val_acc: 0.0779\n",
            "Epoch [1], val_loss: 2.3368, val_acc: 0.0775\n",
            "Epoch [2], val_loss: 2.3356, val_acc: 0.0775\n",
            "Epoch [3], val_loss: 2.3366, val_acc: 0.0774\n",
            "Epoch [4], val_loss: 2.3373, val_acc: 0.0773\n"
          ],
          "name": "stdout"
        }
      ]
    },
    {
      "cell_type": "code",
      "metadata": {
        "id": "9ZZR1H4ByNQn"
      },
      "source": [
        "history = [result0] + history1 + history2 + history3"
      ],
      "execution_count": 180,
      "outputs": []
    },
    {
      "cell_type": "code",
      "metadata": {
        "id": "VbUPvpptwcjG",
        "outputId": "ead8d0f1-77b8-477e-faf5-4f47a9c55f39",
        "colab": {
          "base_uri": "https://localhost:8080/",
          "height": 282
        }
      },
      "source": [
        "accuracies = [result['val_acc'] for result in history]\n",
        "plt.plot(accuracies)"
      ],
      "execution_count": 186,
      "outputs": [
        {
          "output_type": "execute_result",
          "data": {
            "text/plain": [
              "[<matplotlib.lines.Line2D at 0x7ff69c5c6a58>]"
            ]
          },
          "metadata": {
            "tags": []
          },
          "execution_count": 186
        },
        {
          "output_type": "display_data",
          "data": {
            "image/png": "[encoded data removed]",
            "text/plain": [
              "<Figure size 432x288 with 1 Axes>"
            ]
          },
          "metadata": {
            "tags": [],
            "needs_background": "light"
          }
        }
      ]
    },
    {
      "cell_type": "markdown",
      "metadata": {
        "id": "pbzeI3p0zGh8"
      },
      "source": [
        "# Testing the model with individual images"
      ]
    },
    {
      "cell_type": "code",
      "metadata": {
        "id": "dl1bQypIwkFN"
      },
      "source": [
        "import torchvision.transforms as transform \n",
        "from torchvision.datasets import MNIST\n",
        "test_dataset = MNIST(root = '/content/data/MNIST_T', download = True, transform = transform.ToTensor())"
      ],
      "execution_count": 189,
      "outputs": []
    },
    {
      "cell_type": "code",
      "metadata": {
        "id": "Tx-D-idQzpcN",
        "outputId": "def5abcb-4efd-457a-b17f-fcbf58a1e328",
        "colab": {
          "base_uri": "https://localhost:8080/",
          "height": 282
        }
      },
      "source": [
        "img, label = test_dataset[1]\n",
        "plt.imshow(img.reshape(28,28), cmap = 'gray')\n",
        "plt.show()\n",
        "print('Label: ', label)"
      ],
      "execution_count": 196,
      "outputs": [
        {
          "output_type": "display_data",
          "data": {
            "image/png": "[encoded data removed]",
            "text/plain": [
              "<Figure size 432x288 with 1 Axes>"
            ]
          },
          "metadata": {
            "tags": [],
            "needs_background": "light"
          }
        },
        {
          "output_type": "stream",
          "text": [
            "Label:  0\n"
          ],
          "name": "stdout"
        }
      ]
    },
    {
      "cell_type": "code",
      "metadata": {
        "id": "SrvLVmbR0bU7"
      },
      "source": [
        "pred = model(img)"
      ],
      "execution_count": 197,
      "outputs": []
    },
    {
      "cell_type": "code",
      "metadata": {
        "id": "Bqa2mJDL1QUT",
        "outputId": "03ac240c-c8e6-4c19-bb21-eb31f18dac4b",
        "colab": {
          "base_uri": "https://localhost:8080/",
          "height": 34
        }
      },
      "source": [
        "print('Predicted label: ', torch.max(pred, dim = 1)[1].item())\n",
        "# perfect prediction"
      ],
      "execution_count": 200,
      "outputs": [
        {
          "output_type": "stream",
          "text": [
            "Predicted label:  0\n"
          ],
          "name": "stdout"
        }
      ]
    },
    {
      "cell_type": "markdown",
      "metadata": {
        "id": "HXsArlsA2t1T"
      },
      "source": [
        "# Saving and Loading the model"
      ]
    },
    {
      "cell_type": "code",
      "metadata": {
        "id": "x-iLiadG1eJg"
      },
      "source": [
        "torch.save(model.state_dict(), 'mnist-logistic.pth')"
      ],
      "execution_count": 201,
      "outputs": []
    },
    {
      "cell_type": "code",
      "metadata": {
        "id": "A6szEOPn58Pi",
        "outputId": "8245d1be-b4bf-41e9-9912-21032635cc4b",
        "colab": {
          "base_uri": "https://localhost:8080/",
          "height": 212
        }
      },
      "source": [
        "model.state_dict()"
      ],
      "execution_count": 203,
      "outputs": [
        {
          "output_type": "execute_result",
          "data": {
            "text/plain": [
              "OrderedDict([('linear.weight',\n",
              "              tensor([[ 0.0247, -0.0181, -0.0178,  ..., -0.0094,  0.0270,  0.0339],\n",
              "                      [-0.0104, -0.0246, -0.0330,  ...,  0.0221,  0.0321,  0.0157],\n",
              "                      [ 0.0167, -0.0354,  0.0160,  ...,  0.0286, -0.0319, -0.0054],\n",
              "                      ...,\n",
              "                      [-0.0252, -0.0162, -0.0276,  ..., -0.0168, -0.0130, -0.0127],\n",
              "                      [ 0.0112,  0.0157,  0.0161,  ..., -0.0186,  0.0087,  0.0002],\n",
              "                      [ 0.0263, -0.0240,  0.0219,  ...,  0.0047, -0.0257, -0.0133]])),\n",
              "             ('linear.bias',\n",
              "              tensor([-0.0772,  0.1086, -0.0448, -0.0183,  0.0587,  0.0122, -0.0378,  0.0666,\n",
              "                      -0.0741, -0.0019]))])"
            ]
          },
          "metadata": {
            "tags": []
          },
          "execution_count": 203
        }
      ]
    },
    {
      "cell_type": "code",
      "metadata": {
        "id": "pKmNwYb35-jo"
      },
      "source": [
        "# load weights into the model\n",
        "model2 = MnistModel()"
      ],
      "execution_count": 204,
      "outputs": []
    },
    {
      "cell_type": "code",
      "metadata": {
        "id": "FeODeXm16Lhg",
        "outputId": "2650d7fd-e9d1-477d-bf96-0269e53b27a1",
        "colab": {
          "base_uri": "https://localhost:8080/",
          "height": 34
        }
      },
      "source": [
        "model2.load_state_dict(torch.load('mnist-logistic.pth'))"
      ],
      "execution_count": 205,
      "outputs": [
        {
          "output_type": "execute_result",
          "data": {
            "text/plain": [
              "<All keys matched successfully>"
            ]
          },
          "metadata": {
            "tags": []
          },
          "execution_count": 205
        }
      ]
    },
    {
      "cell_type": "code",
      "metadata": {
        "id": "XJAFAMfL6U0p",
        "outputId": "858b10ef-38f2-4de9-a817-e7acb94fe9d7",
        "colab": {
          "base_uri": "https://localhost:8080/",
          "height": 212
        }
      },
      "source": [
        "model2.state_dict()"
      ],
      "execution_count": 206,
      "outputs": [
        {
          "output_type": "execute_result",
          "data": {
            "text/plain": [
              "OrderedDict([('linear.weight',\n",
              "              tensor([[ 0.0247, -0.0181, -0.0178,  ..., -0.0094,  0.0270,  0.0339],\n",
              "                      [-0.0104, -0.0246, -0.0330,  ...,  0.0221,  0.0321,  0.0157],\n",
              "                      [ 0.0167, -0.0354,  0.0160,  ...,  0.0286, -0.0319, -0.0054],\n",
              "                      ...,\n",
              "                      [-0.0252, -0.0162, -0.0276,  ..., -0.0168, -0.0130, -0.0127],\n",
              "                      [ 0.0112,  0.0157,  0.0161,  ..., -0.0186,  0.0087,  0.0002],\n",
              "                      [ 0.0263, -0.0240,  0.0219,  ...,  0.0047, -0.0257, -0.0133]])),\n",
              "             ('linear.bias',\n",
              "              tensor([-0.0772,  0.1086, -0.0448, -0.0183,  0.0587,  0.0122, -0.0378,  0.0666,\n",
              "                      -0.0741, -0.0019]))])"
            ]
          },
          "metadata": {
            "tags": []
          },
          "execution_count": 206
        }
      ]
    },
    {
      "cell_type": "code",
      "metadata": {
        "id": "SIEOi7Ph6XYn"
      },
      "source": [
        "# this the way we can save and load the model parameters"
      ],
      "execution_count": 207,
      "outputs": []
    },
    {
      "cell_type": "code",
      "metadata": {
        "id": "lTzuO7bk6c7A"
      },
      "source": [
        ""
      ],
      "execution_count": null,
      "outputs": []
    }
  ]
}