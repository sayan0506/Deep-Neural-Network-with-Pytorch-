{
  "nbformat": 4,
  "nbformat_minor": 0,
  "metadata": {
    "colab": {
      "name": "Pytorch for Deep Learning Course(Basics).ipynb",
      "provenance": [],
      "collapsed_sections": [],
      "authorship_tag": "ABX9TyPEK4Wj4bV3U5Uwzx5qxdCB",
      "include_colab_link": true
    },
    "kernelspec": {
      "name": "python3",
      "display_name": "Python 3"
    }
  },
  "cells": [
    {
      "cell_type": "markdown",
      "metadata": {
        "id": "view-in-github",
        "colab_type": "text"
      },
      "source": [
        "<a href=\"https://colab.research.google.com/github/sayan0506/Deep-Neural-Network-with-Pytorch-/blob/main/Pytorch_for_Deep_Learning_Course(Basics).ipynb\" target=\"_parent\"><img src=\"https://colab.research.google.com/assets/colab-badge.svg\" alt=\"Open In Colab\"/></a>"
      ]
    },
    {
      "cell_type": "code",
      "metadata": {
        "id": "oSV1ZXdFdIY8"
      },
      "source": [
        "import torch"
      ],
      "execution_count": null,
      "outputs": []
    },
    {
      "cell_type": "code",
      "metadata": {
        "id": "7oQhvOs-dYd_"
      },
      "source": [
        "# we are creating a 0 dimensional tensor of type float32\n",
        "# tensors are heart of Deep lEarning\n",
        "# pytorch is a deep learning framework\n",
        "t1 = torch.tensor(4.0, dtype = torch.float32)"
      ],
      "execution_count": null,
      "outputs": []
    },
    {
      "cell_type": "code",
      "metadata": {
        "id": "2dL6ABYhoT-4",
        "outputId": "11249766-a97b-4864-c0ce-aa4d2deeeeb6",
        "colab": {
          "base_uri": "https://localhost:8080/",
          "height": 34
        }
      },
      "source": [
        "# we can find details\n",
        "# it is the datatype of the values stored in the tensor\n",
        "t1.dtype"
      ],
      "execution_count": null,
      "outputs": [
        {
          "output_type": "execute_result",
          "data": {
            "text/plain": [
              "torch.float32"
            ]
          },
          "metadata": {
            "tags": []
          },
          "execution_count": 145
        }
      ]
    },
    {
      "cell_type": "code",
      "metadata": {
        "id": "t9ZZ-PZmopwk",
        "outputId": "de3e1904-eb02-4d65-d9b3-35023f716677",
        "colab": {
          "base_uri": "https://localhost:8080/",
          "height": 34
        }
      },
      "source": [
        "# type of tensor\n",
        "t1.type"
      ],
      "execution_count": null,
      "outputs": [
        {
          "output_type": "execute_result",
          "data": {
            "text/plain": [
              "<function Tensor.type>"
            ]
          },
          "metadata": {
            "tags": []
          },
          "execution_count": 146
        }
      ]
    },
    {
      "cell_type": "code",
      "metadata": {
        "id": "TmFD8rh1ozlM",
        "outputId": "b2547bd8-e602-4680-8d70-41d3b0d5fa3f",
        "colab": {
          "base_uri": "https://localhost:8080/",
          "height": 34
        }
      },
      "source": [
        "# creatinfg tensor from a list\n",
        "t2 = torch.tensor([1,2,3])\n",
        "print(t2)"
      ],
      "execution_count": null,
      "outputs": [
        {
          "output_type": "stream",
          "text": [
            "tensor([1, 2, 3])\n"
          ],
          "name": "stdout"
        }
      ]
    },
    {
      "cell_type": "code",
      "metadata": {
        "id": "LmmAb2Noo-jg",
        "outputId": "b0a31303-25e0-48f9-a9c5-8cb3174b2709",
        "colab": {
          "base_uri": "https://localhost:8080/",
          "height": 70
        }
      },
      "source": [
        "# creating tensor from matrix\n",
        "t3 = torch.tensor([[1,2],[3,4],[5,6]], dtype = torch.float32)\n",
        "print(t3)"
      ],
      "execution_count": null,
      "outputs": [
        {
          "output_type": "stream",
          "text": [
            "tensor([[1., 2.],\n",
            "        [3., 4.],\n",
            "        [5., 6.]])\n"
          ],
          "name": "stdout"
        }
      ]
    },
    {
      "cell_type": "code",
      "metadata": {
        "id": "7JRtxGVBpCVE",
        "outputId": "392a9107-e254-4fa1-ca6d-ec11a08279f3",
        "colab": {
          "base_uri": "https://localhost:8080/",
          "height": 52
        }
      },
      "source": [
        "# checking the dimension of the tensor\n",
        "# a tensor should have a regular no of shape, if we change length in the sequence of rows, then it will throw error, so should be uniform in shape\n",
        "# like no of elements in each row will be the same\n",
        "print('shape: ', t3.shape)\n",
        "print(t3.ndimension())"
      ],
      "execution_count": null,
      "outputs": [
        {
          "output_type": "stream",
          "text": [
            "shape:  torch.Size([3, 2])\n",
            "2\n"
          ],
          "name": "stdout"
        }
      ]
    },
    {
      "cell_type": "markdown",
      "metadata": {
        "id": "UtvidaPZteCw"
      },
      "source": [
        "# Tensor operation and gradient"
      ]
    },
    {
      "cell_type": "code",
      "metadata": {
        "id": "wjTwF4FEs73G"
      },
      "source": [
        "# creating three tensors\n",
        "x = torch.tensor(3, dtype = torch.float32)\n",
        "# here we are passing the requires_grad = True, so as to ensure that, ptorch can calculate gradient of that 0 d tensor with the help of backward porpagation\n",
        "w = torch.tensor(4, dtype = torch.float32, requires_grad=True)\n",
        "b = torch.tensor(5, dtype = torch.float32, requires_grad=True)"
      ],
      "execution_count": null,
      "outputs": []
    },
    {
      "cell_type": "code",
      "metadata": {
        "id": "-hhZZny_mVQY",
        "outputId": "c7223bb0-f6b8-4856-854a-8da1d6fb43ca",
        "colab": {
          "base_uri": "https://localhost:8080/",
          "height": 34
        }
      },
      "source": [
        "# linear regression(univariant)\n",
        "y = w * x + b\n",
        "print(y)"
      ],
      "execution_count": null,
      "outputs": [
        {
          "output_type": "stream",
          "text": [
            "tensor(17., grad_fn=<AddBackward0>)\n"
          ],
          "name": "stdout"
        }
      ]
    },
    {
      "cell_type": "code",
      "metadata": {
        "id": "WTpNZiAnnJ-d"
      },
      "source": [
        "# compute derivatives\n",
        "y.backward()"
      ],
      "execution_count": null,
      "outputs": []
    },
    {
      "cell_type": "code",
      "metadata": {
        "id": "Hv2vMOruoKQy",
        "outputId": "da03ffc6-b95c-4757-bcd3-bd6405eaec63",
        "colab": {
          "base_uri": "https://localhost:8080/",
          "height": 70
        }
      },
      "source": [
        "print('dy/dx:', x.grad)\n",
        "print('dy/dw:', w.grad)\n",
        "print('dy/db:', b.grad.data)"
      ],
      "execution_count": null,
      "outputs": [
        {
          "output_type": "stream",
          "text": [
            "dy/dx: None\n",
            "dy/dw: tensor(3.)\n",
            "dy/db: tensor(1.)\n"
          ],
          "name": "stdout"
        }
      ]
    },
    {
      "cell_type": "markdown",
      "metadata": {
        "id": "QOvtzJ5UomhG"
      },
      "source": [
        "# Interoperability with Numpy"
      ]
    },
    {
      "cell_type": "code",
      "metadata": {
        "id": "dBMBtlMiodFq",
        "outputId": "92dd5c39-2699-48e8-d785-48bfed741719",
        "colab": {
          "base_uri": "https://localhost:8080/",
          "height": 34
        }
      },
      "source": [
        "# we can easily convert pytorch to numpy or vice-versa\n",
        "# torch to numpy\n",
        "print(y.detach().numpy())"
      ],
      "execution_count": null,
      "outputs": [
        {
          "output_type": "stream",
          "text": [
            "17.0\n"
          ],
          "name": "stdout"
        }
      ]
    },
    {
      "cell_type": "code",
      "metadata": {
        "id": "U0o_WRWKpCqh",
        "outputId": "184c77ba-1a3c-4137-ac28-99fa293f6633",
        "colab": {
          "base_uri": "https://localhost:8080/",
          "height": 34
        }
      },
      "source": [
        "# numpy to torch\n",
        "import numpy as np\n",
        "\n",
        "print(torch.from_numpy(np.array([1,2,3])))"
      ],
      "execution_count": null,
      "outputs": [
        {
          "output_type": "stream",
          "text": [
            "tensor([1, 2, 3])\n"
          ],
          "name": "stdout"
        }
      ]
    },
    {
      "cell_type": "markdown",
      "metadata": {
        "id": "p-Z9C4lYqYdk"
      },
      "source": [
        "y.backward() works for any complex function, which is differentiable"
      ]
    },
    {
      "cell_type": "code",
      "metadata": {
        "id": "b7HY4WnEpYHB"
      },
      "source": [
        "# create random weights and biases tensors\n",
        "w = torch.randn(2,3, requires_grad=True)\n",
        "b = torch.randn(2, requires_grad= True)"
      ],
      "execution_count": null,
      "outputs": []
    },
    {
      "cell_type": "code",
      "metadata": {
        "id": "ghL6fQiU3BOl",
        "outputId": "2d26f6ed-dd02-4071-9d53-9fc717dd2508",
        "colab": {
          "base_uri": "https://localhost:8080/",
          "height": 70
        }
      },
      "source": [
        "print(w)\n",
        "print(b)"
      ],
      "execution_count": null,
      "outputs": [
        {
          "output_type": "stream",
          "text": [
            "tensor([[-1.2110, -0.3444,  1.2513],\n",
            "        [-3.2996,  0.2650,  0.9479]], requires_grad=True)\n",
            "tensor([-0.7569, -0.8342], requires_grad=True)\n"
          ],
          "name": "stdout"
        }
      ]
    },
    {
      "cell_type": "code",
      "metadata": {
        "id": "M6-2QaNZ3Byx"
      },
      "source": [
        "# creating the linear regression model\n",
        "# as w is multiplies with transpose thus. w.t() is the transpose of w\n",
        "# in pytorch @ represents the matrix multiplication for torch tensors\n",
        "def model(x):\n",
        "  return x @ w.t() + b\n"
      ],
      "execution_count": null,
      "outputs": []
    },
    {
      "cell_type": "code",
      "metadata": {
        "id": "yaboiNIe33AA"
      },
      "source": [
        "# create inputs and targets tensors for the model\n",
        "inputs = np.array([[73, 67, 43],\n",
        "                   [91, 88, 64],\n",
        "                   [87, 134, 58]], dtype = np.float32)\n",
        "targets = np.array([[56, 70],\n",
        "                    [81, 101],\n",
        "                    [119, 133]], dtype = np.float32)"
      ],
      "execution_count": null,
      "outputs": []
    },
    {
      "cell_type": "code",
      "metadata": {
        "id": "hTXnj5rhaVy-"
      },
      "source": [
        "# converting to pytorch tensors\n",
        "inputs = torch.from_numpy(inputs)\n",
        "targets = torch.from_numpy(targets)"
      ],
      "execution_count": null,
      "outputs": []
    },
    {
      "cell_type": "code",
      "metadata": {
        "id": "Ib6OtK8MazVz",
        "outputId": "0514a1ba-5690-41c7-80bf-edd8a8fed628",
        "colab": {
          "base_uri": "https://localhost:8080/",
          "height": 123
        }
      },
      "source": [
        "print(inputs)\n",
        "print(targets)"
      ],
      "execution_count": null,
      "outputs": [
        {
          "output_type": "stream",
          "text": [
            "tensor([[ 73.,  67.,  43.],\n",
            "        [ 91.,  88.,  64.],\n",
            "        [ 87., 134.,  58.]])\n",
            "tensor([[ 56.,  70.],\n",
            "        [ 81., 101.],\n",
            "        [119., 133.]])\n"
          ],
          "name": "stdout"
        }
      ]
    },
    {
      "cell_type": "code",
      "metadata": {
        "id": "e_gdFOJ_a3Cz"
      },
      "source": [
        "# our data consist of 3 datapoints, each with 2 input features"
      ],
      "execution_count": null,
      "outputs": []
    },
    {
      "cell_type": "code",
      "metadata": {
        "id": "wkltHBuTbCF7",
        "outputId": "59102954-a329-4f81-9d13-840530ad47f8",
        "colab": {
          "base_uri": "https://localhost:8080/",
          "height": 70
        }
      },
      "source": [
        "# for model training creating a w and b\n",
        "w = torch.randn(2,3, requires_grad=True)\n",
        "b = torch.randn(2, requires_grad= True)\n",
        "print(w)\n",
        "print(b)"
      ],
      "execution_count": null,
      "outputs": [
        {
          "output_type": "stream",
          "text": [
            "tensor([[ 0.7570, -0.4780, -0.1573],\n",
            "        [-0.1857,  0.4784, -0.3220]], requires_grad=True)\n",
            "tensor([-0.3627,  0.2528], requires_grad=True)\n"
          ],
          "name": "stdout"
        }
      ]
    },
    {
      "cell_type": "code",
      "metadata": {
        "id": "1Ia8GrnLbvPz",
        "outputId": "1e1edf6a-3a0b-4460-e16e-a56dc2e4934f",
        "colab": {
          "base_uri": "https://localhost:8080/",
          "height": 70
        }
      },
      "source": [
        "preds = model(inputs)\n",
        "print(inputs)"
      ],
      "execution_count": null,
      "outputs": [
        {
          "output_type": "stream",
          "text": [
            "tensor([[ 73.,  67.,  43.],\n",
            "        [ 91.,  88.,  64.],\n",
            "        [ 87., 134.,  58.]])\n"
          ],
          "name": "stdout"
        }
      ]
    },
    {
      "cell_type": "code",
      "metadata": {
        "id": "zIsVvzP7cZRA",
        "outputId": "b6fdd53c-db2e-4fc0-accf-1c4322980752",
        "colab": {
          "base_uri": "https://localhost:8080/",
          "height": 34
        }
      },
      "source": [
        "# defining a function for mean squared error\n",
        "def mse(t1, t2):\n",
        "  return torch.mean((t1 - t2)**2)\n",
        "print(mse(targets, preds))"
      ],
      "execution_count": null,
      "outputs": [
        {
          "output_type": "stream",
          "text": [
            "tensor(7667.0249, grad_fn=<MeanBackward0>)\n"
          ],
          "name": "stdout"
        }
      ]
    },
    {
      "cell_type": "code",
      "metadata": {
        "id": "Sf3z3fhldX8x"
      },
      "source": [
        "# so loss is too high, thus we need to tune the parameters to reduce the loss"
      ],
      "execution_count": null,
      "outputs": []
    },
    {
      "cell_type": "code",
      "metadata": {
        "id": "yOcVu5R_dhOg",
        "outputId": "55cfd95d-295e-4da2-8699-09b2328eb917",
        "colab": {
          "base_uri": "https://localhost:8080/",
          "height": 87
        }
      },
      "source": [
        "loss = mse(targets, preds)\n",
        "loss.backward()\n",
        "print(w)\n",
        "print(w.grad)"
      ],
      "execution_count": null,
      "outputs": [
        {
          "output_type": "stream",
          "text": [
            "tensor([[ 0.7570, -0.4780, -0.1573],\n",
            "        [-0.1857,  0.4784, -0.3220]], requires_grad=True)\n",
            "tensor([[-6603.6880, -8443.8613, -4398.8945],\n",
            "        [-7501.6909, -8896.4922, -4985.0059]])\n"
          ],
          "name": "stdout"
        }
      ]
    },
    {
      "cell_type": "code",
      "metadata": {
        "id": "wL5geuFydzGZ",
        "outputId": "dfacc300-fb96-4db9-d6f7-35cd7f0d129a",
        "colab": {
          "base_uri": "https://localhost:8080/",
          "height": 34
        }
      },
      "source": [
        "print(b.grad)"
      ],
      "execution_count": null,
      "outputs": [
        {
          "output_type": "stream",
          "text": [
            "tensor([-77.0540, -88.2445])\n"
          ],
          "name": "stdout"
        }
      ]
    },
    {
      "cell_type": "code",
      "metadata": {
        "id": "bLkkjujheHuo",
        "outputId": "f4c65357-608f-4683-b44d-cb240723b0c1",
        "colab": {
          "base_uri": "https://localhost:8080/",
          "height": 52
        }
      },
      "source": [
        "# setting grads to zero\n",
        "\n",
        "w.grad.zero_()\n",
        "b.grad.zero_()\n",
        "print(w.grad, b.grad)"
      ],
      "execution_count": null,
      "outputs": [
        {
          "output_type": "stream",
          "text": [
            "tensor([[0., 0., 0.],\n",
            "        [0., 0., 0.]]) tensor([0., 0.])\n"
          ],
          "name": "stdout"
        }
      ]
    },
    {
      "cell_type": "code",
      "metadata": {
        "id": "64OLPqNhfNe_"
      },
      "source": [
        "# adjusting weights and biases with Gradient descent\n",
        "# we can't subtract gradient from w, so we introduce learning rate, i.e we include fraction or rate of grads, and by which we can also say that\n",
        "# VVIMP: using learning rate we can continue to maintain the variance of the w.grad as constant, i.e maintain the grads in a limit\n",
        "with torch.no_grad():\n",
        "  w -= w.grad * 1e-5\n",
        "  b -= b.grad * 1e-5\n",
        "  w.grad.zero_()\n",
        "  b.grad.zero_()\n",
        "\n",
        "# here we are using with torch.no_grad() which ensures pytorch that, it should not do any grad calculation while subtracting"
      ],
      "execution_count": null,
      "outputs": []
    },
    {
      "cell_type": "code",
      "metadata": {
        "id": "lGQAfGtqfZLn"
      },
      "source": [
        "# in python for instant help about a module \n",
        "?torch"
      ],
      "execution_count": null,
      "outputs": []
    },
    {
      "cell_type": "code",
      "metadata": {
        "id": "UrPrkNA8kH71",
        "outputId": "8f8aaf6e-5de7-4df5-aafa-7dab2a4d97f6",
        "colab": {
          "base_uri": "https://localhost:8080/",
          "height": 34
        }
      },
      "source": [
        "# as inputs is a tensor, to find out the value stored in the tensor instead of 0 d tensor, we use tensor.item()\n",
        "inputs[0][0].item() "
      ],
      "execution_count": null,
      "outputs": [
        {
          "output_type": "execute_result",
          "data": {
            "text/plain": [
              "73.0"
            ]
          },
          "metadata": {
            "tags": []
          },
          "execution_count": 172
        }
      ]
    },
    {
      "cell_type": "code",
      "metadata": {
        "id": "SGR-ROvcleaJ"
      },
      "source": [
        "# to reduce the loss run several epochs\n",
        "for i in range(10000):\n",
        "  preds = model(inputs)\n",
        "  loss = mse(preds,targets)\n",
        "  loss.backward()\n",
        "  with torch.no_grad():\n",
        "    w -= w.grad * 1e-05\n",
        "    b -= b.grad * 1e-05\n",
        "    w.grad.zero_()\n",
        "    b.grad.zero_()"
      ],
      "execution_count": null,
      "outputs": []
    },
    {
      "cell_type": "code",
      "metadata": {
        "id": "4tQwIn4DjT1B",
        "outputId": "f80bd6c6-68db-4625-deb3-c98f75e94c1c",
        "colab": {
          "base_uri": "https://localhost:8080/",
          "height": 34
        }
      },
      "source": [
        "print(mse(preds, targets))"
      ],
      "execution_count": null,
      "outputs": [
        {
          "output_type": "stream",
          "text": [
            "tensor(2.2123, grad_fn=<MeanBackward0>)\n"
          ],
          "name": "stdout"
        }
      ]
    },
    {
      "cell_type": "markdown",
      "metadata": {
        "id": "Q6Apkoftk0fK"
      },
      "source": [
        "# Using nn modules in pytorch"
      ]
    },
    {
      "cell_type": "code",
      "metadata": {
        "id": "iaAB1FmVjaPs"
      },
      "source": [
        "import torch.nn as nn "
      ],
      "execution_count": null,
      "outputs": []
    },
    {
      "cell_type": "code",
      "metadata": {
        "id": "_QXdAGSpk-Ts"
      },
      "source": [
        "# inputs\n",
        "# for pytorch linear model, default type is float32\n",
        "\n",
        "inputs = np.array([[73, 67, 43], [91,88,64],[87,134,58],[102,43,37],\n",
        "                   [69, 96, 70], [87,134,58], [102,43,37],[91,88,64]], dtype = 'float32')\n",
        "# targets\n",
        "targets = np.array([[56,70],[81,101],[119,133],[22,37],[103,119],\n",
        "                    [119, 133],[22,37],[81,101]], dtype = 'float32')"
      ],
      "execution_count": null,
      "outputs": []
    },
    {
      "cell_type": "code",
      "metadata": {
        "id": "gLrV8-tjl3Vp"
      },
      "source": [
        "# converting to pytorch tensors\n",
        "inputs = torch.from_numpy(inputs)\n",
        "targets = torch.from_numpy(targets)"
      ],
      "execution_count": null,
      "outputs": []
    },
    {
      "cell_type": "code",
      "metadata": {
        "id": "iP5CDa9e4GP6",
        "outputId": "c88d7779-0680-4c1c-80cc-98be61bea72a",
        "colab": {
          "base_uri": "https://localhost:8080/",
          "height": 34
        }
      },
      "source": [
        "print(inputs[0])"
      ],
      "execution_count": null,
      "outputs": [
        {
          "output_type": "stream",
          "text": [
            "tensor([73., 67., 43.])\n"
          ],
          "name": "stdout"
        }
      ]
    },
    {
      "cell_type": "markdown",
      "metadata": {
        "id": "6n10dog4r369"
      },
      "source": [
        "# Dataset and dataloader"
      ]
    },
    {
      "cell_type": "code",
      "metadata": {
        "id": "6b1SHqMco2vP"
      },
      "source": [
        "# the dataset or Tensordataset helps to access the rows of pytorch tensor or the dataset in a more efficient way\n",
        "from torch.utils.data import TensorDataset"
      ],
      "execution_count": null,
      "outputs": []
    },
    {
      "cell_type": "code",
      "metadata": {
        "id": "C1JLsFfmsxVW",
        "outputId": "915345fd-bcc7-4f4c-f24b-bb4c833eeab6",
        "colab": {
          "base_uri": "https://localhost:8080/",
          "height": 105
        }
      },
      "source": [
        "# creating instance of the TensorDataset class\n",
        "train_ds = TensorDataset(inputs, targets)\n",
        "train_ds[0:3]"
      ],
      "execution_count": null,
      "outputs": [
        {
          "output_type": "execute_result",
          "data": {
            "text/plain": [
              "(tensor([[ 73.,  67.,  43.],\n",
              "         [ 91.,  88.,  64.],\n",
              "         [ 87., 134.,  58.]]), tensor([[ 56.,  70.],\n",
              "         [ 81., 101.],\n",
              "         [119., 133.]]))"
            ]
          },
          "metadata": {
            "tags": []
          },
          "execution_count": 180
        }
      ]
    },
    {
      "cell_type": "code",
      "metadata": {
        "id": "zXuO0DbLtQE9",
        "outputId": "66c9a0c3-5b5a-4fc6-a5c0-47b0e1d939a9",
        "colab": {
          "base_uri": "https://localhost:8080/",
          "height": 34
        }
      },
      "source": [
        "train_ds[0]"
      ],
      "execution_count": null,
      "outputs": [
        {
          "output_type": "execute_result",
          "data": {
            "text/plain": [
              "(tensor([73., 67., 43.]), tensor([56., 70.]))"
            ]
          },
          "metadata": {
            "tags": []
          },
          "execution_count": 181
        }
      ]
    },
    {
      "cell_type": "code",
      "metadata": {
        "id": "yi1zMNRNtUdX"
      },
      "source": [
        "# so with the help of TensorDataset the (input, target) pair is created\n",
        "# we passed inputs(x), targets(y) in the constructor of the TensorDataset class"
      ],
      "execution_count": null,
      "outputs": []
    },
    {
      "cell_type": "code",
      "metadata": {
        "id": "xJzmbH1ttltc",
        "outputId": "ef5109cc-2fbe-4cbb-eebc-fe61da1ffd0b",
        "colab": {
          "base_uri": "https://localhost:8080/",
          "height": 70
        }
      },
      "source": [
        "# we can print row numbers\n",
        "train_ds.__getitem__([0,1])"
      ],
      "execution_count": null,
      "outputs": [
        {
          "output_type": "execute_result",
          "data": {
            "text/plain": [
              "(tensor([[73., 67., 43.],\n",
              "         [91., 88., 64.]]), tensor([[ 56.,  70.],\n",
              "         [ 81., 101.]]))"
            ]
          },
          "metadata": {
            "tags": []
          },
          "execution_count": 183
        }
      ]
    },
    {
      "cell_type": "code",
      "metadata": {
        "id": "ic1sfL8yvmPF"
      },
      "source": [
        "# by default a python list is created with that name of the object whe,ever, the TensorDataset class is instantiated\n",
        "# TensorDataset helped to create the datasets for training,\n",
        "# wheras the Dataloader helps to access the datapoints from the dataset\n",
        "# we can create batches of data and so on, even we can use transforms on the data"
      ],
      "execution_count": null,
      "outputs": []
    },
    {
      "cell_type": "code",
      "metadata": {
        "id": "DSOltPSvwBhK"
      },
      "source": [
        "from torch.utils.data import DataLoader"
      ],
      "execution_count": null,
      "outputs": []
    },
    {
      "cell_type": "code",
      "metadata": {
        "id": "GvoAuclqwthy"
      },
      "source": [
        "# define data loader\n",
        "batch_size = 5\n",
        "train_dl = DataLoader(train_ds, batch_size=batch_size, shuffle=True)"
      ],
      "execution_count": null,
      "outputs": []
    },
    {
      "cell_type": "code",
      "metadata": {
        "id": "RsXWaG5hw-0v",
        "outputId": "68e00921-87ef-400c-a667-99f9a55828c5",
        "colab": {
          "base_uri": "https://localhost:8080/",
          "height": 212
        }
      },
      "source": [
        "# so what dataloader object does, it creates a batch of minibtch size = 5, and it shuffles the samples while loading the data\n",
        "for i, (xb, yb) in enumerate(train_dl):\n",
        "  print(xb)\n",
        "  print(yb)\n",
        "  print(i)\n",
        "  break\n",
        "  # so what we see is, dataloader creates list of 2 minibatches, where 1st minibatch consists of 5 samples"
      ],
      "execution_count": null,
      "outputs": [
        {
          "output_type": "stream",
          "text": [
            "tensor([[ 87., 134.,  58.],\n",
            "        [ 91.,  88.,  64.],\n",
            "        [ 91.,  88.,  64.],\n",
            "        [ 69.,  96.,  70.],\n",
            "        [102.,  43.,  37.]])\n",
            "tensor([[119., 133.],\n",
            "        [ 81., 101.],\n",
            "        [ 81., 101.],\n",
            "        [103., 119.],\n",
            "        [ 22.,  37.]])\n",
            "0\n"
          ],
          "name": "stdout"
        }
      ]
    },
    {
      "cell_type": "markdown",
      "metadata": {
        "id": "qcXupFwgzJMZ"
      },
      "source": [
        "#Defining Linear regression and Gradient descent using Pytorch default **nn** module"
      ]
    },
    {
      "cell_type": "code",
      "metadata": {
        "id": "0FeAdGnHyRtt"
      },
      "source": [
        "# define model\n",
        "# nn.Linear helps to create a linear regression model having input_features = 3, and output = 2\n",
        "# so weights and bias matetrices are made accordingly\n",
        " \n",
        "model = nn.Linear(in_features = 3, out_features=2)"
      ],
      "execution_count": null,
      "outputs": []
    },
    {
      "cell_type": "code",
      "metadata": {
        "id": "ubaGuklUyZiI",
        "outputId": "b4e36c23-1c6d-4a27-88e5-bec72497192b",
        "colab": {
          "base_uri": "https://localhost:8080/",
          "height": 70
        }
      },
      "source": [
        "print(model.weight)"
      ],
      "execution_count": null,
      "outputs": [
        {
          "output_type": "stream",
          "text": [
            "Parameter containing:\n",
            "tensor([[ 0.5175, -0.4879, -0.0941],\n",
            "        [-0.0574, -0.3247, -0.2902]], requires_grad=True)\n"
          ],
          "name": "stdout"
        }
      ]
    },
    {
      "cell_type": "code",
      "metadata": {
        "id": "S8XWl3FB1jJ6",
        "outputId": "37892215-af94-462e-a4c7-33c4ed7e2eb6",
        "colab": {
          "base_uri": "https://localhost:8080/",
          "height": 52
        }
      },
      "source": [
        "print(model.bias)"
      ],
      "execution_count": null,
      "outputs": [
        {
          "output_type": "stream",
          "text": [
            "Parameter containing:\n",
            "tensor([-0.5000, -0.4349], requires_grad=True)\n"
          ],
          "name": "stdout"
        }
      ]
    },
    {
      "cell_type": "code",
      "metadata": {
        "id": "KQbKN3_m1sGb"
      },
      "source": [
        "# we can see that, linear regression creates a neural network gaving single layer, consisting two nodes or output nodes\n",
        "# that is why shape of the weight matrix = (3,2)"
      ],
      "execution_count": null,
      "outputs": []
    },
    {
      "cell_type": "code",
      "metadata": {
        "id": "7FBOVAkH13RQ",
        "outputId": "8e6c3ff6-2e92-4d60-8880-27c37865054f",
        "colab": {
          "base_uri": "https://localhost:8080/",
          "height": 301
        }
      },
      "source": [
        "preds = model(inputs)\n",
        "print(preds)\n",
        "print(model.__call__(inputs))\n",
        "# we can see here model object is callable with the built_in __call__() fn\n",
        "# so in python if we want to make the object callable\n",
        "# define the functionality which is callable with object name\n",
        "# create a function named __call__() and write the functionality\n",
        "# then the object of the class will be callable, as it will overload the function __call__()\n",
        "# this is the procesudre to make any object callable"
      ],
      "execution_count": null,
      "outputs": [
        {
          "output_type": "stream",
          "text": [
            "tensor([[  0.5482, -38.8626],\n",
            "        [ -2.3566, -52.8100],\n",
            "        [-26.3035, -65.7750],\n",
            "        [ 27.8289, -30.9943],\n",
            "        [-18.2091, -55.8852],\n",
            "        [-26.3035, -65.7750],\n",
            "        [ 27.8289, -30.9943],\n",
            "        [ -2.3566, -52.8100]], grad_fn=<AddmmBackward>)\n",
            "tensor([[  0.5482, -38.8626],\n",
            "        [ -2.3566, -52.8100],\n",
            "        [-26.3035, -65.7750],\n",
            "        [ 27.8289, -30.9943],\n",
            "        [-18.2091, -55.8852],\n",
            "        [-26.3035, -65.7750],\n",
            "        [ 27.8289, -30.9943],\n",
            "        [ -2.3566, -52.8100]], grad_fn=<AddmmBackward>)\n"
          ],
          "name": "stdout"
        }
      ]
    },
    {
      "cell_type": "markdown",
      "metadata": {
        "id": "D_BHSPR65Duz"
      },
      "source": [
        "# Loss function"
      ]
    },
    {
      "cell_type": "code",
      "metadata": {
        "id": "bHIIbUGB200P"
      },
      "source": [
        "# using built-in loss function  instead of defining los function manually"
      ],
      "execution_count": null,
      "outputs": []
    },
    {
      "cell_type": "code",
      "metadata": {
        "id": "N3wWUQZF5YFQ"
      },
      "source": [
        "import torch.nn.functional as F"
      ],
      "execution_count": null,
      "outputs": []
    },
    {
      "cell_type": "code",
      "metadata": {
        "id": "pqEq5PxH5eZi",
        "outputId": "b79d4cee-2dda-41dd-b2a2-06eb0ff810d1",
        "colab": {
          "base_uri": "https://localhost:8080/",
          "height": 34
        }
      },
      "source": [
        "# define the loss\n",
        "loss_fn = F.mse_loss\n",
        "loss = loss_fn(model(inputs), targets)\n",
        "print(loss)"
      ],
      "execution_count": null,
      "outputs": [
        {
          "output_type": "stream",
          "text": [
            "tensor(15748.6045, grad_fn=<MseLossBackward>)\n"
          ],
          "name": "stdout"
        }
      ]
    },
    {
      "cell_type": "markdown",
      "metadata": {
        "id": "MglOPqnZAYpo"
      },
      "source": [
        "# Optimizer"
      ]
    },
    {
      "cell_type": "code",
      "metadata": {
        "id": "VtYo28sj64mS"
      },
      "source": [
        "# we are implementing the Stochastic gradient descent optimizer, using the built-in function\n",
        "opt = torch.optim.SGD(params = model.parameters(), lr = 1e-05)\n",
        "# we pass the model parameters which helps to optimize the model\n",
        "# we also pass the learning rate\n",
        "# we call it stochastic as sample are selected by random sampling"
      ],
      "execution_count": null,
      "outputs": []
    },
    {
      "cell_type": "code",
      "metadata": {
        "id": "7_2AU7xKBk0Y"
      },
      "source": [
        "# create a fit method to implement the model training\n",
        "def fit(epochs, model, loss_fn, train_dl, opt):\n",
        "\n",
        "  # train models for given number of epochs\n",
        "  for epoch in range(epochs):\n",
        "\n",
        "    # fetching the batches from dataloader\n",
        "    for xb, yb in train_dl:\n",
        "      # predicting the output\n",
        "      pred = model(xb)  \n",
        "\n",
        "      # obtain loss\n",
        "      loss = loss_fn(pred, yb)\n",
        "\n",
        "      # backprop\n",
        "      loss.backward()\n",
        "\n",
        "      # update parameters, (w- lr*dw(w.grad))\n",
        "      opt.step()\n",
        "\n",
        "      # resets grads to zero\n",
        "      opt.zero_grad()\n",
        "    \n",
        "    # print the progress\n",
        "    if (epoch + 1)%10 == 0:\n",
        "      print(loss.item())\n",
        "\n"
      ],
      "execution_count": null,
      "outputs": []
    },
    {
      "cell_type": "code",
      "metadata": {
        "id": "0J7i10NCGkN_",
        "outputId": "c00cc532-6c52-453a-9859-62e1bf273020",
        "colab": {
          "base_uri": "https://localhost:8080/",
          "height": 194
        }
      },
      "source": [
        "fit(100, model, loss_fn, train_dl, opt)"
      ],
      "execution_count": null,
      "outputs": [
        {
          "output_type": "stream",
          "text": [
            "1014.05615234375\n",
            "248.6985321044922\n",
            "552.512939453125\n",
            "460.6492614746094\n",
            "360.4355773925781\n",
            "288.8053894042969\n",
            "207.04139709472656\n",
            "31.735305786132812\n",
            "126.95266723632812\n",
            "89.17733001708984\n"
          ],
          "name": "stdout"
        }
      ]
    },
    {
      "cell_type": "code",
      "metadata": {
        "id": "6PlSiev4Gq1s"
      },
      "source": [
        ""
      ],
      "execution_count": null,
      "outputs": []
    }
  ]
}